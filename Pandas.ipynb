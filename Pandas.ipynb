{
  "nbformat": 4,
  "nbformat_minor": 5,
  "metadata": {
    "kernelspec": {
      "display_name": "Python 3",
      "language": "python",
      "name": "python3"
    },
    "language_info": {
      "codemirror_mode": {
        "name": "ipython",
        "version": 3
      },
      "file_extension": ".py",
      "mimetype": "text/x-python",
      "name": "python",
      "nbconvert_exporter": "python",
      "pygments_lexer": "ipython3",
      "version": "3.8.8"
    },
    "colab": {
      "name": "Pandas.ipynb",
      "provenance": [],
      "collapsed_sections": [],
      "include_colab_link": true
    }
  },
  "cells": [
    {
      "cell_type": "markdown",
      "metadata": {
        "id": "view-in-github",
        "colab_type": "text"
      },
      "source": [
        "<a href=\"https://colab.research.google.com/github/Rimroid/Study_File/blob/main/Pandas.ipynb\" target=\"_parent\"><img src=\"https://colab.research.google.com/assets/colab-badge.svg\" alt=\"Open In Colab\"/></a>"
      ]
    },
    {
      "cell_type": "markdown",
      "metadata": {
        "id": "b7976f08"
      },
      "source": [
        "# Pandas"
      ],
      "id": "b7976f08"
    },
    {
      "cell_type": "markdown",
      "metadata": {
        "id": "e7c57acf"
      },
      "source": [
        "## 자료구조 : Seires와 Dataframe\n",
        "\n",
        "Pandas에서 제공하는 데이터 자료구조는 Series와 Dataframe 두가지가 존재하는데 Series는 시계열과 유사한 데이터로서 index와 value가 존재하고 Dataframe은 딕셔너리데이터를 매트릭스 형태로 만들어 준 것 같은 frame을 가지고 있다. 이런 데이터 구조를 통해 시계열, 비시계열 데이터를 통합하여 다룰 수 있다."
      ],
      "id": "e7c57acf"
    },
    {
      "cell_type": "code",
      "metadata": {
        "id": "6be3b84e"
      },
      "source": [
        "import pandas"
      ],
      "id": "6be3b84e",
      "execution_count": null,
      "outputs": []
    },
    {
      "cell_type": "markdown",
      "metadata": {
        "id": "cf4b0154"
      },
      "source": [
        "## Serise"
      ],
      "id": "cf4b0154"
    },
    {
      "cell_type": "code",
      "metadata": {
        "id": "e9c6544d"
      },
      "source": [
        "from pandas import Series, DataFrame\n",
        "import pandas as pd"
      ],
      "id": "e9c6544d",
      "execution_count": null,
      "outputs": []
    },
    {
      "cell_type": "code",
      "metadata": {
        "id": "bd0889d5"
      },
      "source": [
        "fruit = Series([2500,3800,1200,6000], index=['apple','banana','peer','cherry'])"
      ],
      "id": "bd0889d5",
      "execution_count": null,
      "outputs": []
    },
    {
      "cell_type": "code",
      "metadata": {
        "colab": {
          "base_uri": "https://localhost:8080/"
        },
        "id": "98224b25",
        "outputId": "597b24de-e91f-47e8-c425-ac75df0d5a5f"
      },
      "source": [
        "fruit"
      ],
      "id": "98224b25",
      "execution_count": null,
      "outputs": [
        {
          "output_type": "execute_result",
          "data": {
            "text/plain": [
              "apple     2500\n",
              "banana    3800\n",
              "peer      1200\n",
              "cherry    6000\n",
              "dtype: int64"
            ]
          },
          "metadata": {
            "tags": []
          },
          "execution_count": 9
        }
      ]
    },
    {
      "cell_type": "code",
      "metadata": {
        "colab": {
          "base_uri": "https://localhost:8080/"
        },
        "id": "d0bb7b40",
        "outputId": "596eb65c-8dc8-4564-9639-b4b8a155ad5c"
      },
      "source": [
        "print(fruit.values)"
      ],
      "id": "d0bb7b40",
      "execution_count": null,
      "outputs": [
        {
          "output_type": "stream",
          "text": [
            "[2500 3800 1200 6000]\n"
          ],
          "name": "stdout"
        }
      ]
    },
    {
      "cell_type": "code",
      "metadata": {
        "colab": {
          "base_uri": "https://localhost:8080/"
        },
        "id": "7896c994",
        "outputId": "fd8d5681-2489-49ea-df89-1c6cbaca0fa4"
      },
      "source": [
        "print(fruit.index)"
      ],
      "id": "7896c994",
      "execution_count": null,
      "outputs": [
        {
          "output_type": "stream",
          "text": [
            "Index(['apple', 'banana', 'peer', 'cherry'], dtype='object')\n"
          ],
          "name": "stdout"
        }
      ]
    },
    {
      "cell_type": "markdown",
      "metadata": {
        "id": "c14bb02b"
      },
      "source": [
        "Series의 형태는 딕션어리와 매우 유사하나 Key가 index로 바뀐 정도가 아니라 데이터 구조 자체가 매우 다릅니다."
      ],
      "id": "c14bb02b"
    },
    {
      "cell_type": "code",
      "metadata": {
        "id": "cab366f6"
      },
      "source": [
        "fruitData = {'apple':2500,'banana':3800,'peer':1200,'cherry':6000}\n",
        "fruit = Series(fruitData)"
      ],
      "id": "cab366f6",
      "execution_count": null,
      "outputs": []
    },
    {
      "cell_type": "code",
      "metadata": {
        "colab": {
          "base_uri": "https://localhost:8080/"
        },
        "id": "73d68695",
        "outputId": "9878cb34-85b8-40e3-c859-b1b8f719644d"
      },
      "source": [
        "print(type(fruitData),type(fruit))"
      ],
      "id": "73d68695",
      "execution_count": null,
      "outputs": [
        {
          "output_type": "stream",
          "text": [
            "<class 'dict'> <class 'pandas.core.series.Series'>\n"
          ],
          "name": "stdout"
        }
      ]
    },
    {
      "cell_type": "code",
      "metadata": {
        "id": "492d761a"
      },
      "source": [
        "fruit.name = 'fruitPrice'"
      ],
      "id": "492d761a",
      "execution_count": null,
      "outputs": []
    },
    {
      "cell_type": "code",
      "metadata": {
        "colab": {
          "base_uri": "https://localhost:8080/"
        },
        "id": "2cc2ae00",
        "outputId": "a70baa86-d7d8-45a8-8d34-35d5d8951c1c"
      },
      "source": [
        "fruit"
      ],
      "id": "2cc2ae00",
      "execution_count": null,
      "outputs": [
        {
          "output_type": "execute_result",
          "data": {
            "text/plain": [
              "apple     2500\n",
              "banana    3800\n",
              "peer      1200\n",
              "cherry    6000\n",
              "Name: fruitPrice, dtype: int64"
            ]
          },
          "metadata": {
            "tags": []
          },
          "execution_count": 15
        }
      ]
    },
    {
      "cell_type": "code",
      "metadata": {
        "id": "7d4d8cef"
      },
      "source": [
        "fruit.index.name  = 'fruitName'"
      ],
      "id": "7d4d8cef",
      "execution_count": null,
      "outputs": []
    },
    {
      "cell_type": "code",
      "metadata": {
        "colab": {
          "base_uri": "https://localhost:8080/"
        },
        "id": "2aa09890",
        "outputId": "ece7fbb9-b203-4c32-d1c6-3e1471006cff"
      },
      "source": [
        "fruit"
      ],
      "id": "2aa09890",
      "execution_count": null,
      "outputs": [
        {
          "output_type": "execute_result",
          "data": {
            "text/plain": [
              "fruitName\n",
              "apple     2500\n",
              "banana    3800\n",
              "peer      1200\n",
              "cherry    6000\n",
              "Name: fruitPrice, dtype: int64"
            ]
          },
          "metadata": {
            "tags": []
          },
          "execution_count": 17
        }
      ]
    },
    {
      "cell_type": "code",
      "metadata": {
        "id": "ab858b51"
      },
      "source": [
        "fruitData = {'fruitName':['apple','banana','cherry','peer'],\n",
        "             'fruitPrice':[2500,3800,6000,1200],\n",
        "             'num':[10,5,3,8]}"
      ],
      "id": "ab858b51",
      "execution_count": null,
      "outputs": []
    },
    {
      "cell_type": "code",
      "metadata": {
        "colab": {
          "base_uri": "https://localhost:8080/"
        },
        "id": "c8c4e929",
        "outputId": "7ffc079f-6932-418a-aed0-b414b5300069"
      },
      "source": [
        "type(fruitData)"
      ],
      "id": "c8c4e929",
      "execution_count": null,
      "outputs": [
        {
          "output_type": "execute_result",
          "data": {
            "text/plain": [
              "dict"
            ]
          },
          "metadata": {
            "tags": []
          },
          "execution_count": 19
        }
      ]
    },
    {
      "cell_type": "code",
      "metadata": {
        "id": "d75bf57b"
      },
      "source": [
        "fruitFrame = DataFrame(fruitData)"
      ],
      "id": "d75bf57b",
      "execution_count": null,
      "outputs": []
    },
    {
      "cell_type": "code",
      "metadata": {
        "colab": {
          "base_uri": "https://localhost:8080/"
        },
        "id": "0814477e",
        "outputId": "be5cad29-3883-4919-b0b5-62f64d5c570f"
      },
      "source": [
        "type(fruitFrame)"
      ],
      "id": "0814477e",
      "execution_count": null,
      "outputs": [
        {
          "output_type": "execute_result",
          "data": {
            "text/plain": [
              "pandas.core.frame.DataFrame"
            ]
          },
          "metadata": {
            "tags": []
          },
          "execution_count": 21
        }
      ]
    },
    {
      "cell_type": "code",
      "metadata": {
        "colab": {
          "base_uri": "https://localhost:8080/",
          "height": 173
        },
        "id": "497b064e",
        "outputId": "e3be77ad-e2ba-4fca-ca7e-7e152d0d050d"
      },
      "source": [
        "fruitFrame"
      ],
      "id": "497b064e",
      "execution_count": null,
      "outputs": [
        {
          "output_type": "execute_result",
          "data": {
            "text/html": [
              "<div>\n",
              "<style scoped>\n",
              "    .dataframe tbody tr th:only-of-type {\n",
              "        vertical-align: middle;\n",
              "    }\n",
              "\n",
              "    .dataframe tbody tr th {\n",
              "        vertical-align: top;\n",
              "    }\n",
              "\n",
              "    .dataframe thead th {\n",
              "        text-align: right;\n",
              "    }\n",
              "</style>\n",
              "<table border=\"1\" class=\"dataframe\">\n",
              "  <thead>\n",
              "    <tr style=\"text-align: right;\">\n",
              "      <th></th>\n",
              "      <th>fruitName</th>\n",
              "      <th>fruitPrice</th>\n",
              "      <th>num</th>\n",
              "    </tr>\n",
              "  </thead>\n",
              "  <tbody>\n",
              "    <tr>\n",
              "      <th>0</th>\n",
              "      <td>apple</td>\n",
              "      <td>2500</td>\n",
              "      <td>10</td>\n",
              "    </tr>\n",
              "    <tr>\n",
              "      <th>1</th>\n",
              "      <td>banana</td>\n",
              "      <td>3800</td>\n",
              "      <td>5</td>\n",
              "    </tr>\n",
              "    <tr>\n",
              "      <th>2</th>\n",
              "      <td>cherry</td>\n",
              "      <td>6000</td>\n",
              "      <td>3</td>\n",
              "    </tr>\n",
              "    <tr>\n",
              "      <th>3</th>\n",
              "      <td>peer</td>\n",
              "      <td>1200</td>\n",
              "      <td>8</td>\n",
              "    </tr>\n",
              "  </tbody>\n",
              "</table>\n",
              "</div>"
            ],
            "text/plain": [
              "  fruitName  fruitPrice  num\n",
              "0     apple        2500   10\n",
              "1    banana        3800    5\n",
              "2    cherry        6000    3\n",
              "3      peer        1200    8"
            ]
          },
          "metadata": {
            "tags": []
          },
          "execution_count": 22
        }
      ]
    },
    {
      "cell_type": "code",
      "metadata": {
        "id": "b4de15d8"
      },
      "source": [
        "fruitFrame = DataFrame(fruitData, columns=['fruitPrice','num','fruitName'])"
      ],
      "id": "b4de15d8",
      "execution_count": null,
      "outputs": []
    },
    {
      "cell_type": "code",
      "metadata": {
        "colab": {
          "base_uri": "https://localhost:8080/",
          "height": 173
        },
        "id": "6e0e3429",
        "outputId": "eeb12807-ed1b-4307-f515-3f665e748e95"
      },
      "source": [
        "fruitFrame"
      ],
      "id": "6e0e3429",
      "execution_count": null,
      "outputs": [
        {
          "output_type": "execute_result",
          "data": {
            "text/html": [
              "<div>\n",
              "<style scoped>\n",
              "    .dataframe tbody tr th:only-of-type {\n",
              "        vertical-align: middle;\n",
              "    }\n",
              "\n",
              "    .dataframe tbody tr th {\n",
              "        vertical-align: top;\n",
              "    }\n",
              "\n",
              "    .dataframe thead th {\n",
              "        text-align: right;\n",
              "    }\n",
              "</style>\n",
              "<table border=\"1\" class=\"dataframe\">\n",
              "  <thead>\n",
              "    <tr style=\"text-align: right;\">\n",
              "      <th></th>\n",
              "      <th>fruitPrice</th>\n",
              "      <th>num</th>\n",
              "      <th>fruitName</th>\n",
              "    </tr>\n",
              "  </thead>\n",
              "  <tbody>\n",
              "    <tr>\n",
              "      <th>0</th>\n",
              "      <td>2500</td>\n",
              "      <td>10</td>\n",
              "      <td>apple</td>\n",
              "    </tr>\n",
              "    <tr>\n",
              "      <th>1</th>\n",
              "      <td>3800</td>\n",
              "      <td>5</td>\n",
              "      <td>banana</td>\n",
              "    </tr>\n",
              "    <tr>\n",
              "      <th>2</th>\n",
              "      <td>6000</td>\n",
              "      <td>3</td>\n",
              "      <td>cherry</td>\n",
              "    </tr>\n",
              "    <tr>\n",
              "      <th>3</th>\n",
              "      <td>1200</td>\n",
              "      <td>8</td>\n",
              "      <td>peer</td>\n",
              "    </tr>\n",
              "  </tbody>\n",
              "</table>\n",
              "</div>"
            ],
            "text/plain": [
              "   fruitPrice  num fruitName\n",
              "0        2500   10     apple\n",
              "1        3800    5    banana\n",
              "2        6000    3    cherry\n",
              "3        1200    8      peer"
            ]
          },
          "metadata": {
            "tags": []
          },
          "execution_count": 24
        }
      ]
    },
    {
      "cell_type": "code",
      "metadata": {
        "colab": {
          "base_uri": "https://localhost:8080/"
        },
        "id": "815ceec3",
        "outputId": "85b7dbd7-6676-4b54-b33c-c0ec1888e598"
      },
      "source": [
        "fruitFrame['fruitName']"
      ],
      "id": "815ceec3",
      "execution_count": null,
      "outputs": [
        {
          "output_type": "execute_result",
          "data": {
            "text/plain": [
              "0     apple\n",
              "1    banana\n",
              "2    cherry\n",
              "3      peer\n",
              "Name: fruitName, dtype: object"
            ]
          },
          "metadata": {
            "tags": []
          },
          "execution_count": 25
        }
      ]
    },
    {
      "cell_type": "code",
      "metadata": {
        "colab": {
          "base_uri": "https://localhost:8080/"
        },
        "id": "a0a5c715",
        "outputId": "3939d67f-310d-4006-dd87-da67627bc4cc"
      },
      "source": [
        "fruitFrame.fruitName"
      ],
      "id": "a0a5c715",
      "execution_count": null,
      "outputs": [
        {
          "output_type": "execute_result",
          "data": {
            "text/plain": [
              "0     apple\n",
              "1    banana\n",
              "2    cherry\n",
              "3      peer\n",
              "Name: fruitName, dtype: object"
            ]
          },
          "metadata": {
            "tags": []
          },
          "execution_count": 26
        }
      ]
    },
    {
      "cell_type": "code",
      "metadata": {
        "colab": {
          "base_uri": "https://localhost:8080/"
        },
        "id": "6dedf4b3",
        "outputId": "12233a19-308f-4534-9e37-f27d2e378229"
      },
      "source": [
        "type(fruitFrame.fruitName)"
      ],
      "id": "6dedf4b3",
      "execution_count": null,
      "outputs": [
        {
          "output_type": "execute_result",
          "data": {
            "text/plain": [
              "pandas.core.series.Series"
            ]
          },
          "metadata": {
            "tags": []
          },
          "execution_count": 27
        }
      ]
    },
    {
      "cell_type": "code",
      "metadata": {
        "colab": {
          "base_uri": "https://localhost:8080/",
          "height": 173
        },
        "id": "91459534",
        "outputId": "a2fc9f67-3f77-4a57-cbca-49dd5133ea48"
      },
      "source": [
        "fruitFrame"
      ],
      "id": "91459534",
      "execution_count": null,
      "outputs": [
        {
          "output_type": "execute_result",
          "data": {
            "text/html": [
              "<div>\n",
              "<style scoped>\n",
              "    .dataframe tbody tr th:only-of-type {\n",
              "        vertical-align: middle;\n",
              "    }\n",
              "\n",
              "    .dataframe tbody tr th {\n",
              "        vertical-align: top;\n",
              "    }\n",
              "\n",
              "    .dataframe thead th {\n",
              "        text-align: right;\n",
              "    }\n",
              "</style>\n",
              "<table border=\"1\" class=\"dataframe\">\n",
              "  <thead>\n",
              "    <tr style=\"text-align: right;\">\n",
              "      <th></th>\n",
              "      <th>fruitPrice</th>\n",
              "      <th>num</th>\n",
              "      <th>fruitName</th>\n",
              "    </tr>\n",
              "  </thead>\n",
              "  <tbody>\n",
              "    <tr>\n",
              "      <th>0</th>\n",
              "      <td>2500</td>\n",
              "      <td>10</td>\n",
              "      <td>apple</td>\n",
              "    </tr>\n",
              "    <tr>\n",
              "      <th>1</th>\n",
              "      <td>3800</td>\n",
              "      <td>5</td>\n",
              "      <td>banana</td>\n",
              "    </tr>\n",
              "    <tr>\n",
              "      <th>2</th>\n",
              "      <td>6000</td>\n",
              "      <td>3</td>\n",
              "      <td>cherry</td>\n",
              "    </tr>\n",
              "    <tr>\n",
              "      <th>3</th>\n",
              "      <td>1200</td>\n",
              "      <td>8</td>\n",
              "      <td>peer</td>\n",
              "    </tr>\n",
              "  </tbody>\n",
              "</table>\n",
              "</div>"
            ],
            "text/plain": [
              "   fruitPrice  num fruitName\n",
              "0        2500   10     apple\n",
              "1        3800    5    banana\n",
              "2        6000    3    cherry\n",
              "3        1200    8      peer"
            ]
          },
          "metadata": {
            "tags": []
          },
          "execution_count": 28
        }
      ]
    },
    {
      "cell_type": "code",
      "metadata": {
        "colab": {
          "base_uri": "https://localhost:8080/"
        },
        "id": "45f35434",
        "outputId": "4655cd0d-6678-42e5-9d6b-b41c14074ce3"
      },
      "source": [
        "fruitFrame['fruitPrice']"
      ],
      "id": "45f35434",
      "execution_count": null,
      "outputs": [
        {
          "output_type": "execute_result",
          "data": {
            "text/plain": [
              "0    2500\n",
              "1    3800\n",
              "2    6000\n",
              "3    1200\n",
              "Name: fruitPrice, dtype: int64"
            ]
          },
          "metadata": {
            "tags": []
          },
          "execution_count": 29
        }
      ]
    },
    {
      "cell_type": "code",
      "metadata": {
        "id": "3465c5f2"
      },
      "source": [
        "fruitFrame['Year'] = 2021"
      ],
      "id": "3465c5f2",
      "execution_count": null,
      "outputs": []
    },
    {
      "cell_type": "code",
      "metadata": {
        "colab": {
          "base_uri": "https://localhost:8080/",
          "height": 173
        },
        "id": "b57647ee",
        "outputId": "02bcb810-bc69-47b4-bd2b-2d921d31c0b0"
      },
      "source": [
        "fruitFrame"
      ],
      "id": "b57647ee",
      "execution_count": null,
      "outputs": [
        {
          "output_type": "execute_result",
          "data": {
            "text/html": [
              "<div>\n",
              "<style scoped>\n",
              "    .dataframe tbody tr th:only-of-type {\n",
              "        vertical-align: middle;\n",
              "    }\n",
              "\n",
              "    .dataframe tbody tr th {\n",
              "        vertical-align: top;\n",
              "    }\n",
              "\n",
              "    .dataframe thead th {\n",
              "        text-align: right;\n",
              "    }\n",
              "</style>\n",
              "<table border=\"1\" class=\"dataframe\">\n",
              "  <thead>\n",
              "    <tr style=\"text-align: right;\">\n",
              "      <th></th>\n",
              "      <th>fruitPrice</th>\n",
              "      <th>num</th>\n",
              "      <th>fruitName</th>\n",
              "      <th>Year</th>\n",
              "    </tr>\n",
              "  </thead>\n",
              "  <tbody>\n",
              "    <tr>\n",
              "      <th>0</th>\n",
              "      <td>2500</td>\n",
              "      <td>10</td>\n",
              "      <td>apple</td>\n",
              "      <td>2021</td>\n",
              "    </tr>\n",
              "    <tr>\n",
              "      <th>1</th>\n",
              "      <td>3800</td>\n",
              "      <td>5</td>\n",
              "      <td>banana</td>\n",
              "      <td>2021</td>\n",
              "    </tr>\n",
              "    <tr>\n",
              "      <th>2</th>\n",
              "      <td>6000</td>\n",
              "      <td>3</td>\n",
              "      <td>cherry</td>\n",
              "      <td>2021</td>\n",
              "    </tr>\n",
              "    <tr>\n",
              "      <th>3</th>\n",
              "      <td>1200</td>\n",
              "      <td>8</td>\n",
              "      <td>peer</td>\n",
              "      <td>2021</td>\n",
              "    </tr>\n",
              "  </tbody>\n",
              "</table>\n",
              "</div>"
            ],
            "text/plain": [
              "   fruitPrice  num fruitName  Year\n",
              "0        2500   10     apple  2021\n",
              "1        3800    5    banana  2021\n",
              "2        6000    3    cherry  2021\n",
              "3        1200    8      peer  2021"
            ]
          },
          "metadata": {
            "tags": []
          },
          "execution_count": 31
        }
      ]
    },
    {
      "cell_type": "code",
      "metadata": {
        "id": "225796a5"
      },
      "source": [
        "variable = Series([4,2,1],index = [0,2,3])"
      ],
      "id": "225796a5",
      "execution_count": null,
      "outputs": []
    },
    {
      "cell_type": "code",
      "metadata": {
        "id": "5e511138"
      },
      "source": [
        "fruitFrame['stock'] = variable"
      ],
      "id": "5e511138",
      "execution_count": null,
      "outputs": []
    },
    {
      "cell_type": "code",
      "metadata": {
        "colab": {
          "base_uri": "https://localhost:8080/"
        },
        "id": "8c53a046",
        "outputId": "4159b81d-dd3b-486e-d3d0-9ee9c38a89f4"
      },
      "source": [
        "print(fruitFrame)"
      ],
      "id": "8c53a046",
      "execution_count": null,
      "outputs": [
        {
          "output_type": "stream",
          "text": [
            "   fruitPrice  num fruitName  Year  stock\n",
            "0        2500   10     apple  2021    4.0\n",
            "1        3800    5    banana  2021    NaN\n",
            "2        6000    3    cherry  2021    2.0\n",
            "3        1200    8      peer  2021    1.0\n"
          ],
          "name": "stdout"
        }
      ]
    },
    {
      "cell_type": "code",
      "metadata": {
        "id": "13e41670"
      },
      "source": [
        "fruit = Series([2500,3800,1200,6000],index=['apple','banana','peer','cherry'])"
      ],
      "id": "13e41670",
      "execution_count": null,
      "outputs": []
    },
    {
      "cell_type": "code",
      "metadata": {
        "colab": {
          "base_uri": "https://localhost:8080/"
        },
        "id": "0cd02d78",
        "outputId": "4003e9ff-8d4d-4020-c194-58c59ad9d1db"
      },
      "source": [
        "fruit"
      ],
      "id": "0cd02d78",
      "execution_count": null,
      "outputs": [
        {
          "output_type": "execute_result",
          "data": {
            "text/plain": [
              "apple     2500\n",
              "banana    3800\n",
              "peer      1200\n",
              "cherry    6000\n",
              "dtype: int64"
            ]
          },
          "metadata": {
            "tags": []
          },
          "execution_count": 36
        }
      ]
    },
    {
      "cell_type": "code",
      "metadata": {
        "id": "5ed48495"
      },
      "source": [
        "new_fruit = fruit.drop('banana')"
      ],
      "id": "5ed48495",
      "execution_count": null,
      "outputs": []
    },
    {
      "cell_type": "code",
      "metadata": {
        "colab": {
          "base_uri": "https://localhost:8080/"
        },
        "id": "d09fbc72",
        "outputId": "47471fa9-749f-427c-fb95-45877fbcd54a"
      },
      "source": [
        "new_fruit"
      ],
      "id": "d09fbc72",
      "execution_count": null,
      "outputs": [
        {
          "output_type": "execute_result",
          "data": {
            "text/plain": [
              "apple     2500\n",
              "peer      1200\n",
              "cherry    6000\n",
              "dtype: int64"
            ]
          },
          "metadata": {
            "tags": []
          },
          "execution_count": 38
        }
      ]
    },
    {
      "cell_type": "code",
      "metadata": {
        "id": "e25a4291"
      },
      "source": [
        "fruitData = {'fruitName':['apple','banana','cherry','peer'],\n",
        "'fruitPrice':[2500,3800,6000,1200],\n",
        "'num':[10,5,3,8]}"
      ],
      "id": "e25a4291",
      "execution_count": null,
      "outputs": []
    },
    {
      "cell_type": "code",
      "metadata": {
        "id": "539fb561"
      },
      "source": [
        "fruitName = fruitData['fruitName']"
      ],
      "id": "539fb561",
      "execution_count": null,
      "outputs": []
    },
    {
      "cell_type": "code",
      "metadata": {
        "id": "6bc0b005"
      },
      "source": [
        "fruitFrame = DataFrame(fruitData, index=fruitName, columns=['fruitPrice','num'])"
      ],
      "id": "6bc0b005",
      "execution_count": null,
      "outputs": []
    },
    {
      "cell_type": "code",
      "metadata": {
        "colab": {
          "base_uri": "https://localhost:8080/",
          "height": 173
        },
        "id": "0d156456",
        "outputId": "d87ea030-e9ca-4fbb-b3a4-20ea307dd95a"
      },
      "source": [
        "fruitFrame"
      ],
      "id": "0d156456",
      "execution_count": null,
      "outputs": [
        {
          "output_type": "execute_result",
          "data": {
            "text/html": [
              "<div>\n",
              "<style scoped>\n",
              "    .dataframe tbody tr th:only-of-type {\n",
              "        vertical-align: middle;\n",
              "    }\n",
              "\n",
              "    .dataframe tbody tr th {\n",
              "        vertical-align: top;\n",
              "    }\n",
              "\n",
              "    .dataframe thead th {\n",
              "        text-align: right;\n",
              "    }\n",
              "</style>\n",
              "<table border=\"1\" class=\"dataframe\">\n",
              "  <thead>\n",
              "    <tr style=\"text-align: right;\">\n",
              "      <th></th>\n",
              "      <th>fruitPrice</th>\n",
              "      <th>num</th>\n",
              "    </tr>\n",
              "  </thead>\n",
              "  <tbody>\n",
              "    <tr>\n",
              "      <th>apple</th>\n",
              "      <td>2500</td>\n",
              "      <td>10</td>\n",
              "    </tr>\n",
              "    <tr>\n",
              "      <th>banana</th>\n",
              "      <td>3800</td>\n",
              "      <td>5</td>\n",
              "    </tr>\n",
              "    <tr>\n",
              "      <th>cherry</th>\n",
              "      <td>6000</td>\n",
              "      <td>3</td>\n",
              "    </tr>\n",
              "    <tr>\n",
              "      <th>peer</th>\n",
              "      <td>1200</td>\n",
              "      <td>8</td>\n",
              "    </tr>\n",
              "  </tbody>\n",
              "</table>\n",
              "</div>"
            ],
            "text/plain": [
              "        fruitPrice  num\n",
              "apple         2500   10\n",
              "banana        3800    5\n",
              "cherry        6000    3\n",
              "peer          1200    8"
            ]
          },
          "metadata": {
            "tags": []
          },
          "execution_count": 42
        }
      ]
    },
    {
      "cell_type": "code",
      "metadata": {
        "id": "26bff9ea"
      },
      "source": [
        "fruitFrame2 = fruitFrame.drop(['apple','cherry'])"
      ],
      "id": "26bff9ea",
      "execution_count": null,
      "outputs": []
    },
    {
      "cell_type": "code",
      "metadata": {
        "colab": {
          "base_uri": "https://localhost:8080/",
          "height": 111
        },
        "id": "6420c21a",
        "outputId": "4663849d-aae2-482a-c483-6df412a58d25"
      },
      "source": [
        "fruitFrame2"
      ],
      "id": "6420c21a",
      "execution_count": null,
      "outputs": [
        {
          "output_type": "execute_result",
          "data": {
            "text/html": [
              "<div>\n",
              "<style scoped>\n",
              "    .dataframe tbody tr th:only-of-type {\n",
              "        vertical-align: middle;\n",
              "    }\n",
              "\n",
              "    .dataframe tbody tr th {\n",
              "        vertical-align: top;\n",
              "    }\n",
              "\n",
              "    .dataframe thead th {\n",
              "        text-align: right;\n",
              "    }\n",
              "</style>\n",
              "<table border=\"1\" class=\"dataframe\">\n",
              "  <thead>\n",
              "    <tr style=\"text-align: right;\">\n",
              "      <th></th>\n",
              "      <th>fruitPrice</th>\n",
              "      <th>num</th>\n",
              "    </tr>\n",
              "  </thead>\n",
              "  <tbody>\n",
              "    <tr>\n",
              "      <th>banana</th>\n",
              "      <td>3800</td>\n",
              "      <td>5</td>\n",
              "    </tr>\n",
              "    <tr>\n",
              "      <th>peer</th>\n",
              "      <td>1200</td>\n",
              "      <td>8</td>\n",
              "    </tr>\n",
              "  </tbody>\n",
              "</table>\n",
              "</div>"
            ],
            "text/plain": [
              "        fruitPrice  num\n",
              "banana        3800    5\n",
              "peer          1200    8"
            ]
          },
          "metadata": {
            "tags": []
          },
          "execution_count": 44
        }
      ]
    },
    {
      "cell_type": "code",
      "metadata": {
        "id": "63183c38"
      },
      "source": [
        "fruitFrame3 = fruitFrame.drop('num',axis=1) # axis = 1 는 세로 축을 지정한다."
      ],
      "id": "63183c38",
      "execution_count": null,
      "outputs": []
    },
    {
      "cell_type": "code",
      "metadata": {
        "colab": {
          "base_uri": "https://localhost:8080/"
        },
        "id": "32828ae7",
        "outputId": "450bce38-2286-4d7d-db3c-158204f28f8a"
      },
      "source": [
        "print(fruitFrame3)"
      ],
      "id": "32828ae7",
      "execution_count": null,
      "outputs": [
        {
          "output_type": "stream",
          "text": [
            "        fruitPrice\n",
            "apple         2500\n",
            "banana        3800\n",
            "cherry        6000\n",
            "peer          1200\n"
          ],
          "name": "stdout"
        }
      ]
    },
    {
      "cell_type": "code",
      "metadata": {
        "id": "5fdfcd66"
      },
      "source": [
        "fruit = Series([2500,3800,1200,6000],index=['apple','banana','peer','cherry'])"
      ],
      "id": "5fdfcd66",
      "execution_count": null,
      "outputs": []
    },
    {
      "cell_type": "code",
      "metadata": {
        "colab": {
          "base_uri": "https://localhost:8080/"
        },
        "id": "4bcf891c",
        "outputId": "ee4cc557-bb15-4d2b-bcd9-13c8b3b3705b"
      },
      "source": [
        "fruit"
      ],
      "id": "4bcf891c",
      "execution_count": null,
      "outputs": [
        {
          "output_type": "execute_result",
          "data": {
            "text/plain": [
              "apple     2500\n",
              "banana    3800\n",
              "peer      1200\n",
              "cherry    6000\n",
              "dtype: int64"
            ]
          },
          "metadata": {
            "tags": []
          },
          "execution_count": 48
        }
      ]
    },
    {
      "cell_type": "code",
      "metadata": {
        "colab": {
          "base_uri": "https://localhost:8080/"
        },
        "id": "6ab3a58c",
        "outputId": "2b448ca9-cd21-4a56-a3cd-2e556c38272d"
      },
      "source": [
        "fruit['apple':'peer'] # slice 작업 - [A:B] A 에서 B 까지 데이터를 가지고 온다."
      ],
      "id": "6ab3a58c",
      "execution_count": null,
      "outputs": [
        {
          "output_type": "execute_result",
          "data": {
            "text/plain": [
              "apple     2500\n",
              "banana    3800\n",
              "peer      1200\n",
              "dtype: int64"
            ]
          },
          "metadata": {
            "tags": []
          },
          "execution_count": 49
        }
      ]
    },
    {
      "cell_type": "code",
      "metadata": {
        "id": "3b1cfd4a"
      },
      "source": [
        "fruitData = {'fruitName':['apple','banana','cherry','peer'],\n",
        "'fruitPrice':[2500,3800,6000,1200],\n",
        "'num':[10,5,3,8]}"
      ],
      "id": "3b1cfd4a",
      "execution_count": null,
      "outputs": []
    },
    {
      "cell_type": "code",
      "metadata": {
        "id": "e9bb06a9"
      },
      "source": [
        "fruitName = fruitData['fruitName']"
      ],
      "id": "e9bb06a9",
      "execution_count": null,
      "outputs": []
    },
    {
      "cell_type": "code",
      "metadata": {
        "id": "26ce5b20"
      },
      "source": [
        "fruitFrame = DataFrame(fruitData, index = fruitName, columns=['fruitPrice','num'])"
      ],
      "id": "26ce5b20",
      "execution_count": null,
      "outputs": []
    },
    {
      "cell_type": "code",
      "metadata": {
        "colab": {
          "base_uri": "https://localhost:8080/"
        },
        "id": "0313ab99",
        "outputId": "6ea7eeb5-3a84-4145-963a-574d7517a9c9"
      },
      "source": [
        "print(fruitFrame)"
      ],
      "id": "0313ab99",
      "execution_count": null,
      "outputs": [
        {
          "output_type": "stream",
          "text": [
            "        fruitPrice  num\n",
            "apple         2500   10\n",
            "banana        3800    5\n",
            "cherry        6000    3\n",
            "peer          1200    8\n"
          ],
          "name": "stdout"
        }
      ]
    },
    {
      "cell_type": "code",
      "metadata": {
        "colab": {
          "base_uri": "https://localhost:8080/"
        },
        "id": "ec076583",
        "outputId": "a784819c-0933-4c61-83e9-9b762b2f4599"
      },
      "source": [
        "fruitFrame['fruitPrice']"
      ],
      "id": "ec076583",
      "execution_count": null,
      "outputs": [
        {
          "output_type": "execute_result",
          "data": {
            "text/plain": [
              "apple     2500\n",
              "banana    3800\n",
              "cherry    6000\n",
              "peer      1200\n",
              "Name: fruitPrice, dtype: int64"
            ]
          },
          "metadata": {
            "tags": []
          },
          "execution_count": 54
        }
      ]
    },
    {
      "cell_type": "code",
      "metadata": {
        "colab": {
          "base_uri": "https://localhost:8080/",
          "height": 111
        },
        "id": "e07ea9f3",
        "outputId": "e7be4790-3574-4ffe-ce2e-af2da990052b"
      },
      "source": [
        "fruitFrame['apple':'banana']"
      ],
      "id": "e07ea9f3",
      "execution_count": null,
      "outputs": [
        {
          "output_type": "execute_result",
          "data": {
            "text/html": [
              "<div>\n",
              "<style scoped>\n",
              "    .dataframe tbody tr th:only-of-type {\n",
              "        vertical-align: middle;\n",
              "    }\n",
              "\n",
              "    .dataframe tbody tr th {\n",
              "        vertical-align: top;\n",
              "    }\n",
              "\n",
              "    .dataframe thead th {\n",
              "        text-align: right;\n",
              "    }\n",
              "</style>\n",
              "<table border=\"1\" class=\"dataframe\">\n",
              "  <thead>\n",
              "    <tr style=\"text-align: right;\">\n",
              "      <th></th>\n",
              "      <th>fruitPrice</th>\n",
              "      <th>num</th>\n",
              "    </tr>\n",
              "  </thead>\n",
              "  <tbody>\n",
              "    <tr>\n",
              "      <th>apple</th>\n",
              "      <td>2500</td>\n",
              "      <td>10</td>\n",
              "    </tr>\n",
              "    <tr>\n",
              "      <th>banana</th>\n",
              "      <td>3800</td>\n",
              "      <td>5</td>\n",
              "    </tr>\n",
              "  </tbody>\n",
              "</table>\n",
              "</div>"
            ],
            "text/plain": [
              "        fruitPrice  num\n",
              "apple         2500   10\n",
              "banana        3800    5"
            ]
          },
          "metadata": {
            "tags": []
          },
          "execution_count": 55
        }
      ]
    },
    {
      "cell_type": "markdown",
      "metadata": {
        "id": "4539224a"
      },
      "source": [
        "## 데이터의 기본 연산"
      ],
      "id": "4539224a"
    },
    {
      "cell_type": "code",
      "metadata": {
        "id": "6401928b"
      },
      "source": [
        "fruit1 = Series([5,9,10,3], index=['apple','banana','cherry','peer'])"
      ],
      "id": "6401928b",
      "execution_count": null,
      "outputs": []
    },
    {
      "cell_type": "code",
      "metadata": {
        "id": "6d4a96a5"
      },
      "source": [
        "fruit2 = Series([3,2,9,5,10], index=['apple','orange','banana','cherry','mango'])"
      ],
      "id": "6d4a96a5",
      "execution_count": null,
      "outputs": []
    },
    {
      "cell_type": "code",
      "metadata": {
        "colab": {
          "base_uri": "https://localhost:8080/"
        },
        "id": "37a3c8cd",
        "outputId": "4841f6ed-2133-4093-e440-9480f202398e"
      },
      "source": [
        "print(fruit1)"
      ],
      "id": "37a3c8cd",
      "execution_count": null,
      "outputs": [
        {
          "output_type": "stream",
          "text": [
            "apple      5\n",
            "banana     9\n",
            "cherry    10\n",
            "peer       3\n",
            "dtype: int64\n"
          ],
          "name": "stdout"
        }
      ]
    },
    {
      "cell_type": "code",
      "metadata": {
        "colab": {
          "base_uri": "https://localhost:8080/"
        },
        "id": "ea80d95f",
        "outputId": "fdb52b4a-d7c7-4ff3-9963-5c8976086076"
      },
      "source": [
        "print(fruit2)"
      ],
      "id": "ea80d95f",
      "execution_count": null,
      "outputs": [
        {
          "output_type": "stream",
          "text": [
            "apple      3\n",
            "orange     2\n",
            "banana     9\n",
            "cherry     5\n",
            "mango     10\n",
            "dtype: int64\n"
          ],
          "name": "stdout"
        }
      ]
    },
    {
      "cell_type": "code",
      "metadata": {
        "colab": {
          "base_uri": "https://localhost:8080/"
        },
        "id": "a7bd200d",
        "outputId": "cbca84ed-a08e-42a9-9402-9292645ec9f2"
      },
      "source": [
        "fruit1 + fruit2 # Series 에서는 양 쪽 다 값이 있어야 연산이 가능하다."
      ],
      "id": "a7bd200d",
      "execution_count": null,
      "outputs": [
        {
          "output_type": "execute_result",
          "data": {
            "text/plain": [
              "apple      8.0\n",
              "banana    18.0\n",
              "cherry    15.0\n",
              "mango      NaN\n",
              "orange     NaN\n",
              "peer       NaN\n",
              "dtype: float64"
            ]
          },
          "metadata": {
            "tags": []
          },
          "execution_count": 60
        }
      ]
    },
    {
      "cell_type": "code",
      "metadata": {
        "id": "0aea2e46"
      },
      "source": [
        "fruitData1 = {'Ohio':[4,8,3,5],'Texas':[0,1,2,3]}\n",
        "fruitFrame1 = DataFrame(fruitData1, columns=['Ohio','Texas'],\n",
        "                        index=['apple','banana','cherry','peer'])"
      ],
      "id": "0aea2e46",
      "execution_count": null,
      "outputs": []
    },
    {
      "cell_type": "code",
      "metadata": {
        "id": "b7c91ef3"
      },
      "source": [
        "fruitData2 = {'Ohio':[3,0,2,1,7],'Colorado':[5,4,3,6,0]}\n",
        "fruitFrame2 = DataFrame(fruitData2, columns=['Ohio','Colorado'],\n",
        "                        index=['apple','orange','banana','cherry','mango'])"
      ],
      "id": "b7c91ef3",
      "execution_count": null,
      "outputs": []
    },
    {
      "cell_type": "code",
      "metadata": {
        "colab": {
          "base_uri": "https://localhost:8080/"
        },
        "id": "77fe8128",
        "outputId": "cb019422-b26d-4924-b097-7a52e082b08e"
      },
      "source": [
        "print(fruitFrame1)"
      ],
      "id": "77fe8128",
      "execution_count": null,
      "outputs": [
        {
          "output_type": "stream",
          "text": [
            "        Ohio  Texas\n",
            "apple      4      0\n",
            "banana     8      1\n",
            "cherry     3      2\n",
            "peer       5      3\n"
          ],
          "name": "stdout"
        }
      ]
    },
    {
      "cell_type": "code",
      "metadata": {
        "colab": {
          "base_uri": "https://localhost:8080/"
        },
        "id": "e8799c25",
        "outputId": "535e80e5-8204-4258-f54a-f2f1a6ff08fc"
      },
      "source": [
        "print(fruitFrame2)"
      ],
      "id": "e8799c25",
      "execution_count": null,
      "outputs": [
        {
          "output_type": "stream",
          "text": [
            "        Ohio  Colorado\n",
            "apple      3         5\n",
            "orange     0         4\n",
            "banana     2         3\n",
            "cherry     1         6\n",
            "mango      7         0\n"
          ],
          "name": "stdout"
        }
      ]
    },
    {
      "cell_type": "code",
      "metadata": {
        "colab": {
          "base_uri": "https://localhost:8080/",
          "height": 235
        },
        "id": "d08d3c2f",
        "outputId": "8ec3b531-dc40-460f-8e57-0608d43b366a"
      },
      "source": [
        "fruitFrame1 + fruitFrame2"
      ],
      "id": "d08d3c2f",
      "execution_count": null,
      "outputs": [
        {
          "output_type": "execute_result",
          "data": {
            "text/html": [
              "<div>\n",
              "<style scoped>\n",
              "    .dataframe tbody tr th:only-of-type {\n",
              "        vertical-align: middle;\n",
              "    }\n",
              "\n",
              "    .dataframe tbody tr th {\n",
              "        vertical-align: top;\n",
              "    }\n",
              "\n",
              "    .dataframe thead th {\n",
              "        text-align: right;\n",
              "    }\n",
              "</style>\n",
              "<table border=\"1\" class=\"dataframe\">\n",
              "  <thead>\n",
              "    <tr style=\"text-align: right;\">\n",
              "      <th></th>\n",
              "      <th>Colorado</th>\n",
              "      <th>Ohio</th>\n",
              "      <th>Texas</th>\n",
              "    </tr>\n",
              "  </thead>\n",
              "  <tbody>\n",
              "    <tr>\n",
              "      <th>apple</th>\n",
              "      <td>NaN</td>\n",
              "      <td>7.0</td>\n",
              "      <td>NaN</td>\n",
              "    </tr>\n",
              "    <tr>\n",
              "      <th>banana</th>\n",
              "      <td>NaN</td>\n",
              "      <td>10.0</td>\n",
              "      <td>NaN</td>\n",
              "    </tr>\n",
              "    <tr>\n",
              "      <th>cherry</th>\n",
              "      <td>NaN</td>\n",
              "      <td>4.0</td>\n",
              "      <td>NaN</td>\n",
              "    </tr>\n",
              "    <tr>\n",
              "      <th>mango</th>\n",
              "      <td>NaN</td>\n",
              "      <td>NaN</td>\n",
              "      <td>NaN</td>\n",
              "    </tr>\n",
              "    <tr>\n",
              "      <th>orange</th>\n",
              "      <td>NaN</td>\n",
              "      <td>NaN</td>\n",
              "      <td>NaN</td>\n",
              "    </tr>\n",
              "    <tr>\n",
              "      <th>peer</th>\n",
              "      <td>NaN</td>\n",
              "      <td>NaN</td>\n",
              "      <td>NaN</td>\n",
              "    </tr>\n",
              "  </tbody>\n",
              "</table>\n",
              "</div>"
            ],
            "text/plain": [
              "        Colorado  Ohio  Texas\n",
              "apple        NaN   7.0    NaN\n",
              "banana       NaN  10.0    NaN\n",
              "cherry       NaN   4.0    NaN\n",
              "mango        NaN   NaN    NaN\n",
              "orange       NaN   NaN    NaN\n",
              "peer         NaN   NaN    NaN"
            ]
          },
          "metadata": {
            "tags": []
          },
          "execution_count": 65
        }
      ]
    },
    {
      "cell_type": "markdown",
      "metadata": {
        "id": "76b76c67"
      },
      "source": [
        "## 데이터의 정렬"
      ],
      "id": "76b76c67"
    },
    {
      "cell_type": "code",
      "metadata": {
        "id": "d62def8c"
      },
      "source": [
        "fruit = Series([2500,3800,1200,6000], index=['apple','banana','peer','cherry'])"
      ],
      "id": "d62def8c",
      "execution_count": null,
      "outputs": []
    },
    {
      "cell_type": "code",
      "metadata": {
        "colab": {
          "base_uri": "https://localhost:8080/"
        },
        "id": "d2302f47",
        "outputId": "a6f40a28-fdad-4150-d41e-11fe4eb22697"
      },
      "source": [
        "fruit"
      ],
      "id": "d2302f47",
      "execution_count": null,
      "outputs": [
        {
          "output_type": "execute_result",
          "data": {
            "text/plain": [
              "apple     2500\n",
              "banana    3800\n",
              "peer      1200\n",
              "cherry    6000\n",
              "dtype: int64"
            ]
          },
          "metadata": {
            "tags": []
          },
          "execution_count": 67
        }
      ]
    },
    {
      "cell_type": "code",
      "metadata": {
        "colab": {
          "base_uri": "https://localhost:8080/"
        },
        "id": "e6d23b18",
        "outputId": "8fe4ae5f-4364-4aef-987f-dc41cbbfa293"
      },
      "source": [
        "fruit.sort_values(ascending=False) # ascending=Fallse 는 역순으로 정렬"
      ],
      "id": "e6d23b18",
      "execution_count": null,
      "outputs": [
        {
          "output_type": "execute_result",
          "data": {
            "text/plain": [
              "cherry    6000\n",
              "banana    3800\n",
              "apple     2500\n",
              "peer      1200\n",
              "dtype: int64"
            ]
          },
          "metadata": {
            "tags": []
          },
          "execution_count": 68
        }
      ]
    },
    {
      "cell_type": "code",
      "metadata": {
        "id": "195c72ab"
      },
      "source": [
        "fruitData = {'fruitName':['peer','banana','apple','cherry'],\n",
        "'fruitPrice':[2500,3800,6000,1200],\n",
        "'num':[10,5,3,8]}"
      ],
      "id": "195c72ab",
      "execution_count": null,
      "outputs": []
    },
    {
      "cell_type": "code",
      "metadata": {
        "id": "3c776727"
      },
      "source": [
        "fruitName = fruitData['fruitName']"
      ],
      "id": "3c776727",
      "execution_count": null,
      "outputs": []
    },
    {
      "cell_type": "code",
      "metadata": {
        "id": "7894d35e"
      },
      "source": [
        "fruitFrame = DataFrame(fruitData, index=fruitName, columns=['num','fruitPrice'])"
      ],
      "id": "7894d35e",
      "execution_count": null,
      "outputs": []
    },
    {
      "cell_type": "code",
      "metadata": {
        "colab": {
          "base_uri": "https://localhost:8080/"
        },
        "id": "360400be",
        "outputId": "f9813105-8b0b-4ab2-969c-8095b562c6c5"
      },
      "source": [
        "print(fruitFrame)"
      ],
      "id": "360400be",
      "execution_count": null,
      "outputs": [
        {
          "output_type": "stream",
          "text": [
            "        num  fruitPrice\n",
            "peer     10        2500\n",
            "banana    5        3800\n",
            "apple     3        6000\n",
            "cherry    8        1200\n"
          ],
          "name": "stdout"
        }
      ]
    },
    {
      "cell_type": "code",
      "metadata": {
        "colab": {
          "base_uri": "https://localhost:8080/",
          "height": 173
        },
        "id": "0af43ac4",
        "outputId": "495c24c0-6c1e-486b-d277-9517158e5159"
      },
      "source": [
        "fruitFrame.sort_index()"
      ],
      "id": "0af43ac4",
      "execution_count": null,
      "outputs": [
        {
          "output_type": "execute_result",
          "data": {
            "text/html": [
              "<div>\n",
              "<style scoped>\n",
              "    .dataframe tbody tr th:only-of-type {\n",
              "        vertical-align: middle;\n",
              "    }\n",
              "\n",
              "    .dataframe tbody tr th {\n",
              "        vertical-align: top;\n",
              "    }\n",
              "\n",
              "    .dataframe thead th {\n",
              "        text-align: right;\n",
              "    }\n",
              "</style>\n",
              "<table border=\"1\" class=\"dataframe\">\n",
              "  <thead>\n",
              "    <tr style=\"text-align: right;\">\n",
              "      <th></th>\n",
              "      <th>num</th>\n",
              "      <th>fruitPrice</th>\n",
              "    </tr>\n",
              "  </thead>\n",
              "  <tbody>\n",
              "    <tr>\n",
              "      <th>apple</th>\n",
              "      <td>3</td>\n",
              "      <td>6000</td>\n",
              "    </tr>\n",
              "    <tr>\n",
              "      <th>banana</th>\n",
              "      <td>5</td>\n",
              "      <td>3800</td>\n",
              "    </tr>\n",
              "    <tr>\n",
              "      <th>cherry</th>\n",
              "      <td>8</td>\n",
              "      <td>1200</td>\n",
              "    </tr>\n",
              "    <tr>\n",
              "      <th>peer</th>\n",
              "      <td>10</td>\n",
              "      <td>2500</td>\n",
              "    </tr>\n",
              "  </tbody>\n",
              "</table>\n",
              "</div>"
            ],
            "text/plain": [
              "        num  fruitPrice\n",
              "apple     3        6000\n",
              "banana    5        3800\n",
              "cherry    8        1200\n",
              "peer     10        2500"
            ]
          },
          "metadata": {
            "tags": []
          },
          "execution_count": 73
        }
      ]
    },
    {
      "cell_type": "code",
      "metadata": {
        "colab": {
          "base_uri": "https://localhost:8080/",
          "height": 173
        },
        "id": "c7b37513",
        "outputId": "f2524904-7aa0-4434-e291-4880784d4626"
      },
      "source": [
        "fruitFrame.sort_index(axis=1) # column 도 정렬이 가능하다."
      ],
      "id": "c7b37513",
      "execution_count": null,
      "outputs": [
        {
          "output_type": "execute_result",
          "data": {
            "text/html": [
              "<div>\n",
              "<style scoped>\n",
              "    .dataframe tbody tr th:only-of-type {\n",
              "        vertical-align: middle;\n",
              "    }\n",
              "\n",
              "    .dataframe tbody tr th {\n",
              "        vertical-align: top;\n",
              "    }\n",
              "\n",
              "    .dataframe thead th {\n",
              "        text-align: right;\n",
              "    }\n",
              "</style>\n",
              "<table border=\"1\" class=\"dataframe\">\n",
              "  <thead>\n",
              "    <tr style=\"text-align: right;\">\n",
              "      <th></th>\n",
              "      <th>fruitPrice</th>\n",
              "      <th>num</th>\n",
              "    </tr>\n",
              "  </thead>\n",
              "  <tbody>\n",
              "    <tr>\n",
              "      <th>peer</th>\n",
              "      <td>2500</td>\n",
              "      <td>10</td>\n",
              "    </tr>\n",
              "    <tr>\n",
              "      <th>banana</th>\n",
              "      <td>3800</td>\n",
              "      <td>5</td>\n",
              "    </tr>\n",
              "    <tr>\n",
              "      <th>apple</th>\n",
              "      <td>6000</td>\n",
              "      <td>3</td>\n",
              "    </tr>\n",
              "    <tr>\n",
              "      <th>cherry</th>\n",
              "      <td>1200</td>\n",
              "      <td>8</td>\n",
              "    </tr>\n",
              "  </tbody>\n",
              "</table>\n",
              "</div>"
            ],
            "text/plain": [
              "        fruitPrice  num\n",
              "peer          2500   10\n",
              "banana        3800    5\n",
              "apple         6000    3\n",
              "cherry        1200    8"
            ]
          },
          "metadata": {
            "tags": []
          },
          "execution_count": 74
        }
      ]
    },
    {
      "cell_type": "code",
      "metadata": {
        "colab": {
          "base_uri": "https://localhost:8080/",
          "height": 173
        },
        "id": "0e8d9e99",
        "outputId": "02276bb7-c5dd-452d-af84-29dba73cbe66"
      },
      "source": [
        "fruitFrame.sort_values(by=['fruitPrice'])"
      ],
      "id": "0e8d9e99",
      "execution_count": null,
      "outputs": [
        {
          "output_type": "execute_result",
          "data": {
            "text/html": [
              "<div>\n",
              "<style scoped>\n",
              "    .dataframe tbody tr th:only-of-type {\n",
              "        vertical-align: middle;\n",
              "    }\n",
              "\n",
              "    .dataframe tbody tr th {\n",
              "        vertical-align: top;\n",
              "    }\n",
              "\n",
              "    .dataframe thead th {\n",
              "        text-align: right;\n",
              "    }\n",
              "</style>\n",
              "<table border=\"1\" class=\"dataframe\">\n",
              "  <thead>\n",
              "    <tr style=\"text-align: right;\">\n",
              "      <th></th>\n",
              "      <th>num</th>\n",
              "      <th>fruitPrice</th>\n",
              "    </tr>\n",
              "  </thead>\n",
              "  <tbody>\n",
              "    <tr>\n",
              "      <th>cherry</th>\n",
              "      <td>8</td>\n",
              "      <td>1200</td>\n",
              "    </tr>\n",
              "    <tr>\n",
              "      <th>peer</th>\n",
              "      <td>10</td>\n",
              "      <td>2500</td>\n",
              "    </tr>\n",
              "    <tr>\n",
              "      <th>banana</th>\n",
              "      <td>5</td>\n",
              "      <td>3800</td>\n",
              "    </tr>\n",
              "    <tr>\n",
              "      <th>apple</th>\n",
              "      <td>3</td>\n",
              "      <td>6000</td>\n",
              "    </tr>\n",
              "  </tbody>\n",
              "</table>\n",
              "</div>"
            ],
            "text/plain": [
              "        num  fruitPrice\n",
              "cherry    8        1200\n",
              "peer     10        2500\n",
              "banana    5        3800\n",
              "apple     3        6000"
            ]
          },
          "metadata": {
            "tags": []
          },
          "execution_count": 75
        }
      ]
    },
    {
      "cell_type": "code",
      "metadata": {
        "colab": {
          "base_uri": "https://localhost:8080/",
          "height": 173
        },
        "id": "6ee98c36",
        "outputId": "f961eb93-06f4-4a36-95e7-f96208df3db8"
      },
      "source": [
        "fruitFrame.sort_values(by=['fruitPrice','num'])"
      ],
      "id": "6ee98c36",
      "execution_count": null,
      "outputs": [
        {
          "output_type": "execute_result",
          "data": {
            "text/html": [
              "<div>\n",
              "<style scoped>\n",
              "    .dataframe tbody tr th:only-of-type {\n",
              "        vertical-align: middle;\n",
              "    }\n",
              "\n",
              "    .dataframe tbody tr th {\n",
              "        vertical-align: top;\n",
              "    }\n",
              "\n",
              "    .dataframe thead th {\n",
              "        text-align: right;\n",
              "    }\n",
              "</style>\n",
              "<table border=\"1\" class=\"dataframe\">\n",
              "  <thead>\n",
              "    <tr style=\"text-align: right;\">\n",
              "      <th></th>\n",
              "      <th>num</th>\n",
              "      <th>fruitPrice</th>\n",
              "    </tr>\n",
              "  </thead>\n",
              "  <tbody>\n",
              "    <tr>\n",
              "      <th>cherry</th>\n",
              "      <td>8</td>\n",
              "      <td>1200</td>\n",
              "    </tr>\n",
              "    <tr>\n",
              "      <th>peer</th>\n",
              "      <td>10</td>\n",
              "      <td>2500</td>\n",
              "    </tr>\n",
              "    <tr>\n",
              "      <th>banana</th>\n",
              "      <td>5</td>\n",
              "      <td>3800</td>\n",
              "    </tr>\n",
              "    <tr>\n",
              "      <th>apple</th>\n",
              "      <td>3</td>\n",
              "      <td>6000</td>\n",
              "    </tr>\n",
              "  </tbody>\n",
              "</table>\n",
              "</div>"
            ],
            "text/plain": [
              "        num  fruitPrice\n",
              "cherry    8        1200\n",
              "peer     10        2500\n",
              "banana    5        3800\n",
              "apple     3        6000"
            ]
          },
          "metadata": {
            "tags": []
          },
          "execution_count": 76
        }
      ]
    },
    {
      "cell_type": "markdown",
      "metadata": {
        "id": "4a1a3989"
      },
      "source": [
        "## 기초분석\n",
        "\n",
        "Pandas는 데이터를 구조적인 측면에서 좀 더 편하게 다룰 수 있게 하는 장점을 모아서 만든 패키지로 Pandas에서 제공하는 통계 분석은 기술 통계 및 데이터 요약이다. 고급 통계 기법은 scikit-learn이나 다른 통계 패키지를 이용하여 수행 할 수 있다."
      ],
      "id": "4a1a3989"
    },
    {
      "cell_type": "markdown",
      "metadata": {
        "id": "16420cbf"
      },
      "source": [
        "![기술통계량](images/numpy-5.png)"
      ],
      "id": "16420cbf"
    },
    {
      "cell_type": "code",
      "metadata": {
        "id": "3987886f"
      },
      "source": [
        "german = pd.read_csv('http://freakonometrics.free.fr/german_credit.csv')"
      ],
      "id": "3987886f",
      "execution_count": null,
      "outputs": []
    },
    {
      "cell_type": "code",
      "metadata": {
        "colab": {
          "base_uri": "https://localhost:8080/"
        },
        "id": "29b27c4d",
        "outputId": "cade6785-a9ef-4127-931b-0e2f3a93915b"
      },
      "source": [
        "list(german.columns.values)"
      ],
      "id": "29b27c4d",
      "execution_count": null,
      "outputs": [
        {
          "output_type": "execute_result",
          "data": {
            "text/plain": [
              "['Creditability',\n",
              " 'Account Balance',\n",
              " 'Duration of Credit (month)',\n",
              " 'Payment Status of Previous Credit',\n",
              " 'Purpose',\n",
              " 'Credit Amount',\n",
              " 'Value Savings/Stocks',\n",
              " 'Length of current employment',\n",
              " 'Instalment per cent',\n",
              " 'Sex & Marital Status',\n",
              " 'Guarantors',\n",
              " 'Duration in Current address',\n",
              " 'Most valuable available asset',\n",
              " 'Age (years)',\n",
              " 'Concurrent Credits',\n",
              " 'Type of apartment',\n",
              " 'No of Credits at this Bank',\n",
              " 'Occupation',\n",
              " 'No of dependents',\n",
              " 'Telephone',\n",
              " 'Foreign Worker']"
            ]
          },
          "metadata": {
            "tags": []
          },
          "execution_count": 78
        }
      ]
    },
    {
      "cell_type": "code",
      "metadata": {
        "id": "d68ae532"
      },
      "source": [
        "german_sample=german[['Creditability',\n",
        "                      'Duration of Credit (month)',\n",
        "                      'Purpose',\n",
        "                      'Credit Amount']]"
      ],
      "id": "d68ae532",
      "execution_count": null,
      "outputs": []
    },
    {
      "cell_type": "code",
      "metadata": {
        "colab": {
          "base_uri": "https://localhost:8080/",
          "height": 419
        },
        "id": "788a1499",
        "outputId": "aa357f38-6bbe-4a43-cade-d69c68cadbbb"
      },
      "source": [
        "german_sample"
      ],
      "id": "788a1499",
      "execution_count": null,
      "outputs": [
        {
          "output_type": "execute_result",
          "data": {
            "text/html": [
              "<div>\n",
              "<style scoped>\n",
              "    .dataframe tbody tr th:only-of-type {\n",
              "        vertical-align: middle;\n",
              "    }\n",
              "\n",
              "    .dataframe tbody tr th {\n",
              "        vertical-align: top;\n",
              "    }\n",
              "\n",
              "    .dataframe thead th {\n",
              "        text-align: right;\n",
              "    }\n",
              "</style>\n",
              "<table border=\"1\" class=\"dataframe\">\n",
              "  <thead>\n",
              "    <tr style=\"text-align: right;\">\n",
              "      <th></th>\n",
              "      <th>Creditability</th>\n",
              "      <th>Duration of Credit (month)</th>\n",
              "      <th>Purpose</th>\n",
              "      <th>Credit Amount</th>\n",
              "    </tr>\n",
              "  </thead>\n",
              "  <tbody>\n",
              "    <tr>\n",
              "      <th>0</th>\n",
              "      <td>1</td>\n",
              "      <td>18</td>\n",
              "      <td>2</td>\n",
              "      <td>1049</td>\n",
              "    </tr>\n",
              "    <tr>\n",
              "      <th>1</th>\n",
              "      <td>1</td>\n",
              "      <td>9</td>\n",
              "      <td>0</td>\n",
              "      <td>2799</td>\n",
              "    </tr>\n",
              "    <tr>\n",
              "      <th>2</th>\n",
              "      <td>1</td>\n",
              "      <td>12</td>\n",
              "      <td>9</td>\n",
              "      <td>841</td>\n",
              "    </tr>\n",
              "    <tr>\n",
              "      <th>3</th>\n",
              "      <td>1</td>\n",
              "      <td>12</td>\n",
              "      <td>0</td>\n",
              "      <td>2122</td>\n",
              "    </tr>\n",
              "    <tr>\n",
              "      <th>4</th>\n",
              "      <td>1</td>\n",
              "      <td>12</td>\n",
              "      <td>0</td>\n",
              "      <td>2171</td>\n",
              "    </tr>\n",
              "    <tr>\n",
              "      <th>...</th>\n",
              "      <td>...</td>\n",
              "      <td>...</td>\n",
              "      <td>...</td>\n",
              "      <td>...</td>\n",
              "    </tr>\n",
              "    <tr>\n",
              "      <th>995</th>\n",
              "      <td>0</td>\n",
              "      <td>24</td>\n",
              "      <td>3</td>\n",
              "      <td>1987</td>\n",
              "    </tr>\n",
              "    <tr>\n",
              "      <th>996</th>\n",
              "      <td>0</td>\n",
              "      <td>24</td>\n",
              "      <td>0</td>\n",
              "      <td>2303</td>\n",
              "    </tr>\n",
              "    <tr>\n",
              "      <th>997</th>\n",
              "      <td>0</td>\n",
              "      <td>21</td>\n",
              "      <td>0</td>\n",
              "      <td>12680</td>\n",
              "    </tr>\n",
              "    <tr>\n",
              "      <th>998</th>\n",
              "      <td>0</td>\n",
              "      <td>12</td>\n",
              "      <td>3</td>\n",
              "      <td>6468</td>\n",
              "    </tr>\n",
              "    <tr>\n",
              "      <th>999</th>\n",
              "      <td>0</td>\n",
              "      <td>30</td>\n",
              "      <td>2</td>\n",
              "      <td>6350</td>\n",
              "    </tr>\n",
              "  </tbody>\n",
              "</table>\n",
              "<p>1000 rows × 4 columns</p>\n",
              "</div>"
            ],
            "text/plain": [
              "     Creditability  Duration of Credit (month)  Purpose  Credit Amount\n",
              "0                1                          18        2           1049\n",
              "1                1                           9        0           2799\n",
              "2                1                          12        9            841\n",
              "3                1                          12        0           2122\n",
              "4                1                          12        0           2171\n",
              "..             ...                         ...      ...            ...\n",
              "995              0                          24        3           1987\n",
              "996              0                          24        0           2303\n",
              "997              0                          21        0          12680\n",
              "998              0                          12        3           6468\n",
              "999              0                          30        2           6350\n",
              "\n",
              "[1000 rows x 4 columns]"
            ]
          },
          "metadata": {
            "tags": []
          },
          "execution_count": 80
        }
      ]
    },
    {
      "cell_type": "code",
      "metadata": {
        "colab": {
          "base_uri": "https://localhost:8080/"
        },
        "id": "0d0c9988",
        "outputId": "1c97f808-bdcd-4fab-bb7e-20fcf8d0b3fc"
      },
      "source": [
        "german_sample.min()"
      ],
      "id": "0d0c9988",
      "execution_count": null,
      "outputs": [
        {
          "output_type": "execute_result",
          "data": {
            "text/plain": [
              "Creditability                   0\n",
              "Duration of Credit (month)      4\n",
              "Purpose                         0\n",
              "Credit Amount                 250\n",
              "dtype: int64"
            ]
          },
          "metadata": {
            "tags": []
          },
          "execution_count": 81
        }
      ]
    },
    {
      "cell_type": "code",
      "metadata": {
        "colab": {
          "base_uri": "https://localhost:8080/"
        },
        "id": "e9916e88",
        "outputId": "1274cdea-11ac-4980-f64e-41666e937c52"
      },
      "source": [
        "german_sample.max()"
      ],
      "id": "e9916e88",
      "execution_count": null,
      "outputs": [
        {
          "output_type": "execute_result",
          "data": {
            "text/plain": [
              "Creditability                     1\n",
              "Duration of Credit (month)       72\n",
              "Purpose                          10\n",
              "Credit Amount                 18424\n",
              "dtype: int64"
            ]
          },
          "metadata": {
            "tags": []
          },
          "execution_count": 82
        }
      ]
    },
    {
      "cell_type": "code",
      "metadata": {
        "colab": {
          "base_uri": "https://localhost:8080/"
        },
        "id": "16353160",
        "outputId": "890768a4-3af6-428d-99ae-d417d6770c84"
      },
      "source": [
        "german_sample.mean()"
      ],
      "id": "16353160",
      "execution_count": null,
      "outputs": [
        {
          "output_type": "execute_result",
          "data": {
            "text/plain": [
              "Creditability                    0.700\n",
              "Duration of Credit (month)      20.903\n",
              "Purpose                          2.828\n",
              "Credit Amount                 3271.248\n",
              "dtype: float64"
            ]
          },
          "metadata": {
            "tags": []
          },
          "execution_count": 83
        }
      ]
    },
    {
      "cell_type": "code",
      "metadata": {
        "colab": {
          "base_uri": "https://localhost:8080/"
        },
        "id": "536018a3",
        "outputId": "09ff93df-2b98-4f1d-cce6-b153f904ffac"
      },
      "source": [
        "german_sample.describe"
      ],
      "id": "536018a3",
      "execution_count": null,
      "outputs": [
        {
          "output_type": "execute_result",
          "data": {
            "text/plain": [
              "<bound method NDFrame.describe of      Creditability  Duration of Credit (month)  Purpose  Credit Amount\n",
              "0                1                          18        2           1049\n",
              "1                1                           9        0           2799\n",
              "2                1                          12        9            841\n",
              "3                1                          12        0           2122\n",
              "4                1                          12        0           2171\n",
              "..             ...                         ...      ...            ...\n",
              "995              0                          24        3           1987\n",
              "996              0                          24        0           2303\n",
              "997              0                          21        0          12680\n",
              "998              0                          12        3           6468\n",
              "999              0                          30        2           6350\n",
              "\n",
              "[1000 rows x 4 columns]>"
            ]
          },
          "metadata": {
            "tags": []
          },
          "execution_count": 84
        }
      ]
    },
    {
      "cell_type": "code",
      "metadata": {
        "colab": {
          "base_uri": "https://localhost:8080/"
        },
        "id": "8a56d4d8",
        "outputId": "8cfcf398-45dc-4d76-9ae2-d5be5953c01e"
      },
      "source": [
        "type(german_sample.describe)"
      ],
      "id": "8a56d4d8",
      "execution_count": null,
      "outputs": [
        {
          "output_type": "execute_result",
          "data": {
            "text/plain": [
              "method"
            ]
          },
          "metadata": {
            "tags": []
          },
          "execution_count": 85
        }
      ]
    },
    {
      "cell_type": "code",
      "metadata": {
        "colab": {
          "base_uri": "https://localhost:8080/",
          "height": 297
        },
        "id": "7af4461c",
        "outputId": "024a70fd-2aec-4c58-e09c-6b3344203523"
      },
      "source": [
        "german_sample.describe()"
      ],
      "id": "7af4461c",
      "execution_count": null,
      "outputs": [
        {
          "output_type": "execute_result",
          "data": {
            "text/html": [
              "<div>\n",
              "<style scoped>\n",
              "    .dataframe tbody tr th:only-of-type {\n",
              "        vertical-align: middle;\n",
              "    }\n",
              "\n",
              "    .dataframe tbody tr th {\n",
              "        vertical-align: top;\n",
              "    }\n",
              "\n",
              "    .dataframe thead th {\n",
              "        text-align: right;\n",
              "    }\n",
              "</style>\n",
              "<table border=\"1\" class=\"dataframe\">\n",
              "  <thead>\n",
              "    <tr style=\"text-align: right;\">\n",
              "      <th></th>\n",
              "      <th>Creditability</th>\n",
              "      <th>Duration of Credit (month)</th>\n",
              "      <th>Purpose</th>\n",
              "      <th>Credit Amount</th>\n",
              "    </tr>\n",
              "  </thead>\n",
              "  <tbody>\n",
              "    <tr>\n",
              "      <th>count</th>\n",
              "      <td>1000.000000</td>\n",
              "      <td>1000.000000</td>\n",
              "      <td>1000.000000</td>\n",
              "      <td>1000.00000</td>\n",
              "    </tr>\n",
              "    <tr>\n",
              "      <th>mean</th>\n",
              "      <td>0.700000</td>\n",
              "      <td>20.903000</td>\n",
              "      <td>2.828000</td>\n",
              "      <td>3271.24800</td>\n",
              "    </tr>\n",
              "    <tr>\n",
              "      <th>std</th>\n",
              "      <td>0.458487</td>\n",
              "      <td>12.058814</td>\n",
              "      <td>2.744439</td>\n",
              "      <td>2822.75176</td>\n",
              "    </tr>\n",
              "    <tr>\n",
              "      <th>min</th>\n",
              "      <td>0.000000</td>\n",
              "      <td>4.000000</td>\n",
              "      <td>0.000000</td>\n",
              "      <td>250.00000</td>\n",
              "    </tr>\n",
              "    <tr>\n",
              "      <th>25%</th>\n",
              "      <td>0.000000</td>\n",
              "      <td>12.000000</td>\n",
              "      <td>1.000000</td>\n",
              "      <td>1365.50000</td>\n",
              "    </tr>\n",
              "    <tr>\n",
              "      <th>50%</th>\n",
              "      <td>1.000000</td>\n",
              "      <td>18.000000</td>\n",
              "      <td>2.000000</td>\n",
              "      <td>2319.50000</td>\n",
              "    </tr>\n",
              "    <tr>\n",
              "      <th>75%</th>\n",
              "      <td>1.000000</td>\n",
              "      <td>24.000000</td>\n",
              "      <td>3.000000</td>\n",
              "      <td>3972.25000</td>\n",
              "    </tr>\n",
              "    <tr>\n",
              "      <th>max</th>\n",
              "      <td>1.000000</td>\n",
              "      <td>72.000000</td>\n",
              "      <td>10.000000</td>\n",
              "      <td>18424.00000</td>\n",
              "    </tr>\n",
              "  </tbody>\n",
              "</table>\n",
              "</div>"
            ],
            "text/plain": [
              "       Creditability  Duration of Credit (month)      Purpose  Credit Amount\n",
              "count    1000.000000                 1000.000000  1000.000000     1000.00000\n",
              "mean        0.700000                   20.903000     2.828000     3271.24800\n",
              "std         0.458487                   12.058814     2.744439     2822.75176\n",
              "min         0.000000                    4.000000     0.000000      250.00000\n",
              "25%         0.000000                   12.000000     1.000000     1365.50000\n",
              "50%         1.000000                   18.000000     2.000000     2319.50000\n",
              "75%         1.000000                   24.000000     3.000000     3972.25000\n",
              "max         1.000000                   72.000000    10.000000    18424.00000"
            ]
          },
          "metadata": {
            "tags": []
          },
          "execution_count": 86
        }
      ]
    },
    {
      "cell_type": "code",
      "metadata": {
        "colab": {
          "base_uri": "https://localhost:8080/"
        },
        "id": "6f5f8aee",
        "outputId": "ee797374-8a29-4ac0-ea02-eccd94405a07"
      },
      "source": [
        "type(german_sample.describe())"
      ],
      "id": "6f5f8aee",
      "execution_count": null,
      "outputs": [
        {
          "output_type": "execute_result",
          "data": {
            "text/plain": [
              "pandas.core.frame.DataFrame"
            ]
          },
          "metadata": {
            "tags": []
          },
          "execution_count": 87
        }
      ]
    },
    {
      "cell_type": "markdown",
      "metadata": {
        "id": "fecf9bc1"
      },
      "source": [
        "## 상관관계와 공분산\n",
        "\n",
        "공분산(Covariance) : X의 편차와 Y의 편차를 곱한 것의 평균, X와 Y의 단위에 영향을 받는다.\n",
        "\n",
        "상관계수(Correlation) : 확률변수의 절대적 크기에 영향을 받지 않도록 단위화, 분산의 크기만큼 나눔"
      ],
      "id": "fecf9bc1"
    },
    {
      "cell_type": "code",
      "metadata": {
        "id": "4992a566"
      },
      "source": [
        "german_sample=german[['Duration of Credit (month)',\n",
        "                      'Credit Amount',\n",
        "                      'Age (years)']]"
      ],
      "id": "4992a566",
      "execution_count": null,
      "outputs": []
    },
    {
      "cell_type": "code",
      "metadata": {
        "colab": {
          "base_uri": "https://localhost:8080/",
          "height": 204
        },
        "id": "fbfd41f0",
        "outputId": "9c9a46d0-3222-47db-8376-8ea03ecf25bd"
      },
      "source": [
        "german_sample.head() # head - 자료의 맛보기만 보여주는 것"
      ],
      "id": "fbfd41f0",
      "execution_count": null,
      "outputs": [
        {
          "output_type": "execute_result",
          "data": {
            "text/html": [
              "<div>\n",
              "<style scoped>\n",
              "    .dataframe tbody tr th:only-of-type {\n",
              "        vertical-align: middle;\n",
              "    }\n",
              "\n",
              "    .dataframe tbody tr th {\n",
              "        vertical-align: top;\n",
              "    }\n",
              "\n",
              "    .dataframe thead th {\n",
              "        text-align: right;\n",
              "    }\n",
              "</style>\n",
              "<table border=\"1\" class=\"dataframe\">\n",
              "  <thead>\n",
              "    <tr style=\"text-align: right;\">\n",
              "      <th></th>\n",
              "      <th>Duration of Credit (month)</th>\n",
              "      <th>Credit Amount</th>\n",
              "      <th>Age (years)</th>\n",
              "    </tr>\n",
              "  </thead>\n",
              "  <tbody>\n",
              "    <tr>\n",
              "      <th>0</th>\n",
              "      <td>18</td>\n",
              "      <td>1049</td>\n",
              "      <td>21</td>\n",
              "    </tr>\n",
              "    <tr>\n",
              "      <th>1</th>\n",
              "      <td>9</td>\n",
              "      <td>2799</td>\n",
              "      <td>36</td>\n",
              "    </tr>\n",
              "    <tr>\n",
              "      <th>2</th>\n",
              "      <td>12</td>\n",
              "      <td>841</td>\n",
              "      <td>23</td>\n",
              "    </tr>\n",
              "    <tr>\n",
              "      <th>3</th>\n",
              "      <td>12</td>\n",
              "      <td>2122</td>\n",
              "      <td>39</td>\n",
              "    </tr>\n",
              "    <tr>\n",
              "      <th>4</th>\n",
              "      <td>12</td>\n",
              "      <td>2171</td>\n",
              "      <td>38</td>\n",
              "    </tr>\n",
              "  </tbody>\n",
              "</table>\n",
              "</div>"
            ],
            "text/plain": [
              "   Duration of Credit (month)  Credit Amount  Age (years)\n",
              "0                          18           1049           21\n",
              "1                           9           2799           36\n",
              "2                          12            841           23\n",
              "3                          12           2122           39\n",
              "4                          12           2171           38"
            ]
          },
          "metadata": {
            "tags": []
          },
          "execution_count": 89
        }
      ]
    },
    {
      "cell_type": "code",
      "metadata": {
        "colab": {
          "base_uri": "https://localhost:8080/",
          "height": 142
        },
        "id": "6ddd3f16",
        "outputId": "e06b640d-e47c-4e95-9ba2-bf4be502cbd9"
      },
      "source": [
        "# 상관계수 (공분산보다 이것을 더 많이 활용함)\n",
        "german_sample.corr()"
      ],
      "id": "6ddd3f16",
      "execution_count": null,
      "outputs": [
        {
          "output_type": "execute_result",
          "data": {
            "text/html": [
              "<div>\n",
              "<style scoped>\n",
              "    .dataframe tbody tr th:only-of-type {\n",
              "        vertical-align: middle;\n",
              "    }\n",
              "\n",
              "    .dataframe tbody tr th {\n",
              "        vertical-align: top;\n",
              "    }\n",
              "\n",
              "    .dataframe thead th {\n",
              "        text-align: right;\n",
              "    }\n",
              "</style>\n",
              "<table border=\"1\" class=\"dataframe\">\n",
              "  <thead>\n",
              "    <tr style=\"text-align: right;\">\n",
              "      <th></th>\n",
              "      <th>Duration of Credit (month)</th>\n",
              "      <th>Credit Amount</th>\n",
              "      <th>Age (years)</th>\n",
              "    </tr>\n",
              "  </thead>\n",
              "  <tbody>\n",
              "    <tr>\n",
              "      <th>Duration of Credit (month)</th>\n",
              "      <td>1.000000</td>\n",
              "      <td>0.624988</td>\n",
              "      <td>-0.037550</td>\n",
              "    </tr>\n",
              "    <tr>\n",
              "      <th>Credit Amount</th>\n",
              "      <td>0.624988</td>\n",
              "      <td>1.000000</td>\n",
              "      <td>0.032273</td>\n",
              "    </tr>\n",
              "    <tr>\n",
              "      <th>Age (years)</th>\n",
              "      <td>-0.037550</td>\n",
              "      <td>0.032273</td>\n",
              "      <td>1.000000</td>\n",
              "    </tr>\n",
              "  </tbody>\n",
              "</table>\n",
              "</div>"
            ],
            "text/plain": [
              "                            Duration of Credit (month)  ...  Age (years)\n",
              "Duration of Credit (month)                    1.000000  ...    -0.037550\n",
              "Credit Amount                                 0.624988  ...     0.032273\n",
              "Age (years)                                  -0.037550  ...     1.000000\n",
              "\n",
              "[3 rows x 3 columns]"
            ]
          },
          "metadata": {
            "tags": []
          },
          "execution_count": 90
        }
      ]
    },
    {
      "cell_type": "code",
      "metadata": {
        "colab": {
          "base_uri": "https://localhost:8080/",
          "height": 142
        },
        "id": "b329bc38",
        "outputId": "a1c22743-fbef-4eac-ba97-a20e067debfb"
      },
      "source": [
        "# 공분산\n",
        "german_sample.cov()"
      ],
      "id": "b329bc38",
      "execution_count": null,
      "outputs": [
        {
          "output_type": "execute_result",
          "data": {
            "text/html": [
              "<div>\n",
              "<style scoped>\n",
              "    .dataframe tbody tr th:only-of-type {\n",
              "        vertical-align: middle;\n",
              "    }\n",
              "\n",
              "    .dataframe tbody tr th {\n",
              "        vertical-align: top;\n",
              "    }\n",
              "\n",
              "    .dataframe thead th {\n",
              "        text-align: right;\n",
              "    }\n",
              "</style>\n",
              "<table border=\"1\" class=\"dataframe\">\n",
              "  <thead>\n",
              "    <tr style=\"text-align: right;\">\n",
              "      <th></th>\n",
              "      <th>Duration of Credit (month)</th>\n",
              "      <th>Credit Amount</th>\n",
              "      <th>Age (years)</th>\n",
              "    </tr>\n",
              "  </thead>\n",
              "  <tbody>\n",
              "    <tr>\n",
              "      <th>Duration of Credit (month)</th>\n",
              "      <td>145.415006</td>\n",
              "      <td>2.127401e+04</td>\n",
              "      <td>-5.140567</td>\n",
              "    </tr>\n",
              "    <tr>\n",
              "      <th>Credit Amount</th>\n",
              "      <td>21274.007063</td>\n",
              "      <td>7.967927e+06</td>\n",
              "      <td>1034.202787</td>\n",
              "    </tr>\n",
              "    <tr>\n",
              "      <th>Age (years)</th>\n",
              "      <td>-5.140567</td>\n",
              "      <td>1.034203e+03</td>\n",
              "      <td>128.883119</td>\n",
              "    </tr>\n",
              "  </tbody>\n",
              "</table>\n",
              "</div>"
            ],
            "text/plain": [
              "                            Duration of Credit (month)  ...  Age (years)\n",
              "Duration of Credit (month)                  145.415006  ...    -5.140567\n",
              "Credit Amount                             21274.007063  ...  1034.202787\n",
              "Age (years)                                  -5.140567  ...   128.883119\n",
              "\n",
              "[3 rows x 3 columns]"
            ]
          },
          "metadata": {
            "tags": []
          },
          "execution_count": 91
        }
      ]
    },
    {
      "cell_type": "markdown",
      "metadata": {
        "id": "GgxdpsCsThwh"
      },
      "source": [
        "## 핵심기능 Group by\n",
        "\n",
        "Group by는 데이터를 구분 할 수 있는 컬럼의 값들을 이용하여 데이터를 여러 기준에 의해 구분 한 뒤 계산 및 순회 등 함수의 계산을 할 수 있는 방법이다. 이런 Group by를 통해 계산하고 반복문을 활용하는 방법을 설명한다."
      ],
      "id": "GgxdpsCsThwh"
    },
    {
      "cell_type": "code",
      "metadata": {
        "id": "76319883"
      },
      "source": [
        "german_sample = german[['Credit Amount','Type of apartment']]"
      ],
      "id": "76319883",
      "execution_count": null,
      "outputs": []
    },
    {
      "cell_type": "code",
      "metadata": {
        "colab": {
          "base_uri": "https://localhost:8080/",
          "height": 419
        },
        "id": "DL2sLD-YT9mW",
        "outputId": "7faafde0-f74c-4ec6-b240-220286cae62f"
      },
      "source": [
        "german_sample"
      ],
      "id": "DL2sLD-YT9mW",
      "execution_count": null,
      "outputs": [
        {
          "output_type": "execute_result",
          "data": {
            "text/html": [
              "<div>\n",
              "<style scoped>\n",
              "    .dataframe tbody tr th:only-of-type {\n",
              "        vertical-align: middle;\n",
              "    }\n",
              "\n",
              "    .dataframe tbody tr th {\n",
              "        vertical-align: top;\n",
              "    }\n",
              "\n",
              "    .dataframe thead th {\n",
              "        text-align: right;\n",
              "    }\n",
              "</style>\n",
              "<table border=\"1\" class=\"dataframe\">\n",
              "  <thead>\n",
              "    <tr style=\"text-align: right;\">\n",
              "      <th></th>\n",
              "      <th>Credit Amount</th>\n",
              "      <th>Type of apartment</th>\n",
              "    </tr>\n",
              "  </thead>\n",
              "  <tbody>\n",
              "    <tr>\n",
              "      <th>0</th>\n",
              "      <td>1049</td>\n",
              "      <td>1</td>\n",
              "    </tr>\n",
              "    <tr>\n",
              "      <th>1</th>\n",
              "      <td>2799</td>\n",
              "      <td>1</td>\n",
              "    </tr>\n",
              "    <tr>\n",
              "      <th>2</th>\n",
              "      <td>841</td>\n",
              "      <td>1</td>\n",
              "    </tr>\n",
              "    <tr>\n",
              "      <th>3</th>\n",
              "      <td>2122</td>\n",
              "      <td>1</td>\n",
              "    </tr>\n",
              "    <tr>\n",
              "      <th>4</th>\n",
              "      <td>2171</td>\n",
              "      <td>2</td>\n",
              "    </tr>\n",
              "    <tr>\n",
              "      <th>...</th>\n",
              "      <td>...</td>\n",
              "      <td>...</td>\n",
              "    </tr>\n",
              "    <tr>\n",
              "      <th>995</th>\n",
              "      <td>1987</td>\n",
              "      <td>1</td>\n",
              "    </tr>\n",
              "    <tr>\n",
              "      <th>996</th>\n",
              "      <td>2303</td>\n",
              "      <td>2</td>\n",
              "    </tr>\n",
              "    <tr>\n",
              "      <th>997</th>\n",
              "      <td>12680</td>\n",
              "      <td>3</td>\n",
              "    </tr>\n",
              "    <tr>\n",
              "      <th>998</th>\n",
              "      <td>6468</td>\n",
              "      <td>2</td>\n",
              "    </tr>\n",
              "    <tr>\n",
              "      <th>999</th>\n",
              "      <td>6350</td>\n",
              "      <td>2</td>\n",
              "    </tr>\n",
              "  </tbody>\n",
              "</table>\n",
              "<p>1000 rows × 2 columns</p>\n",
              "</div>"
            ],
            "text/plain": [
              "     Credit Amount  Type of apartment\n",
              "0             1049                  1\n",
              "1             2799                  1\n",
              "2              841                  1\n",
              "3             2122                  1\n",
              "4             2171                  2\n",
              "..             ...                ...\n",
              "995           1987                  1\n",
              "996           2303                  2\n",
              "997          12680                  3\n",
              "998           6468                  2\n",
              "999           6350                  2\n",
              "\n",
              "[1000 rows x 2 columns]"
            ]
          },
          "metadata": {
            "tags": []
          },
          "execution_count": 94
        }
      ]
    },
    {
      "cell_type": "code",
      "metadata": {
        "id": "PpqcloZGUE7n"
      },
      "source": [
        "german_grouped = german_sample['Credit Amount'].groupby(german_sample['Type of apartment'])"
      ],
      "id": "PpqcloZGUE7n",
      "execution_count": null,
      "outputs": []
    },
    {
      "cell_type": "code",
      "metadata": {
        "colab": {
          "base_uri": "https://localhost:8080/"
        },
        "id": "B1Hn6kjxUj7P",
        "outputId": "d93535a8-e073-4bf6-94a0-7cb440756570"
      },
      "source": [
        "german_grouped.mean()"
      ],
      "id": "B1Hn6kjxUj7P",
      "execution_count": null,
      "outputs": [
        {
          "output_type": "execute_result",
          "data": {
            "text/plain": [
              "Type of apartment\n",
              "1    3122.553073\n",
              "2    3067.257703\n",
              "3    4881.205607\n",
              "Name: Credit Amount, dtype: float64"
            ]
          },
          "metadata": {
            "tags": []
          },
          "execution_count": 96
        }
      ]
    },
    {
      "cell_type": "code",
      "metadata": {
        "id": "YcK0oUAhVAgp"
      },
      "source": [
        "german_sample = german[['Credit Amount','Type of apartment','Purpose']]"
      ],
      "id": "YcK0oUAhVAgp",
      "execution_count": null,
      "outputs": []
    },
    {
      "cell_type": "code",
      "metadata": {
        "id": "ZjN1_iNeVpC1"
      },
      "source": [
        "german_grouped2 = german_sample['Credit Amount'].groupby([german_sample['Purpose'],\n",
        "                                                         german_sample['Type of apartment']])"
      ],
      "id": "ZjN1_iNeVpC1",
      "execution_count": null,
      "outputs": []
    },
    {
      "cell_type": "code",
      "metadata": {
        "colab": {
          "base_uri": "https://localhost:8080/"
        },
        "id": "U9deqyAkWLur",
        "outputId": "3dd45ed2-c9a9-4a49-8cea-776ecfbc76cf"
      },
      "source": [
        "german_grouped2.mean()"
      ],
      "id": "U9deqyAkWLur",
      "execution_count": null,
      "outputs": [
        {
          "output_type": "execute_result",
          "data": {
            "text/plain": [
              "Purpose  Type of apartment\n",
              "0        1                    2597.225000\n",
              "         2                    2811.024242\n",
              "         3                    5138.689655\n",
              "1        1                    5037.086957\n",
              "         2                    4915.222222\n",
              "         3                    6609.923077\n",
              "2        1                    2727.354167\n",
              "         2                    3107.450820\n",
              "         3                    4100.181818\n",
              "3        1                    2199.763158\n",
              "         2                    2540.533040\n",
              "         3                    2417.333333\n",
              "4        1                    1255.500000\n",
              "         2                    1546.500000\n",
              "5        1                    1522.000000\n",
              "         2                    2866.000000\n",
              "         3                    2750.666667\n",
              "6        1                    3156.444444\n",
              "         2                    2492.423077\n",
              "         3                    4387.266667\n",
              "8        1                     902.000000\n",
              "         2                    1243.875000\n",
              "9        1                    5614.125000\n",
              "         2                    3800.592105\n",
              "         3                    4931.800000\n",
              "10       2                    8576.111111\n",
              "         3                    7109.000000\n",
              "Name: Credit Amount, dtype: float64"
            ]
          },
          "metadata": {
            "tags": []
          },
          "execution_count": 100
        }
      ]
    },
    {
      "cell_type": "code",
      "metadata": {
        "id": "aCNI3nrDWokB"
      },
      "source": [
        "german=pd.read_csv(\"http://freakonometrics.free.fr/german_credit.csv\")\n",
        "german_sample=german[['Type of apartment',\n",
        "                      'Sex & Marital Status',\n",
        "                      'Credit Amount']]"
      ],
      "id": "aCNI3nrDWokB",
      "execution_count": null,
      "outputs": []
    },
    {
      "cell_type": "code",
      "metadata": {
        "colab": {
          "base_uri": "https://localhost:8080/"
        },
        "id": "u07QbRNuXHjN",
        "outputId": "ba4bc9a4-7867-4f3a-94a9-7e001707e502"
      },
      "source": [
        "for type, group in german_sample.groupby('Type of apartment'):\n",
        "  print(type)\n",
        "  print(group.head(n=3))"
      ],
      "id": "u07QbRNuXHjN",
      "execution_count": null,
      "outputs": [
        {
          "output_type": "stream",
          "text": [
            "1\n",
            "   Type of apartment  Sex & Marital Status  Credit Amount\n",
            "0                  1                     2           1049\n",
            "1                  1                     3           2799\n",
            "2                  1                     2            841\n",
            "2\n",
            "   Type of apartment  Sex & Marital Status  Credit Amount\n",
            "4                  2                     3           2171\n",
            "6                  2                     3           3398\n",
            "7                  2                     3           1361\n",
            "3\n",
            "    Type of apartment  Sex & Marital Status  Credit Amount\n",
            "29                  3                     3           4796\n",
            "44                  3                     3           1239\n",
            "69                  3                     3           2032\n"
          ],
          "name": "stdout"
        }
      ]
    },
    {
      "cell_type": "code",
      "metadata": {
        "colab": {
          "base_uri": "https://localhost:8080/"
        },
        "id": "bjuIaNAjXnuI",
        "outputId": "78eac064-9178-4827-b78c-e28ff8a78711"
      },
      "source": [
        "for (type,sex) , group in german_sample.groupby(['Type of apartment','Sex & Marital Status']):\n",
        "  print((type,sex))\n",
        "  print(group.head(n=3))"
      ],
      "id": "bjuIaNAjXnuI",
      "execution_count": null,
      "outputs": [
        {
          "output_type": "stream",
          "text": [
            "(1, 1)\n",
            "     Type of apartment  Sex & Marital Status  Credit Amount\n",
            "369                  1                     1           3021\n",
            "777                  1                     1           3384\n",
            "797                  1                     1           2319\n",
            "(1, 2)\n",
            "   Type of apartment  Sex & Marital Status  Credit Amount\n",
            "0                  1                     2           1049\n",
            "2                  1                     2            841\n",
            "9                  1                     2           3758\n",
            "(1, 3)\n",
            "   Type of apartment  Sex & Marital Status  Credit Amount\n",
            "1                  1                     3           2799\n",
            "3                  1                     3           2122\n",
            "5                  1                     3           2241\n",
            "(1, 4)\n",
            "    Type of apartment  Sex & Marital Status  Credit Amount\n",
            "11                  1                     4           6187\n",
            "14                  1                     4           1936\n",
            "17                  1                     4           3213\n",
            "(2, 1)\n",
            "     Type of apartment  Sex & Marital Status  Credit Amount\n",
            "50                   2                     1            640\n",
            "97                   2                     1           4455\n",
            "112                  2                     1           2366\n",
            "(2, 2)\n",
            "    Type of apartment  Sex & Marital Status  Credit Amount\n",
            "8                   2                     2           1098\n",
            "12                  2                     2           1957\n",
            "33                  2                     2           1376\n",
            "(2, 3)\n",
            "   Type of apartment  Sex & Marital Status  Credit Amount\n",
            "4                  2                     3           2171\n",
            "6                  2                     3           3398\n",
            "7                  2                     3           1361\n",
            "(2, 4)\n",
            "    Type of apartment  Sex & Marital Status  Credit Amount\n",
            "48                  2                     4           1474\n",
            "57                  2                     4           1053\n",
            "78                  2                     4           1602\n",
            "(3, 1)\n",
            "     Type of apartment  Sex & Marital Status  Credit Amount\n",
            "620                  3                     1           9277\n",
            "749                  3                     1           2892\n",
            "784                  3                     1           2149\n",
            "(3, 2)\n",
            "     Type of apartment  Sex & Marital Status  Credit Amount\n",
            "423                  3                     2           2133\n",
            "453                  3                     2           5743\n",
            "467                  3                     2           5324\n",
            "(3, 3)\n",
            "    Type of apartment  Sex & Marital Status  Credit Amount\n",
            "29                  3                     3           4796\n",
            "44                  3                     3           1239\n",
            "69                  3                     3           2032\n",
            "(3, 4)\n",
            "     Type of apartment  Sex & Marital Status  Credit Amount\n",
            "125                  3                     4           5103\n"
          ],
          "name": "stdout"
        }
      ]
    },
    {
      "cell_type": "markdown",
      "metadata": {
        "id": "_7x3LQjaZckP"
      },
      "source": [
        "## 데이터 분석 예제 행성데이터\n",
        "\n",
        "Seaborn 패키지에서 제공 받을 수 있는 행성 데이터 세트를 사용한다.\n",
        "Seaborn 패키디는 천문학자가 다른 별 주변에서 발견한 행성에대 대한 정보를 제공하며 2014년까지 발견된 1000개 이상의 외계 행성에 대한 세부 정보를 담고 있다."
      ],
      "id": "_7x3LQjaZckP"
    },
    {
      "cell_type": "code",
      "metadata": {
        "id": "xVKBpWDSYwLs"
      },
      "source": [
        "import seaborn as sns\n",
        "planets = sns.load_dataset('planets')"
      ],
      "id": "xVKBpWDSYwLs",
      "execution_count": null,
      "outputs": []
    },
    {
      "cell_type": "code",
      "metadata": {
        "colab": {
          "base_uri": "https://localhost:8080/"
        },
        "id": "x0ezo-goZQwm",
        "outputId": "9175690f-069b-4977-a1b7-968320e39bab"
      },
      "source": [
        "planets.shape # 데이터의 개수는 1035개, columns이 6개"
      ],
      "id": "x0ezo-goZQwm",
      "execution_count": null,
      "outputs": [
        {
          "output_type": "execute_result",
          "data": {
            "text/plain": [
              "(1035, 6)"
            ]
          },
          "metadata": {
            "tags": []
          },
          "execution_count": 109
        }
      ]
    },
    {
      "cell_type": "code",
      "metadata": {
        "colab": {
          "base_uri": "https://localhost:8080/"
        },
        "id": "r6MaB2yLaIWf",
        "outputId": "4aa06e0c-8c35-469f-bb27-ff7a691de593"
      },
      "source": [
        "planets.head"
      ],
      "id": "r6MaB2yLaIWf",
      "execution_count": null,
      "outputs": [
        {
          "output_type": "execute_result",
          "data": {
            "text/plain": [
              "<bound method NDFrame.head of                method  number  orbital_period   mass  distance  year\n",
              "0     Radial Velocity       1      269.300000   7.10     77.40  2006\n",
              "1     Radial Velocity       1      874.774000   2.21     56.95  2008\n",
              "2     Radial Velocity       1      763.000000   2.60     19.84  2011\n",
              "3     Radial Velocity       1      326.030000  19.40    110.62  2007\n",
              "4     Radial Velocity       1      516.220000  10.50    119.47  2009\n",
              "...               ...     ...             ...    ...       ...   ...\n",
              "1030          Transit       1        3.941507    NaN    172.00  2006\n",
              "1031          Transit       1        2.615864    NaN    148.00  2007\n",
              "1032          Transit       1        3.191524    NaN    174.00  2007\n",
              "1033          Transit       1        4.125083    NaN    293.00  2008\n",
              "1034          Transit       1        4.187757    NaN    260.00  2008\n",
              "\n",
              "[1035 rows x 6 columns]>"
            ]
          },
          "metadata": {
            "tags": []
          },
          "execution_count": 110
        }
      ]
    },
    {
      "cell_type": "code",
      "metadata": {
        "colab": {
          "base_uri": "https://localhost:8080/",
          "height": 297
        },
        "id": "Eq4PZBDDaR_r",
        "outputId": "40b26b98-93ec-4909-c253-174e550a438d"
      },
      "source": [
        "planets.dropna().describe()"
      ],
      "id": "Eq4PZBDDaR_r",
      "execution_count": null,
      "outputs": [
        {
          "output_type": "execute_result",
          "data": {
            "text/html": [
              "<div>\n",
              "<style scoped>\n",
              "    .dataframe tbody tr th:only-of-type {\n",
              "        vertical-align: middle;\n",
              "    }\n",
              "\n",
              "    .dataframe tbody tr th {\n",
              "        vertical-align: top;\n",
              "    }\n",
              "\n",
              "    .dataframe thead th {\n",
              "        text-align: right;\n",
              "    }\n",
              "</style>\n",
              "<table border=\"1\" class=\"dataframe\">\n",
              "  <thead>\n",
              "    <tr style=\"text-align: right;\">\n",
              "      <th></th>\n",
              "      <th>number</th>\n",
              "      <th>orbital_period</th>\n",
              "      <th>mass</th>\n",
              "      <th>distance</th>\n",
              "      <th>year</th>\n",
              "    </tr>\n",
              "  </thead>\n",
              "  <tbody>\n",
              "    <tr>\n",
              "      <th>count</th>\n",
              "      <td>498.00000</td>\n",
              "      <td>498.000000</td>\n",
              "      <td>498.000000</td>\n",
              "      <td>498.000000</td>\n",
              "      <td>498.000000</td>\n",
              "    </tr>\n",
              "    <tr>\n",
              "      <th>mean</th>\n",
              "      <td>1.73494</td>\n",
              "      <td>835.778671</td>\n",
              "      <td>2.509320</td>\n",
              "      <td>52.068213</td>\n",
              "      <td>2007.377510</td>\n",
              "    </tr>\n",
              "    <tr>\n",
              "      <th>std</th>\n",
              "      <td>1.17572</td>\n",
              "      <td>1469.128259</td>\n",
              "      <td>3.636274</td>\n",
              "      <td>46.596041</td>\n",
              "      <td>4.167284</td>\n",
              "    </tr>\n",
              "    <tr>\n",
              "      <th>min</th>\n",
              "      <td>1.00000</td>\n",
              "      <td>1.328300</td>\n",
              "      <td>0.003600</td>\n",
              "      <td>1.350000</td>\n",
              "      <td>1989.000000</td>\n",
              "    </tr>\n",
              "    <tr>\n",
              "      <th>25%</th>\n",
              "      <td>1.00000</td>\n",
              "      <td>38.272250</td>\n",
              "      <td>0.212500</td>\n",
              "      <td>24.497500</td>\n",
              "      <td>2005.000000</td>\n",
              "    </tr>\n",
              "    <tr>\n",
              "      <th>50%</th>\n",
              "      <td>1.00000</td>\n",
              "      <td>357.000000</td>\n",
              "      <td>1.245000</td>\n",
              "      <td>39.940000</td>\n",
              "      <td>2009.000000</td>\n",
              "    </tr>\n",
              "    <tr>\n",
              "      <th>75%</th>\n",
              "      <td>2.00000</td>\n",
              "      <td>999.600000</td>\n",
              "      <td>2.867500</td>\n",
              "      <td>59.332500</td>\n",
              "      <td>2011.000000</td>\n",
              "    </tr>\n",
              "    <tr>\n",
              "      <th>max</th>\n",
              "      <td>6.00000</td>\n",
              "      <td>17337.500000</td>\n",
              "      <td>25.000000</td>\n",
              "      <td>354.000000</td>\n",
              "      <td>2014.000000</td>\n",
              "    </tr>\n",
              "  </tbody>\n",
              "</table>\n",
              "</div>"
            ],
            "text/plain": [
              "          number  orbital_period        mass    distance         year\n",
              "count  498.00000      498.000000  498.000000  498.000000   498.000000\n",
              "mean     1.73494      835.778671    2.509320   52.068213  2007.377510\n",
              "std      1.17572     1469.128259    3.636274   46.596041     4.167284\n",
              "min      1.00000        1.328300    0.003600    1.350000  1989.000000\n",
              "25%      1.00000       38.272250    0.212500   24.497500  2005.000000\n",
              "50%      1.00000      357.000000    1.245000   39.940000  2009.000000\n",
              "75%      2.00000      999.600000    2.867500   59.332500  2011.000000\n",
              "max      6.00000    17337.500000   25.000000  354.000000  2014.000000"
            ]
          },
          "metadata": {
            "tags": []
          },
          "execution_count": 111
        }
      ]
    },
    {
      "cell_type": "code",
      "metadata": {
        "id": "leoZ-8oCbFbd"
      },
      "source": [
        "births = pd.read_csv('https://raw.githubusercontent.com/jakevdp/data-CDCbirths/master/births.csv')"
      ],
      "id": "leoZ-8oCbFbd",
      "execution_count": null,
      "outputs": []
    },
    {
      "cell_type": "code",
      "metadata": {
        "colab": {
          "base_uri": "https://localhost:8080/"
        },
        "id": "P4G1PYDpbnQl",
        "outputId": "1700ba39-9770-422e-f9c5-d6bbf8da6793"
      },
      "source": [
        "births.head"
      ],
      "id": "P4G1PYDpbnQl",
      "execution_count": null,
      "outputs": [
        {
          "output_type": "execute_result",
          "data": {
            "text/plain": [
              "<bound method NDFrame.head of        year  month  day gender  births\n",
              "0      1969      1  1.0      F    4046\n",
              "1      1969      1  1.0      M    4440\n",
              "2      1969      1  2.0      F    4454\n",
              "3      1969      1  2.0      M    4548\n",
              "4      1969      1  3.0      F    4548\n",
              "...     ...    ...  ...    ...     ...\n",
              "15542  2008     10  NaN      M  183219\n",
              "15543  2008     11  NaN      F  158939\n",
              "15544  2008     11  NaN      M  165468\n",
              "15545  2008     12  NaN      F  173215\n",
              "15546  2008     12  NaN      M  181235\n",
              "\n",
              "[15547 rows x 5 columns]>"
            ]
          },
          "metadata": {
            "tags": []
          },
          "execution_count": 113
        }
      ]
    },
    {
      "cell_type": "code",
      "metadata": {
        "id": "6nNHdR0JbymA"
      },
      "source": [
        "# decade(//10 * 10) 연대(19*0년대, 2000년대 같이 10년 단위)\n",
        "births['decade'] = births['year'] // 10 * 10"
      ],
      "id": "6nNHdR0JbymA",
      "execution_count": null,
      "outputs": []
    },
    {
      "cell_type": "code",
      "metadata": {
        "colab": {
          "base_uri": "https://localhost:8080/",
          "height": 419
        },
        "id": "gH_qgalVgAay",
        "outputId": "63bdc09f-193e-4408-f4b0-8d18711f3ad0"
      },
      "source": [
        "births"
      ],
      "id": "gH_qgalVgAay",
      "execution_count": null,
      "outputs": [
        {
          "output_type": "execute_result",
          "data": {
            "text/html": [
              "<div>\n",
              "<style scoped>\n",
              "    .dataframe tbody tr th:only-of-type {\n",
              "        vertical-align: middle;\n",
              "    }\n",
              "\n",
              "    .dataframe tbody tr th {\n",
              "        vertical-align: top;\n",
              "    }\n",
              "\n",
              "    .dataframe thead th {\n",
              "        text-align: right;\n",
              "    }\n",
              "</style>\n",
              "<table border=\"1\" class=\"dataframe\">\n",
              "  <thead>\n",
              "    <tr style=\"text-align: right;\">\n",
              "      <th></th>\n",
              "      <th>year</th>\n",
              "      <th>month</th>\n",
              "      <th>day</th>\n",
              "      <th>gender</th>\n",
              "      <th>births</th>\n",
              "      <th>decade</th>\n",
              "    </tr>\n",
              "  </thead>\n",
              "  <tbody>\n",
              "    <tr>\n",
              "      <th>0</th>\n",
              "      <td>1969</td>\n",
              "      <td>1</td>\n",
              "      <td>1.0</td>\n",
              "      <td>F</td>\n",
              "      <td>4046</td>\n",
              "      <td>1960</td>\n",
              "    </tr>\n",
              "    <tr>\n",
              "      <th>1</th>\n",
              "      <td>1969</td>\n",
              "      <td>1</td>\n",
              "      <td>1.0</td>\n",
              "      <td>M</td>\n",
              "      <td>4440</td>\n",
              "      <td>1960</td>\n",
              "    </tr>\n",
              "    <tr>\n",
              "      <th>2</th>\n",
              "      <td>1969</td>\n",
              "      <td>1</td>\n",
              "      <td>2.0</td>\n",
              "      <td>F</td>\n",
              "      <td>4454</td>\n",
              "      <td>1960</td>\n",
              "    </tr>\n",
              "    <tr>\n",
              "      <th>3</th>\n",
              "      <td>1969</td>\n",
              "      <td>1</td>\n",
              "      <td>2.0</td>\n",
              "      <td>M</td>\n",
              "      <td>4548</td>\n",
              "      <td>1960</td>\n",
              "    </tr>\n",
              "    <tr>\n",
              "      <th>4</th>\n",
              "      <td>1969</td>\n",
              "      <td>1</td>\n",
              "      <td>3.0</td>\n",
              "      <td>F</td>\n",
              "      <td>4548</td>\n",
              "      <td>1960</td>\n",
              "    </tr>\n",
              "    <tr>\n",
              "      <th>...</th>\n",
              "      <td>...</td>\n",
              "      <td>...</td>\n",
              "      <td>...</td>\n",
              "      <td>...</td>\n",
              "      <td>...</td>\n",
              "      <td>...</td>\n",
              "    </tr>\n",
              "    <tr>\n",
              "      <th>15542</th>\n",
              "      <td>2008</td>\n",
              "      <td>10</td>\n",
              "      <td>NaN</td>\n",
              "      <td>M</td>\n",
              "      <td>183219</td>\n",
              "      <td>2000</td>\n",
              "    </tr>\n",
              "    <tr>\n",
              "      <th>15543</th>\n",
              "      <td>2008</td>\n",
              "      <td>11</td>\n",
              "      <td>NaN</td>\n",
              "      <td>F</td>\n",
              "      <td>158939</td>\n",
              "      <td>2000</td>\n",
              "    </tr>\n",
              "    <tr>\n",
              "      <th>15544</th>\n",
              "      <td>2008</td>\n",
              "      <td>11</td>\n",
              "      <td>NaN</td>\n",
              "      <td>M</td>\n",
              "      <td>165468</td>\n",
              "      <td>2000</td>\n",
              "    </tr>\n",
              "    <tr>\n",
              "      <th>15545</th>\n",
              "      <td>2008</td>\n",
              "      <td>12</td>\n",
              "      <td>NaN</td>\n",
              "      <td>F</td>\n",
              "      <td>173215</td>\n",
              "      <td>2000</td>\n",
              "    </tr>\n",
              "    <tr>\n",
              "      <th>15546</th>\n",
              "      <td>2008</td>\n",
              "      <td>12</td>\n",
              "      <td>NaN</td>\n",
              "      <td>M</td>\n",
              "      <td>181235</td>\n",
              "      <td>2000</td>\n",
              "    </tr>\n",
              "  </tbody>\n",
              "</table>\n",
              "<p>15547 rows × 6 columns</p>\n",
              "</div>"
            ],
            "text/plain": [
              "       year  month  day gender  births  decade\n",
              "0      1969      1  1.0      F    4046    1960\n",
              "1      1969      1  1.0      M    4440    1960\n",
              "2      1969      1  2.0      F    4454    1960\n",
              "3      1969      1  2.0      M    4548    1960\n",
              "4      1969      1  3.0      F    4548    1960\n",
              "...     ...    ...  ...    ...     ...     ...\n",
              "15542  2008     10  NaN      M  183219    2000\n",
              "15543  2008     11  NaN      F  158939    2000\n",
              "15544  2008     11  NaN      M  165468    2000\n",
              "15545  2008     12  NaN      F  173215    2000\n",
              "15546  2008     12  NaN      M  181235    2000\n",
              "\n",
              "[15547 rows x 6 columns]"
            ]
          },
          "metadata": {
            "tags": []
          },
          "execution_count": 117
        }
      ]
    },
    {
      "cell_type": "code",
      "metadata": {
        "colab": {
          "base_uri": "https://localhost:8080/",
          "height": 235
        },
        "id": "u7x0uzzchLEU",
        "outputId": "75fd6bb1-12d2-4320-ada2-e59d5df48f4f"
      },
      "source": [
        "births.pivot_table('births',index='decade',columns='gender',aggfunc='sum')"
      ],
      "id": "u7x0uzzchLEU",
      "execution_count": null,
      "outputs": [
        {
          "output_type": "execute_result",
          "data": {
            "text/html": [
              "<div>\n",
              "<style scoped>\n",
              "    .dataframe tbody tr th:only-of-type {\n",
              "        vertical-align: middle;\n",
              "    }\n",
              "\n",
              "    .dataframe tbody tr th {\n",
              "        vertical-align: top;\n",
              "    }\n",
              "\n",
              "    .dataframe thead th {\n",
              "        text-align: right;\n",
              "    }\n",
              "</style>\n",
              "<table border=\"1\" class=\"dataframe\">\n",
              "  <thead>\n",
              "    <tr style=\"text-align: right;\">\n",
              "      <th>gender</th>\n",
              "      <th>F</th>\n",
              "      <th>M</th>\n",
              "    </tr>\n",
              "    <tr>\n",
              "      <th>decade</th>\n",
              "      <th></th>\n",
              "      <th></th>\n",
              "    </tr>\n",
              "  </thead>\n",
              "  <tbody>\n",
              "    <tr>\n",
              "      <th>1960</th>\n",
              "      <td>1753634</td>\n",
              "      <td>1846572</td>\n",
              "    </tr>\n",
              "    <tr>\n",
              "      <th>1970</th>\n",
              "      <td>16263075</td>\n",
              "      <td>17121550</td>\n",
              "    </tr>\n",
              "    <tr>\n",
              "      <th>1980</th>\n",
              "      <td>18310351</td>\n",
              "      <td>19243452</td>\n",
              "    </tr>\n",
              "    <tr>\n",
              "      <th>1990</th>\n",
              "      <td>19479454</td>\n",
              "      <td>20420553</td>\n",
              "    </tr>\n",
              "    <tr>\n",
              "      <th>2000</th>\n",
              "      <td>18229309</td>\n",
              "      <td>19106428</td>\n",
              "    </tr>\n",
              "  </tbody>\n",
              "</table>\n",
              "</div>"
            ],
            "text/plain": [
              "gender         F         M\n",
              "decade                    \n",
              "1960     1753634   1846572\n",
              "1970    16263075  17121550\n",
              "1980    18310351  19243452\n",
              "1990    19479454  20420553\n",
              "2000    18229309  19106428"
            ]
          },
          "metadata": {
            "tags": []
          },
          "execution_count": 118
        }
      ]
    },
    {
      "cell_type": "code",
      "metadata": {
        "id": "esqe-PVriljO"
      },
      "source": [
        "import matplotlib.pyplot as plt"
      ],
      "id": "esqe-PVriljO",
      "execution_count": null,
      "outputs": []
    },
    {
      "cell_type": "code",
      "metadata": {
        "colab": {
          "base_uri": "https://localhost:8080/",
          "height": 307
        },
        "id": "6vZyX6HgjUsF",
        "outputId": "0ff4d959-6f22-40c5-f963-9c78cf2ec0b6"
      },
      "source": [
        "births.pivot_table('births',index='year',columns='gender',aggfunc='sum').plot()"
      ],
      "id": "6vZyX6HgjUsF",
      "execution_count": null,
      "outputs": [
        {
          "output_type": "execute_result",
          "data": {
            "text/plain": [
              "<matplotlib.axes._subplots.AxesSubplot at 0x7fde6fce9990>"
            ]
          },
          "metadata": {
            "tags": []
          },
          "execution_count": 121
        },
        {
          "output_type": "display_data",
          "data": {
            "image/png": "[encoded data removed]",
            "text/plain": [
              "<Figure size 432x288 with 1 Axes>"
            ]
          },
          "metadata": {
            "tags": [],
            "needs_background": "light"
          }
        }
      ]
    },
    {
      "cell_type": "code",
      "metadata": {
        "id": "wDl8qDjmjrYa"
      },
      "source": [
        ""
      ],
      "id": "wDl8qDjmjrYa",
      "execution_count": null,
      "outputs": []
    }
  ]
}