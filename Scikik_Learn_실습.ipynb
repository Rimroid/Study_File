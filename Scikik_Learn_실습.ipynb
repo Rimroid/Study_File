{
  "nbformat": 4,
  "nbformat_minor": 0,
  "metadata": {
    "colab": {
      "name": "Scikik-Learn 실습.ipynb",
      "provenance": [],
      "collapsed_sections": [],
      "authorship_tag": "ABX9TyMYMOoTDzZKypPOEU8uzjt5",
      "include_colab_link": true
    },
    "kernelspec": {
      "name": "python3",
      "display_name": "Python 3"
    },
    "language_info": {
      "name": "python"
    }
  },
  "cells": [
    {
      "cell_type": "markdown",
      "metadata": {
        "id": "view-in-github",
        "colab_type": "text"
      },
      "source": [
        "<a href=\"https://colab.research.google.com/github/Rimroid/Study_File/blob/main/Scikik_Learn_%EC%8B%A4%EC%8A%B5.ipynb\" target=\"_parent\"><img src=\"https://colab.research.google.com/assets/colab-badge.svg\" alt=\"Open In Colab\"/></a>"
      ]
    },
    {
      "cell_type": "code",
      "metadata": {
        "id": "e-0wbfyxfIip"
      },
      "source": [
        "import numpy as np\n",
        "import pandas as pd\n",
        "import matplotlib.pyplot as plt\n",
        "import sklearn"
      ],
      "execution_count": null,
      "outputs": []
    },
    {
      "cell_type": "markdown",
      "metadata": {
        "id": "0vn1gtsLhZsD"
      },
      "source": [
        "# Iris 꽃 분석"
      ]
    },
    {
      "cell_type": "code",
      "metadata": {
        "id": "jni0dpURhELL"
      },
      "source": [
        "from sklearn.datasets import load_iris"
      ],
      "execution_count": null,
      "outputs": []
    },
    {
      "cell_type": "code",
      "metadata": {
        "id": "WxapP21uh0aL"
      },
      "source": [
        "iris_dataset = load_iris()"
      ],
      "execution_count": null,
      "outputs": []
    },
    {
      "cell_type": "code",
      "metadata": {
        "colab": {
          "base_uri": "https://localhost:8080/"
        },
        "id": "LWqzVCekiAox",
        "outputId": "8de63072-f265-4322-d828-c733ddc521bd"
      },
      "source": [
        "type(iris_dataset)"
      ],
      "execution_count": null,
      "outputs": [
        {
          "output_type": "execute_result",
          "data": {
            "text/plain": [
              "sklearn.utils.Bunch"
            ]
          },
          "metadata": {
            "tags": []
          },
          "execution_count": 69
        }
      ]
    },
    {
      "cell_type": "code",
      "metadata": {
        "colab": {
          "base_uri": "https://localhost:8080/"
        },
        "id": "eUX40KmfiKFy",
        "outputId": "3c0ba9fc-6141-43c5-bf1e-ae4b055a2ad4"
      },
      "source": [
        "iris_dataset.keys()"
      ],
      "execution_count": null,
      "outputs": [
        {
          "output_type": "execute_result",
          "data": {
            "text/plain": [
              "dict_keys(['data', 'target', 'target_names', 'DESCR', 'feature_names', 'filename'])"
            ]
          },
          "metadata": {
            "tags": []
          },
          "execution_count": 70
        }
      ]
    },
    {
      "cell_type": "code",
      "metadata": {
        "colab": {
          "base_uri": "https://localhost:8080/"
        },
        "id": "E47bKgiviitT",
        "outputId": "161d8a6d-550e-4690-e188-3d11a054bb35"
      },
      "source": [
        "print(iris_dataset['DESCR'][:193])  # [:193] 193번째까지만 본다."
      ],
      "execution_count": null,
      "outputs": [
        {
          "output_type": "stream",
          "text": [
            ".. _iris_dataset:\n",
            "\n",
            "Iris plants dataset\n",
            "--------------------\n",
            "\n",
            "**Data Set Characteristics:**\n",
            "\n",
            "    :Number of Instances: 150 (50 in each of three classes)\n",
            "    :Number of Attributes: 4 numeric, pre\n"
          ],
          "name": "stdout"
        }
      ]
    },
    {
      "cell_type": "markdown",
      "metadata": {
        "id": "HypDKQ2ck8z6"
      },
      "source": [
        "![iris dataset](https://kedro.readthedocs.io/en/stable/_images/iris_measurements.png)"
      ]
    },
    {
      "cell_type": "code",
      "metadata": {
        "colab": {
          "base_uri": "https://localhost:8080/"
        },
        "id": "TSlkcUd-i_dt",
        "outputId": "b0b2f7ba-a8ca-447c-de43-9fb64a838123"
      },
      "source": [
        "print('Terget_names:', iris_dataset['target_names'])"
      ],
      "execution_count": null,
      "outputs": [
        {
          "output_type": "stream",
          "text": [
            "Terget_names: ['setosa' 'versicolor' 'virginica']\n"
          ],
          "name": "stdout"
        }
      ]
    },
    {
      "cell_type": "code",
      "metadata": {
        "colab": {
          "base_uri": "https://localhost:8080/"
        },
        "id": "Ks3KO2Ehjk3G",
        "outputId": "96f4919c-5903-4e56-9480-a6b93324d508"
      },
      "source": [
        "print('Feature name:\\n', iris_dataset['feature_names'])"
      ],
      "execution_count": null,
      "outputs": [
        {
          "output_type": "stream",
          "text": [
            "Feature name:\n",
            " ['sepal length (cm)', 'sepal width (cm)', 'petal length (cm)', 'petal width (cm)']\n"
          ],
          "name": "stdout"
        }
      ]
    },
    {
      "cell_type": "code",
      "metadata": {
        "colab": {
          "base_uri": "https://localhost:8080/"
        },
        "id": "SGEh4uKDkcYi",
        "outputId": "7afc5a13-b151-423f-bad4-38bd193c6bf7"
      },
      "source": [
        "iris_dataset['data']"
      ],
      "execution_count": null,
      "outputs": [
        {
          "output_type": "execute_result",
          "data": {
            "text/plain": [
              "array([[5.1, 3.5, 1.4, 0.2],\n",
              "       [4.9, 3. , 1.4, 0.2],\n",
              "       [4.7, 3.2, 1.3, 0.2],\n",
              "       [4.6, 3.1, 1.5, 0.2],\n",
              "       [5. , 3.6, 1.4, 0.2],\n",
              "       [5.4, 3.9, 1.7, 0.4],\n",
              "       [4.6, 3.4, 1.4, 0.3],\n",
              "       [5. , 3.4, 1.5, 0.2],\n",
              "       [4.4, 2.9, 1.4, 0.2],\n",
              "       [4.9, 3.1, 1.5, 0.1],\n",
              "       [5.4, 3.7, 1.5, 0.2],\n",
              "       [4.8, 3.4, 1.6, 0.2],\n",
              "       [4.8, 3. , 1.4, 0.1],\n",
              "       [4.3, 3. , 1.1, 0.1],\n",
              "       [5.8, 4. , 1.2, 0.2],\n",
              "       [5.7, 4.4, 1.5, 0.4],\n",
              "       [5.4, 3.9, 1.3, 0.4],\n",
              "       [5.1, 3.5, 1.4, 0.3],\n",
              "       [5.7, 3.8, 1.7, 0.3],\n",
              "       [5.1, 3.8, 1.5, 0.3],\n",
              "       [5.4, 3.4, 1.7, 0.2],\n",
              "       [5.1, 3.7, 1.5, 0.4],\n",
              "       [4.6, 3.6, 1. , 0.2],\n",
              "       [5.1, 3.3, 1.7, 0.5],\n",
              "       [4.8, 3.4, 1.9, 0.2],\n",
              "       [5. , 3. , 1.6, 0.2],\n",
              "       [5. , 3.4, 1.6, 0.4],\n",
              "       [5.2, 3.5, 1.5, 0.2],\n",
              "       [5.2, 3.4, 1.4, 0.2],\n",
              "       [4.7, 3.2, 1.6, 0.2],\n",
              "       [4.8, 3.1, 1.6, 0.2],\n",
              "       [5.4, 3.4, 1.5, 0.4],\n",
              "       [5.2, 4.1, 1.5, 0.1],\n",
              "       [5.5, 4.2, 1.4, 0.2],\n",
              "       [4.9, 3.1, 1.5, 0.2],\n",
              "       [5. , 3.2, 1.2, 0.2],\n",
              "       [5.5, 3.5, 1.3, 0.2],\n",
              "       [4.9, 3.6, 1.4, 0.1],\n",
              "       [4.4, 3. , 1.3, 0.2],\n",
              "       [5.1, 3.4, 1.5, 0.2],\n",
              "       [5. , 3.5, 1.3, 0.3],\n",
              "       [4.5, 2.3, 1.3, 0.3],\n",
              "       [4.4, 3.2, 1.3, 0.2],\n",
              "       [5. , 3.5, 1.6, 0.6],\n",
              "       [5.1, 3.8, 1.9, 0.4],\n",
              "       [4.8, 3. , 1.4, 0.3],\n",
              "       [5.1, 3.8, 1.6, 0.2],\n",
              "       [4.6, 3.2, 1.4, 0.2],\n",
              "       [5.3, 3.7, 1.5, 0.2],\n",
              "       [5. , 3.3, 1.4, 0.2],\n",
              "       [7. , 3.2, 4.7, 1.4],\n",
              "       [6.4, 3.2, 4.5, 1.5],\n",
              "       [6.9, 3.1, 4.9, 1.5],\n",
              "       [5.5, 2.3, 4. , 1.3],\n",
              "       [6.5, 2.8, 4.6, 1.5],\n",
              "       [5.7, 2.8, 4.5, 1.3],\n",
              "       [6.3, 3.3, 4.7, 1.6],\n",
              "       [4.9, 2.4, 3.3, 1. ],\n",
              "       [6.6, 2.9, 4.6, 1.3],\n",
              "       [5.2, 2.7, 3.9, 1.4],\n",
              "       [5. , 2. , 3.5, 1. ],\n",
              "       [5.9, 3. , 4.2, 1.5],\n",
              "       [6. , 2.2, 4. , 1. ],\n",
              "       [6.1, 2.9, 4.7, 1.4],\n",
              "       [5.6, 2.9, 3.6, 1.3],\n",
              "       [6.7, 3.1, 4.4, 1.4],\n",
              "       [5.6, 3. , 4.5, 1.5],\n",
              "       [5.8, 2.7, 4.1, 1. ],\n",
              "       [6.2, 2.2, 4.5, 1.5],\n",
              "       [5.6, 2.5, 3.9, 1.1],\n",
              "       [5.9, 3.2, 4.8, 1.8],\n",
              "       [6.1, 2.8, 4. , 1.3],\n",
              "       [6.3, 2.5, 4.9, 1.5],\n",
              "       [6.1, 2.8, 4.7, 1.2],\n",
              "       [6.4, 2.9, 4.3, 1.3],\n",
              "       [6.6, 3. , 4.4, 1.4],\n",
              "       [6.8, 2.8, 4.8, 1.4],\n",
              "       [6.7, 3. , 5. , 1.7],\n",
              "       [6. , 2.9, 4.5, 1.5],\n",
              "       [5.7, 2.6, 3.5, 1. ],\n",
              "       [5.5, 2.4, 3.8, 1.1],\n",
              "       [5.5, 2.4, 3.7, 1. ],\n",
              "       [5.8, 2.7, 3.9, 1.2],\n",
              "       [6. , 2.7, 5.1, 1.6],\n",
              "       [5.4, 3. , 4.5, 1.5],\n",
              "       [6. , 3.4, 4.5, 1.6],\n",
              "       [6.7, 3.1, 4.7, 1.5],\n",
              "       [6.3, 2.3, 4.4, 1.3],\n",
              "       [5.6, 3. , 4.1, 1.3],\n",
              "       [5.5, 2.5, 4. , 1.3],\n",
              "       [5.5, 2.6, 4.4, 1.2],\n",
              "       [6.1, 3. , 4.6, 1.4],\n",
              "       [5.8, 2.6, 4. , 1.2],\n",
              "       [5. , 2.3, 3.3, 1. ],\n",
              "       [5.6, 2.7, 4.2, 1.3],\n",
              "       [5.7, 3. , 4.2, 1.2],\n",
              "       [5.7, 2.9, 4.2, 1.3],\n",
              "       [6.2, 2.9, 4.3, 1.3],\n",
              "       [5.1, 2.5, 3. , 1.1],\n",
              "       [5.7, 2.8, 4.1, 1.3],\n",
              "       [6.3, 3.3, 6. , 2.5],\n",
              "       [5.8, 2.7, 5.1, 1.9],\n",
              "       [7.1, 3. , 5.9, 2.1],\n",
              "       [6.3, 2.9, 5.6, 1.8],\n",
              "       [6.5, 3. , 5.8, 2.2],\n",
              "       [7.6, 3. , 6.6, 2.1],\n",
              "       [4.9, 2.5, 4.5, 1.7],\n",
              "       [7.3, 2.9, 6.3, 1.8],\n",
              "       [6.7, 2.5, 5.8, 1.8],\n",
              "       [7.2, 3.6, 6.1, 2.5],\n",
              "       [6.5, 3.2, 5.1, 2. ],\n",
              "       [6.4, 2.7, 5.3, 1.9],\n",
              "       [6.8, 3. , 5.5, 2.1],\n",
              "       [5.7, 2.5, 5. , 2. ],\n",
              "       [5.8, 2.8, 5.1, 2.4],\n",
              "       [6.4, 3.2, 5.3, 2.3],\n",
              "       [6.5, 3. , 5.5, 1.8],\n",
              "       [7.7, 3.8, 6.7, 2.2],\n",
              "       [7.7, 2.6, 6.9, 2.3],\n",
              "       [6. , 2.2, 5. , 1.5],\n",
              "       [6.9, 3.2, 5.7, 2.3],\n",
              "       [5.6, 2.8, 4.9, 2. ],\n",
              "       [7.7, 2.8, 6.7, 2. ],\n",
              "       [6.3, 2.7, 4.9, 1.8],\n",
              "       [6.7, 3.3, 5.7, 2.1],\n",
              "       [7.2, 3.2, 6. , 1.8],\n",
              "       [6.2, 2.8, 4.8, 1.8],\n",
              "       [6.1, 3. , 4.9, 1.8],\n",
              "       [6.4, 2.8, 5.6, 2.1],\n",
              "       [7.2, 3. , 5.8, 1.6],\n",
              "       [7.4, 2.8, 6.1, 1.9],\n",
              "       [7.9, 3.8, 6.4, 2. ],\n",
              "       [6.4, 2.8, 5.6, 2.2],\n",
              "       [6.3, 2.8, 5.1, 1.5],\n",
              "       [6.1, 2.6, 5.6, 1.4],\n",
              "       [7.7, 3. , 6.1, 2.3],\n",
              "       [6.3, 3.4, 5.6, 2.4],\n",
              "       [6.4, 3.1, 5.5, 1.8],\n",
              "       [6. , 3. , 4.8, 1.8],\n",
              "       [6.9, 3.1, 5.4, 2.1],\n",
              "       [6.7, 3.1, 5.6, 2.4],\n",
              "       [6.9, 3.1, 5.1, 2.3],\n",
              "       [5.8, 2.7, 5.1, 1.9],\n",
              "       [6.8, 3.2, 5.9, 2.3],\n",
              "       [6.7, 3.3, 5.7, 2.5],\n",
              "       [6.7, 3. , 5.2, 2.3],\n",
              "       [6.3, 2.5, 5. , 1.9],\n",
              "       [6.5, 3. , 5.2, 2. ],\n",
              "       [6.2, 3.4, 5.4, 2.3],\n",
              "       [5.9, 3. , 5.1, 1.8]])"
            ]
          },
          "metadata": {
            "tags": []
          },
          "execution_count": 74
        }
      ]
    },
    {
      "cell_type": "code",
      "metadata": {
        "colab": {
          "base_uri": "https://localhost:8080/"
        },
        "id": "d5jaW40clNOV",
        "outputId": "a7f80753-a0b3-4a21-d62b-7ad02c172a3e"
      },
      "source": [
        "type(iris_dataset['data'])"
      ],
      "execution_count": null,
      "outputs": [
        {
          "output_type": "execute_result",
          "data": {
            "text/plain": [
              "numpy.ndarray"
            ]
          },
          "metadata": {
            "tags": []
          },
          "execution_count": 75
        }
      ]
    },
    {
      "cell_type": "code",
      "metadata": {
        "colab": {
          "base_uri": "https://localhost:8080/"
        },
        "id": "yNosN95AlZxV",
        "outputId": "29a23f94-6cf7-4a32-9e31-bb13389f0218"
      },
      "source": [
        "iris_dataset['data'].shape # 150개의 데이터 셋, 4개의 culumns"
      ],
      "execution_count": null,
      "outputs": [
        {
          "output_type": "execute_result",
          "data": {
            "text/plain": [
              "(150, 4)"
            ]
          },
          "metadata": {
            "tags": []
          },
          "execution_count": 76
        }
      ]
    },
    {
      "cell_type": "code",
      "metadata": {
        "colab": {
          "base_uri": "https://localhost:8080/"
        },
        "id": "x_9eOzcxlkAm",
        "outputId": "98d6d768-6a17-4f26-bbf4-3c68565601dd"
      },
      "source": [
        "print('First five rows of data:\\n', iris_dataset['data'][:5])"
      ],
      "execution_count": null,
      "outputs": [
        {
          "output_type": "stream",
          "text": [
            "First five rows of data:\n",
            " [[5.1 3.5 1.4 0.2]\n",
            " [4.9 3.  1.4 0.2]\n",
            " [4.7 3.2 1.3 0.2]\n",
            " [4.6 3.1 1.5 0.2]\n",
            " [5.  3.6 1.4 0.2]]\n"
          ],
          "name": "stdout"
        }
      ]
    },
    {
      "cell_type": "code",
      "metadata": {
        "colab": {
          "base_uri": "https://localhost:8080/"
        },
        "id": "zp7-qduMmF2A",
        "outputId": "dc694ad5-6210-4f10-8719-ebe134d7f957"
      },
      "source": [
        "print('Shape of target:', iris_dataset['target'].shape)"
      ],
      "execution_count": null,
      "outputs": [
        {
          "output_type": "stream",
          "text": [
            "Shape of target: (150,)\n"
          ],
          "name": "stdout"
        }
      ]
    },
    {
      "cell_type": "code",
      "metadata": {
        "colab": {
          "base_uri": "https://localhost:8080/"
        },
        "id": "0kvhD8m9mXS0",
        "outputId": "f793b719-5615-47db-929c-d9d4cb1fc143"
      },
      "source": [
        "print('Target:\\n', iris_dataset['target'])"
      ],
      "execution_count": null,
      "outputs": [
        {
          "output_type": "stream",
          "text": [
            "Target:\n",
            " [0 0 0 0 0 0 0 0 0 0 0 0 0 0 0 0 0 0 0 0 0 0 0 0 0 0 0 0 0 0 0 0 0 0 0 0 0\n",
            " 0 0 0 0 0 0 0 0 0 0 0 0 0 1 1 1 1 1 1 1 1 1 1 1 1 1 1 1 1 1 1 1 1 1 1 1 1\n",
            " 1 1 1 1 1 1 1 1 1 1 1 1 1 1 1 1 1 1 1 1 1 1 1 1 1 1 2 2 2 2 2 2 2 2 2 2 2\n",
            " 2 2 2 2 2 2 2 2 2 2 2 2 2 2 2 2 2 2 2 2 2 2 2 2 2 2 2 2 2 2 2 2 2 2 2 2 2\n",
            " 2 2]\n"
          ],
          "name": "stdout"
        }
      ]
    },
    {
      "cell_type": "markdown",
      "metadata": {
        "id": "WDUsWiw4qb-B"
      },
      "source": [
        "### Training and Testing Data"
      ]
    },
    {
      "cell_type": "code",
      "metadata": {
        "id": "EF9sFj84mqKB"
      },
      "source": [
        "from sklearn.model_selection import train_test_split"
      ],
      "execution_count": null,
      "outputs": []
    },
    {
      "cell_type": "code",
      "metadata": {
        "id": "Ofd1Vh0kq3Lu"
      },
      "source": [
        "X_train, X_test, y_train, y_test = train_test_split(\n",
        "                                           iris_dataset['data'],\n",
        "                                           iris_dataset['target'],\n",
        "                                           random_state=0)\n",
        "\n",
        "#학습용 data, 테스트용 data, 학습용 target, 테스트용 target 순으로 나옴"
      ],
      "execution_count": null,
      "outputs": []
    },
    {
      "cell_type": "code",
      "metadata": {
        "colab": {
          "base_uri": "https://localhost:8080/"
        },
        "id": "Xa4AL14lrnS5",
        "outputId": "d91d45c1-564b-4dfa-abb1-b2ca0cde46d9"
      },
      "source": [
        "print('X_train shape:', X_train.shape)\n",
        "print('y_train shape:', y_train.shape)"
      ],
      "execution_count": null,
      "outputs": [
        {
          "output_type": "stream",
          "text": [
            "X_train shape: (112, 4)\n",
            "y_train shape: (112,)\n"
          ],
          "name": "stdout"
        }
      ]
    },
    {
      "cell_type": "code",
      "metadata": {
        "colab": {
          "base_uri": "https://localhost:8080/"
        },
        "id": "xV2mdEv3szFv",
        "outputId": "0a195962-9bff-4ad0-db37-d56440b6b3cd"
      },
      "source": [
        "print('X_test shape', X_test.shape)\n",
        "print('y_test shape', y_test.shape)"
      ],
      "execution_count": null,
      "outputs": [
        {
          "output_type": "stream",
          "text": [
            "X_test shape (38, 4)\n",
            "y_test shape (38,)\n"
          ],
          "name": "stdout"
        }
      ]
    },
    {
      "cell_type": "markdown",
      "metadata": {
        "id": "_pKvqlDhtw0f"
      },
      "source": [
        "#### Building Your First Model: k-Nearest Neighbors"
      ]
    },
    {
      "cell_type": "code",
      "metadata": {
        "id": "tLU2y34htGbk"
      },
      "source": [
        "from sklearn.neighbors import KNeighborsClassifier"
      ],
      "execution_count": null,
      "outputs": []
    },
    {
      "cell_type": "code",
      "metadata": {
        "id": "WIhffylFvg2F"
      },
      "source": [
        "knn = KNeighborsClassifier(n_neighbors=1)\n",
        "# 합의 알고리즘 : 자기 지점에서 가까운 것이 지정값(위에는 '1개')라도 있으면 포함, 값은 홀수로 준다."
      ],
      "execution_count": null,
      "outputs": []
    },
    {
      "cell_type": "markdown",
      "metadata": {
        "id": "FF8HuVttxuge"
      },
      "source": [
        "- Overfit 과대접합\n",
        "- Underfit 과소접합"
      ]
    },
    {
      "cell_type": "code",
      "metadata": {
        "colab": {
          "base_uri": "https://localhost:8080/"
        },
        "id": "6-ZR_ldAvzM-",
        "outputId": "ed9f551b-c512-4630-e446-e5a5fbb0e5ca"
      },
      "source": [
        "knn.fit(X_train, y_train)"
      ],
      "execution_count": null,
      "outputs": [
        {
          "output_type": "execute_result",
          "data": {
            "text/plain": [
              "KNeighborsClassifier(algorithm='auto', leaf_size=30, metric='minkowski',\n",
              "                     metric_params=None, n_jobs=None, n_neighbors=1, p=2,\n",
              "                     weights='uniform')"
            ]
          },
          "metadata": {
            "tags": []
          },
          "execution_count": 86
        }
      ]
    },
    {
      "cell_type": "markdown",
      "metadata": {
        "id": "bBpbDu_Ayoen"
      },
      "source": [
        "## Making Predictions (예측 만들기)"
      ]
    },
    {
      "cell_type": "code",
      "metadata": {
        "colab": {
          "base_uri": "https://localhost:8080/"
        },
        "id": "MkKKRyxbEATW",
        "outputId": "40797302-d7df-42d3-871f-85e98b121054"
      },
      "source": [
        "y_pred = knn.predict(X_test)\n",
        "print('Test set predictions:\\n', y_pred)"
      ],
      "execution_count": null,
      "outputs": [
        {
          "output_type": "stream",
          "text": [
            "Test set predictions:\n",
            " [2 1 0 2 0 2 0 1 1 1 2 1 1 1 1 0 1 1 0 0 2 1 0 0 2 0 0 1 1 0 2 1 0 2 2 1 0\n",
            " 2]\n"
          ],
          "name": "stdout"
        }
      ]
    },
    {
      "cell_type": "code",
      "metadata": {
        "colab": {
          "base_uri": "https://localhost:8080/"
        },
        "id": "B917j27IE-GJ",
        "outputId": "7727b49a-6c74-4300-ab85-1ce6fa8b2889"
      },
      "source": [
        "print('Test set score: ', np.mean(y_pred == y_test))"
      ],
      "execution_count": null,
      "outputs": [
        {
          "output_type": "stream",
          "text": [
            "Test set score:  0.9736842105263158\n"
          ],
          "name": "stdout"
        }
      ]
    },
    {
      "cell_type": "code",
      "metadata": {
        "colab": {
          "base_uri": "https://localhost:8080/"
        },
        "id": "RyOcIKBNFkpT",
        "outputId": "2c935aa2-7665-41c1-8315-a8843aa5504f"
      },
      "source": [
        "X_new = np.array([[5, 2.9, 1, 0.2]])\n",
        "print('X_new.shape: ', X_new.shape)"
      ],
      "execution_count": null,
      "outputs": [
        {
          "output_type": "stream",
          "text": [
            "X_new.shape:  (1, 4)\n"
          ],
          "name": "stdout"
        }
      ]
    },
    {
      "cell_type": "code",
      "metadata": {
        "id": "GJEDTKMUGsY2"
      },
      "source": [
        "prediction = knn.predict(X_new)"
      ],
      "execution_count": null,
      "outputs": []
    },
    {
      "cell_type": "code",
      "metadata": {
        "colab": {
          "base_uri": "https://localhost:8080/"
        },
        "id": "XJjghOPGG4hq",
        "outputId": "1395ca5e-79cd-45e2-a48c-55c5419bd4ae"
      },
      "source": [
        "print('Prediction:', prediction)\n",
        "print('Prediction target name: ', iris_dataset['target_names'][prediction])"
      ],
      "execution_count": null,
      "outputs": [
        {
          "output_type": "stream",
          "text": [
            "Prediction: [0]\n",
            "Prediction target name:  ['setosa']\n"
          ],
          "name": "stdout"
        }
      ]
    },
    {
      "cell_type": "code",
      "metadata": {
        "colab": {
          "base_uri": "https://localhost:8080/"
        },
        "id": "3xeKIqa-IumQ",
        "outputId": "7352c588-621e-43c9-98a4-c4c8cecf1986"
      },
      "source": [
        "!pip install mglearn"
      ],
      "execution_count": null,
      "outputs": [
        {
          "output_type": "stream",
          "text": [
            "Requirement already satisfied: mglearn in /usr/local/lib/python3.7/dist-packages (0.1.9)\n",
            "Requirement already satisfied: joblib in /usr/local/lib/python3.7/dist-packages (from mglearn) (1.0.1)\n",
            "Requirement already satisfied: numpy in /usr/local/lib/python3.7/dist-packages (from mglearn) (1.19.5)\n",
            "Requirement already satisfied: imageio in /usr/local/lib/python3.7/dist-packages (from mglearn) (2.4.1)\n",
            "Requirement already satisfied: cycler in /usr/local/lib/python3.7/dist-packages (from mglearn) (0.10.0)\n",
            "Requirement already satisfied: pillow in /usr/local/lib/python3.7/dist-packages (from mglearn) (7.1.2)\n",
            "Requirement already satisfied: scikit-learn in /usr/local/lib/python3.7/dist-packages (from mglearn) (0.22.2.post1)\n",
            "Requirement already satisfied: pandas in /usr/local/lib/python3.7/dist-packages (from mglearn) (1.1.5)\n",
            "Requirement already satisfied: matplotlib in /usr/local/lib/python3.7/dist-packages (from mglearn) (3.2.2)\n",
            "Requirement already satisfied: six in /usr/local/lib/python3.7/dist-packages (from cycler->mglearn) (1.15.0)\n",
            "Requirement already satisfied: scipy>=0.17.0 in /usr/local/lib/python3.7/dist-packages (from scikit-learn->mglearn) (1.4.1)\n",
            "Requirement already satisfied: pytz>=2017.2 in /usr/local/lib/python3.7/dist-packages (from pandas->mglearn) (2018.9)\n",
            "Requirement already satisfied: python-dateutil>=2.7.3 in /usr/local/lib/python3.7/dist-packages (from pandas->mglearn) (2.8.1)\n",
            "Requirement already satisfied: pyparsing!=2.0.4,!=2.1.2,!=2.1.6,>=2.0.1 in /usr/local/lib/python3.7/dist-packages (from matplotlib->mglearn) (2.4.7)\n",
            "Requirement already satisfied: kiwisolver>=1.0.1 in /usr/local/lib/python3.7/dist-packages (from matplotlib->mglearn) (1.3.1)\n"
          ],
          "name": "stdout"
        }
      ]
    },
    {
      "cell_type": "code",
      "metadata": {
        "id": "Wm6CYZh-HFmn"
      },
      "source": [
        "import mglearn"
      ],
      "execution_count": null,
      "outputs": []
    },
    {
      "cell_type": "markdown",
      "metadata": {
        "id": "-pwxNfXMIgKB"
      },
      "source": [
        "# Supervised Machine Learning Algorithms"
      ]
    },
    {
      "cell_type": "code",
      "metadata": {
        "colab": {
          "base_uri": "https://localhost:8080/"
        },
        "id": "O6DCzQRTLhX1",
        "outputId": "5e2defec-c2c7-4c24-f22f-1bc11b928c78"
      },
      "source": [
        "X, y = mglearn.datasets.make_forge()"
      ],
      "execution_count": null,
      "outputs": [
        {
          "output_type": "stream",
          "text": [
            "/usr/local/lib/python3.7/dist-packages/sklearn/utils/deprecation.py:87: FutureWarning: Function make_blobs is deprecated; Please import make_blobs directly from scikit-learn\n",
            "  warnings.warn(msg, category=FutureWarning)\n"
          ],
          "name": "stderr"
        }
      ]
    },
    {
      "cell_type": "code",
      "metadata": {
        "colab": {
          "base_uri": "https://localhost:8080/",
          "height": 296
        },
        "id": "e12xEg6rL_n6",
        "outputId": "ad3e4280-90ad-4f9f-d7b2-44a1eec8ac8b"
      },
      "source": [
        "mglearn.discrete_scatter(X[:,0],X[:,1],y)\n",
        "plt.legend(['Class 0', 'Class 1'])\n",
        "plt.xlabel('First feature')\n",
        "plt.ylabel('Second feature')\n",
        "print('X.Shape:', X.shape)"
      ],
      "execution_count": null,
      "outputs": [
        {
          "output_type": "stream",
          "text": [
            "X.Shape: (26, 2)\n"
          ],
          "name": "stdout"
        },
        {
          "output_type": "display_data",
          "data": {
            "image/png": "[encoded data removed]",
            "text/plain": [
              "<Figure size 432x288 with 1 Axes>"
            ]
          },
          "metadata": {
            "tags": [],
            "needs_background": "light"
          }
        }
      ]
    },
    {
      "cell_type": "code",
      "metadata": {
        "id": "QpnTe8JoNWWz"
      },
      "source": [
        "X, y = mglearn.datasets.make_wave(n_samples=40)"
      ],
      "execution_count": null,
      "outputs": []
    },
    {
      "cell_type": "code",
      "metadata": {
        "colab": {
          "base_uri": "https://localhost:8080/",
          "height": 300
        },
        "id": "QE10RzauRcFv",
        "outputId": "96b577fe-3193-45e5-9f5d-904a27f6bde6"
      },
      "source": [
        "plt.plot(X, y, 'o')\n",
        "plt.ylim(-3,3)  # y축의 범위를 설정한다.\n",
        "plt.xlabel('Feature')\n",
        "plt.ylabel('Target')"
      ],
      "execution_count": null,
      "outputs": [
        {
          "output_type": "execute_result",
          "data": {
            "text/plain": [
              "Text(0, 0.5, 'Target')"
            ]
          },
          "metadata": {
            "tags": []
          },
          "execution_count": 97
        },
        {
          "output_type": "display_data",
          "data": {
            "image/png": "[encoded data removed]",
            "text/plain": [
              "<Figure size 432x288 with 1 Axes>"
            ]
          },
          "metadata": {
            "tags": [],
            "needs_background": "light"
          }
        }
      ]
    },
    {
      "cell_type": "code",
      "metadata": {
        "id": "iMUQq18qTXdd"
      },
      "source": [
        "# 유방암 종양의 임상 데이터 위스콘신(wisconsin Dreast Cancer)\n",
        "\n",
        "from sklearn.datasets import load_breast_cancer "
      ],
      "execution_count": null,
      "outputs": []
    },
    {
      "cell_type": "code",
      "metadata": {
        "colab": {
          "base_uri": "https://localhost:8080/"
        },
        "id": "JRit_XDYTzXf",
        "outputId": "4c260b2e-6433-4f45-d452-fb825a412a78"
      },
      "source": [
        "cancer = load_breast_cancer()\n",
        "print('cancer.keys():\\n', cancer.keys())"
      ],
      "execution_count": null,
      "outputs": [
        {
          "output_type": "stream",
          "text": [
            "cancer.keys():\n",
            " dict_keys(['data', 'target', 'target_names', 'DESCR', 'feature_names', 'filename'])\n"
          ],
          "name": "stdout"
        }
      ]
    },
    {
      "cell_type": "code",
      "metadata": {
        "colab": {
          "base_uri": "https://localhost:8080/"
        },
        "id": "u8n6CEXJT4UE",
        "outputId": "2cd0f2e6-4a4d-4c57-8e8e-bf74d6e9a359"
      },
      "source": [
        "print('Shape of cancer data', cancer.data.shape)"
      ],
      "execution_count": null,
      "outputs": [
        {
          "output_type": "stream",
          "text": [
            "Shape of cancer data (569, 30)\n"
          ],
          "name": "stdout"
        }
      ]
    },
    {
      "cell_type": "code",
      "metadata": {
        "colab": {
          "base_uri": "https://localhost:8080/"
        },
        "id": "TRI1xQtnUXHz",
        "outputId": "3575a82e-2f0d-4399-ff51-7a47cec92f09"
      },
      "source": [
        "print('Sample counts per class:\\n',\n",
        "      {n: v for n, v in zip(cancer.target_names, np.bincount(cancer.target))})\n",
        "# malignant = 악성종양, benign = 양성반응\n",
        "# 출력은 {} 딕셔너리 타입으로 출력\n",
        "# n 에는 target_names, v 에는 np.bincount(cancer.target) 값이 들어감"
      ],
      "execution_count": null,
      "outputs": [
        {
          "output_type": "stream",
          "text": [
            "Sample counts per class:\n",
            " {'malignant': 212, 'benign': 357}\n"
          ],
          "name": "stdout"
        }
      ]
    },
    {
      "cell_type": "code",
      "metadata": {
        "colab": {
          "base_uri": "https://localhost:8080/"
        },
        "id": "DrmkoOkZU49n",
        "outputId": "2a76b6af-1bd7-4ce9-af40-3b061ac3c1da"
      },
      "source": [
        "cancer.target_names"
      ],
      "execution_count": null,
      "outputs": [
        {
          "output_type": "execute_result",
          "data": {
            "text/plain": [
              "array(['malignant', 'benign'], dtype='<U9')"
            ]
          },
          "metadata": {
            "tags": []
          },
          "execution_count": 102
        }
      ]
    },
    {
      "cell_type": "code",
      "metadata": {
        "colab": {
          "base_uri": "https://localhost:8080/"
        },
        "id": "LkhIyVaAWMSj",
        "outputId": "f3441e2f-c040-46d9-afba-7a7d571c117c"
      },
      "source": [
        "print('Feature names:\\n', cancer.feature_names)"
      ],
      "execution_count": null,
      "outputs": [
        {
          "output_type": "stream",
          "text": [
            "Feature names:\n",
            " ['mean radius' 'mean texture' 'mean perimeter' 'mean area'\n",
            " 'mean smoothness' 'mean compactness' 'mean concavity'\n",
            " 'mean concave points' 'mean symmetry' 'mean fractal dimension'\n",
            " 'radius error' 'texture error' 'perimeter error' 'area error'\n",
            " 'smoothness error' 'compactness error' 'concavity error'\n",
            " 'concave points error' 'symmetry error' 'fractal dimension error'\n",
            " 'worst radius' 'worst texture' 'worst perimeter' 'worst area'\n",
            " 'worst smoothness' 'worst compactness' 'worst concavity'\n",
            " 'worst concave points' 'worst symmetry' 'worst fractal dimension']\n"
          ],
          "name": "stdout"
        }
      ]
    },
    {
      "cell_type": "code",
      "metadata": {
        "colab": {
          "base_uri": "https://localhost:8080/"
        },
        "id": "YHBmRqtRXR1v",
        "outputId": "63dd3749-0e5f-45af-a495-2de124c5a140"
      },
      "source": [
        "# 보스턴 주택 가격\n",
        "\n",
        "from sklearn.datasets import load_boston\n",
        "boston = load_boston()\n",
        "print('Data shape:', boston.data.shape)"
      ],
      "execution_count": null,
      "outputs": [
        {
          "output_type": "stream",
          "text": [
            "Data shape: (506, 13)\n"
          ],
          "name": "stdout"
        }
      ]
    },
    {
      "cell_type": "code",
      "metadata": {
        "colab": {
          "base_uri": "https://localhost:8080/"
        },
        "id": "3iopDsfFX5RP",
        "outputId": "8a364c71-5080-4642-8c1e-9e26b97416ef"
      },
      "source": [
        "boston['feature_names']"
      ],
      "execution_count": null,
      "outputs": [
        {
          "output_type": "execute_result",
          "data": {
            "text/plain": [
              "array(['CRIM', 'ZN', 'INDUS', 'CHAS', 'NOX', 'RM', 'AGE', 'DIS', 'RAD',\n",
              "       'TAX', 'PTRATIO', 'B', 'LSTAT'], dtype='<U7')"
            ]
          },
          "metadata": {
            "tags": []
          },
          "execution_count": 105
        }
      ]
    },
    {
      "cell_type": "markdown",
      "metadata": {
        "id": "QDSUAf2EYCgX"
      },
      "source": [
        "## k-Nearest Neighbors\n",
        "\n",
        "k-Neighbors classification\n",
        "\n",
        "최근접 알고리즘"
      ]
    },
    {
      "cell_type": "code",
      "metadata": {
        "colab": {
          "base_uri": "https://localhost:8080/",
          "height": 299
        },
        "id": "SF5PSV7YZtVD",
        "outputId": "791ac2c9-f601-4460-eb84-e2ffa27ffb0e"
      },
      "source": [
        "mglearn.plots.plot_knn_classification(n_neighbors=1)"
      ],
      "execution_count": null,
      "outputs": [
        {
          "output_type": "stream",
          "text": [
            "/usr/local/lib/python3.7/dist-packages/sklearn/utils/deprecation.py:87: FutureWarning: Function make_blobs is deprecated; Please import make_blobs directly from scikit-learn\n",
            "  warnings.warn(msg, category=FutureWarning)\n"
          ],
          "name": "stderr"
        },
        {
          "output_type": "display_data",
          "data": {
            "image/png": "[encoded data removed]",
            "text/plain": [
              "<Figure size 432x288 with 1 Axes>"
            ]
          },
          "metadata": {
            "tags": [],
            "needs_background": "light"
          }
        }
      ]
    },
    {
      "cell_type": "code",
      "metadata": {
        "colab": {
          "base_uri": "https://localhost:8080/",
          "height": 299
        },
        "id": "J725OE_-Z970",
        "outputId": "1a8e3217-2d14-4935-d291-fe4a64c4156a"
      },
      "source": [
        "mglearn.plots.plot_knn_classification(n_neighbors=3)"
      ],
      "execution_count": null,
      "outputs": [
        {
          "output_type": "stream",
          "text": [
            "/usr/local/lib/python3.7/dist-packages/sklearn/utils/deprecation.py:87: FutureWarning: Function make_blobs is deprecated; Please import make_blobs directly from scikit-learn\n",
            "  warnings.warn(msg, category=FutureWarning)\n"
          ],
          "name": "stderr"
        },
        {
          "output_type": "display_data",
          "data": {
            "image/png": "[encoded data removed]",
            "text/plain": [
              "<Figure size 432x288 with 1 Axes>"
            ]
          },
          "metadata": {
            "tags": [],
            "needs_background": "light"
          }
        }
      ]
    },
    {
      "cell_type": "code",
      "metadata": {
        "colab": {
          "base_uri": "https://localhost:8080/"
        },
        "id": "W_6mXWsWe7Hm",
        "outputId": "268ceb85-d9d7-48f5-ee10-1c31e5bef6f2"
      },
      "source": [
        "X, y = mglearn.datasets.make_forge()"
      ],
      "execution_count": null,
      "outputs": [
        {
          "output_type": "stream",
          "text": [
            "/usr/local/lib/python3.7/dist-packages/sklearn/utils/deprecation.py:87: FutureWarning: Function make_blobs is deprecated; Please import make_blobs directly from scikit-learn\n",
            "  warnings.warn(msg, category=FutureWarning)\n"
          ],
          "name": "stderr"
        }
      ]
    },
    {
      "cell_type": "code",
      "metadata": {
        "id": "yeH7MCtbf590"
      },
      "source": [
        "from sklearn.model_selection import train_test_split"
      ],
      "execution_count": null,
      "outputs": []
    },
    {
      "cell_type": "code",
      "metadata": {
        "id": "5eXTRbdqf7Bl"
      },
      "source": [
        "X_train, X_test, y_train, y_test = train_test_split(X, y, random_state=0)"
      ],
      "execution_count": null,
      "outputs": []
    },
    {
      "cell_type": "code",
      "metadata": {
        "id": "zocj3sAkgklz"
      },
      "source": [
        "from sklearn.neighbors import KNeighborsClassifier"
      ],
      "execution_count": null,
      "outputs": []
    },
    {
      "cell_type": "code",
      "metadata": {
        "id": "oUi5WktNg2w4"
      },
      "source": [
        "clf = KNeighborsClassifier(n_neighbors=3) # hyperparameter"
      ],
      "execution_count": null,
      "outputs": []
    },
    {
      "cell_type": "code",
      "metadata": {
        "colab": {
          "base_uri": "https://localhost:8080/"
        },
        "id": "rkoEPmg0hHLA",
        "outputId": "daa627ba-55df-49a5-a3aa-dec0e95476fb"
      },
      "source": [
        "clf.fit(X_train, y_train)"
      ],
      "execution_count": null,
      "outputs": [
        {
          "output_type": "execute_result",
          "data": {
            "text/plain": [
              "KNeighborsClassifier(algorithm='auto', leaf_size=30, metric='minkowski',\n",
              "                     metric_params=None, n_jobs=None, n_neighbors=3, p=2,\n",
              "                     weights='uniform')"
            ]
          },
          "metadata": {
            "tags": []
          },
          "execution_count": 113
        }
      ]
    },
    {
      "cell_type": "code",
      "metadata": {
        "colab": {
          "base_uri": "https://localhost:8080/"
        },
        "id": "zxkcOGmohWS4",
        "outputId": "9fba61e8-9c02-46db-a26f-c98278968282"
      },
      "source": [
        "print('Test set predictions:', clf.predict(X_test))"
      ],
      "execution_count": null,
      "outputs": [
        {
          "output_type": "stream",
          "text": [
            "Test set predictions: [1 0 1 0 1 0 0]\n"
          ],
          "name": "stdout"
        }
      ]
    },
    {
      "cell_type": "code",
      "metadata": {
        "colab": {
          "base_uri": "https://localhost:8080/"
        },
        "id": "_pj5rntZhmIs",
        "outputId": "84bd169f-dfc1-48bb-d965-2382e4ca087a"
      },
      "source": [
        "print('Test set accurancy:', clf.score(X_test, y_test))"
      ],
      "execution_count": null,
      "outputs": [
        {
          "output_type": "stream",
          "text": [
            "Test set accurancy: 0.8571428571428571\n"
          ],
          "name": "stdout"
        }
      ]
    },
    {
      "cell_type": "markdown",
      "metadata": {
        "id": "4dUtYuqeiIOu"
      },
      "source": [
        "## Analyzing KNeighborsClassifier"
      ]
    },
    {
      "cell_type": "code",
      "metadata": {
        "colab": {
          "base_uri": "https://localhost:8080/",
          "height": 197
        },
        "id": "_Cxj6jhWisQL",
        "outputId": "45ede359-9fa3-438b-fc9d-c3d72e4d2616"
      },
      "source": [
        "fig, axes = plt.subplots(1, 3, figsize = (10, 3))\n",
        "for n_neighbors, ax in zip([1,3,9],axes):\n",
        "    clf = KNeighborsClassifier(n_neighbors=n_neighbors).fit(X, y)\n",
        "\n",
        "    mglearn.plots.plot_2d_separator(clf, X, fill=True, ax=ax, alpha=0.4)\n",
        "    mglearn.discrete_scatter(X[:,0], X[:,1], y, ax=ax)"
      ],
      "execution_count": null,
      "outputs": [
        {
          "output_type": "display_data",
          "data": {
            "image/png": "[encoded data removed]",
            "text/plain": [
              "<Figure size 720x216 with 3 Axes>"
            ]
          },
          "metadata": {
            "tags": []
          }
        }
      ]
    },
    {
      "cell_type": "code",
      "metadata": {
        "id": "XundEVD0jCh0"
      },
      "source": [
        "from sklearn.datasets import load_breast_cancer\n",
        "cancer = load_breast_cancer()"
      ],
      "execution_count": null,
      "outputs": []
    },
    {
      "cell_type": "code",
      "metadata": {
        "id": "3k3O0U7cnszj"
      },
      "source": [
        "X_train, X_test, y_train, y_test = train_test_split(cancer.data, cancer.target, random_state=66)"
      ],
      "execution_count": null,
      "outputs": []
    },
    {
      "cell_type": "code",
      "metadata": {
        "id": "RjQOo-0ooLcf"
      },
      "source": [
        "training_accuracy = []\n",
        "test_accuracy = []\n",
        "\n",
        "neighbors_settings = range(1,11)"
      ],
      "execution_count": null,
      "outputs": []
    },
    {
      "cell_type": "code",
      "metadata": {
        "colab": {
          "base_uri": "https://localhost:8080/"
        },
        "id": "sv0IeR32sljz",
        "outputId": "aed55404-d4f5-4da3-bda2-9345a57c76ad"
      },
      "source": [
        "for n_neighbors in neighbors_settings:\n",
        "  print(n_neighbors)\n",
        "  clf = KNeighborsClassifier(n_neighbors=n_neighbors)\n",
        "  clf.fit(X_train, y_train)\n",
        "\n",
        "  # record training set accuracy\n",
        "  training_accuracy.append(clf.score(X_train, y_train))\n",
        "  # record test set accuracy  \n",
        "  test_accuracy.append(clf.score(X_test, y_test))"
      ],
      "execution_count": null,
      "outputs": [
        {
          "output_type": "stream",
          "text": [
            "1\n",
            "2\n",
            "3\n",
            "4\n",
            "5\n",
            "6\n",
            "7\n",
            "8\n",
            "9\n",
            "10\n"
          ],
          "name": "stdout"
        }
      ]
    },
    {
      "cell_type": "code",
      "metadata": {
        "colab": {
          "base_uri": "https://localhost:8080/",
          "height": 297
        },
        "id": "vArlpZPxs1pV",
        "outputId": "aeaf5bbc-3d5d-4841-e999-35e97d1e94f5"
      },
      "source": [
        "plt.plot(neighbors_settings, training_accuracy, label='training accuracy')\n",
        "plt.plot(neighbors_settings, test_accuracy, label='test accuracy')\n",
        "plt.xlabel('n_neighbors')\n",
        "plt.ylabel('Accuracy')\n",
        "plt.legend()"
      ],
      "execution_count": null,
      "outputs": [
        {
          "output_type": "execute_result",
          "data": {
            "text/plain": [
              "<matplotlib.legend.Legend at 0x7f1539c98810>"
            ]
          },
          "metadata": {
            "tags": []
          },
          "execution_count": 121
        },
        {
          "output_type": "display_data",
          "data": {
            "image/png": "[encoded data removed]",
            "text/plain": [
              "<Figure size 432x288 with 1 Axes>"
            ]
          },
          "metadata": {
            "tags": [],
            "needs_background": "light"
          }
        }
      ]
    },
    {
      "cell_type": "code",
      "metadata": {
        "id": "xgR26ULTvaZp"
      },
      "source": [
        "# 위 그래프에서는 x.n_neighbors = 3 이 가장 정확도가 높다."
      ],
      "execution_count": null,
      "outputs": []
    },
    {
      "cell_type": "markdown",
      "metadata": {
        "id": "s25ufo7KyTfA"
      },
      "source": [
        "## k-neighbors regression"
      ]
    },
    {
      "cell_type": "code",
      "metadata": {
        "colab": {
          "base_uri": "https://localhost:8080/",
          "height": 414
        },
        "id": "jsixmdyzyi_U",
        "outputId": "ba72741d-c2e8-4562-fede-32feed6b5b28"
      },
      "source": [
        "mglearn.plots.plot_knn_regression(n_neighbors=1)"
      ],
      "execution_count": null,
      "outputs": [
        {
          "output_type": "display_data",
          "data": {
            "image/png": "[encoded data removed]",
            "text/plain": [
              "<Figure size 720x432 with 1 Axes>"
            ]
          },
          "metadata": {
            "tags": [],
            "needs_background": "light"
          }
        }
      ]
    },
    {
      "cell_type": "code",
      "metadata": {
        "colab": {
          "base_uri": "https://localhost:8080/",
          "height": 414
        },
        "id": "OXkesdQoys65",
        "outputId": "f43f3f96-6e66-4168-9d95-ec56d4cb387d"
      },
      "source": [
        "mglearn.plots.plot_knn_regression(n_neighbors=3)"
      ],
      "execution_count": null,
      "outputs": [
        {
          "output_type": "display_data",
          "data": {
            "image/png": "[encoded data removed]",
            "text/plain": [
              "<Figure size 720x432 with 1 Axes>"
            ]
          },
          "metadata": {
            "tags": [],
            "needs_background": "light"
          }
        }
      ]
    },
    {
      "cell_type": "code",
      "metadata": {
        "id": "3Oojzz9d0CMv"
      },
      "source": [
        "from sklearn.neighbors import KNeighborsRegressor"
      ],
      "execution_count": null,
      "outputs": []
    },
    {
      "cell_type": "code",
      "metadata": {
        "colab": {
          "base_uri": "https://localhost:8080/"
        },
        "id": "PpclB00a1JwF",
        "outputId": "9ad94821-adc4-4ea5-9890-5261d1b80e41"
      },
      "source": [
        "X, y = mglearn.datasets.make_wave(n_samples=40)\n",
        "\n",
        "X_train, X_test, y_train, y_test = train_test_split(X, y, random_state=0)\n",
        "reg = KNeighborsRegressor(n_neighbors=3)\n",
        "reg.fit(X_train, y_train)"
      ],
      "execution_count": null,
      "outputs": [
        {
          "output_type": "execute_result",
          "data": {
            "text/plain": [
              "KNeighborsRegressor(algorithm='auto', leaf_size=30, metric='minkowski',\n",
              "                    metric_params=None, n_jobs=None, n_neighbors=3, p=2,\n",
              "                    weights='uniform')"
            ]
          },
          "metadata": {
            "tags": []
          },
          "execution_count": 126
        }
      ]
    },
    {
      "cell_type": "code",
      "metadata": {
        "colab": {
          "base_uri": "https://localhost:8080/"
        },
        "id": "8DHEL4ZC1yIg",
        "outputId": "74172402-ab97-4916-89a9-1f85530cc4d6"
      },
      "source": [
        "reg.predict(X_test)"
      ],
      "execution_count": null,
      "outputs": [
        {
          "output_type": "execute_result",
          "data": {
            "text/plain": [
              "array([-0.05396539,  0.35686046,  1.13671923, -1.89415682, -1.13881398,\n",
              "       -1.63113382,  0.35686046,  0.91241374, -0.44680446, -1.13881398])"
            ]
          },
          "metadata": {
            "tags": []
          },
          "execution_count": 127
        }
      ]
    },
    {
      "cell_type": "code",
      "metadata": {
        "colab": {
          "base_uri": "https://localhost:8080/"
        },
        "id": "6mp0zCBw19wI",
        "outputId": "68e4421a-8ca9-43f4-9ca3-70b2348c4ba2"
      },
      "source": [
        "reg.score(X_test, y_test)"
      ],
      "execution_count": null,
      "outputs": [
        {
          "output_type": "execute_result",
          "data": {
            "text/plain": [
              "0.8344172446249604"
            ]
          },
          "metadata": {
            "tags": []
          },
          "execution_count": 128
        }
      ]
    },
    {
      "cell_type": "markdown",
      "metadata": {
        "id": "DDwhCfL3mn4v"
      },
      "source": [
        "[Reshape<br>https://yganalyst.github.io/data_handling/memo_5/](https://yganalyst.github.io/data_handling/memo_5/)"
      ]
    },
    {
      "cell_type": "code",
      "metadata": {
        "id": "MKzWxNk92FaD"
      },
      "source": [
        "# 배열과 차원 변환"
      ],
      "execution_count": null,
      "outputs": []
    },
    {
      "cell_type": "markdown",
      "metadata": {
        "id": "MaBB9XzkmJez"
      },
      "source": [
        "# Analyzing KNeighborsRegressor"
      ]
    },
    {
      "cell_type": "code",
      "metadata": {
        "colab": {
          "base_uri": "https://localhost:8080/",
          "height": 310
        },
        "id": "i2BsOCQwpQ11",
        "outputId": "80491070-99a8-4839-c720-7b4eae3450cf"
      },
      "source": [
        "fig, axes = plt.subplots(1,3, figsize=(15,4))  # fig = 그림판 자체를 받아옴, axes = 축에 대한 데이터를 받아옴\n",
        "line = np.linspace(-3,3,1000).reshape(-1,1)\n",
        "\n",
        "for n_neighbors, ax in zip([1,3,9], axes):\n",
        "\n",
        "    reg = KNeighborsRegressor(n_neighbors = n_neighbors)\n",
        "    reg.fit(X_train, y_train)\n",
        "    ax.plot(line, reg.predict(line))\n",
        "\n",
        "    ax.plot(X_train, y_train, '^', markersize=8)\n",
        "    ax.plot(X_test, y_test, 'v', markersize=8)\n",
        "\n",
        "    ax.set_title('{} neighbor(s)\\n train score: {:.2f} test score:{:.2f}'.format(\n",
        "                n_neighbors,\n",
        "                reg.score(X_train, y_train),\n",
        "                reg.score(X_test, y_test)))\n",
        "    ax.set_xlabel('Feature')\n",
        "    ax.set_ylabel('Target')\n",
        "    ax.legend(['Model predictions','Training data/target','Test data/target'])"
      ],
      "execution_count": null,
      "outputs": [
        {
          "output_type": "display_data",
          "data": {
            "image/png": "[encoded data removed]",
            "text/plain": [
              "<Figure size 1080x288 with 3 Axes>"
            ]
          },
          "metadata": {
            "tags": [],
            "needs_background": "light"
          }
        }
      ]
    },
    {
      "cell_type": "markdown",
      "metadata": {
        "id": "flkfJnOaplna"
      },
      "source": [
        "# Linear Models (선형 모델)"
      ]
    },
    {
      "cell_type": "markdown",
      "metadata": {
        "id": "nDHVajAz2B-S"
      },
      "source": [
        "![Scikit-Learn algorithm_cheat_sheet](https://scikit-learn.org/stable/_static/ml_map.png)"
      ]
    },
    {
      "cell_type": "code",
      "metadata": {
        "colab": {
          "base_uri": "https://localhost:8080/",
          "height": 464
        },
        "id": "5vfh-U31y6uq",
        "outputId": "0e0cb661-d184-4540-8b88-ce212d508770"
      },
      "source": [
        "mglearn.plots.plot_linear_regression_wave()"
      ],
      "execution_count": null,
      "outputs": [
        {
          "output_type": "stream",
          "text": [
            "w[0]: 0.393906  b: -0.031804\n"
          ],
          "name": "stdout"
        },
        {
          "output_type": "display_data",
          "data": {
            "image/png": "[encoded data removed]",
            "text/plain": [
              "<Figure size 576x576 with 1 Axes>"
            ]
          },
          "metadata": {
            "tags": [],
            "needs_background": "light"
          }
        }
      ]
    },
    {
      "cell_type": "code",
      "metadata": {
        "id": "ErPqNjm_zgO2"
      },
      "source": [
        "from sklearn.linear_model import LinearRegression # 선형 회귀"
      ],
      "execution_count": null,
      "outputs": []
    },
    {
      "cell_type": "code",
      "metadata": {
        "id": "NnQ6rAwR2XZe"
      },
      "source": [
        "X, y = mglearn.datasets.make_wave(n_samples=60)"
      ],
      "execution_count": null,
      "outputs": []
    },
    {
      "cell_type": "code",
      "metadata": {
        "id": "PX5GnwbX2-6z"
      },
      "source": [
        "X_train, X_test, y_train, y_test = train_test_split(X, y, random_state=42)"
      ],
      "execution_count": null,
      "outputs": []
    },
    {
      "cell_type": "code",
      "metadata": {
        "id": "O2KXJh103id1"
      },
      "source": [
        "lr = LinearRegression() #(1)"
      ],
      "execution_count": null,
      "outputs": []
    },
    {
      "cell_type": "code",
      "metadata": {
        "colab": {
          "base_uri": "https://localhost:8080/"
        },
        "id": "HeQTXEMI3vDk",
        "outputId": "13215334-2f62-4ad8-f8d3-c4fb7a0c0438"
      },
      "source": [
        "lr.fit(X_train, y_train) #(2)\n",
        "# (1), (2) 축약 : lr = LinearRegression().fit(X_train, y_train)"
      ],
      "execution_count": null,
      "outputs": [
        {
          "output_type": "execute_result",
          "data": {
            "text/plain": [
              "LinearRegression(copy_X=True, fit_intercept=True, n_jobs=None, normalize=False)"
            ]
          },
          "metadata": {
            "tags": []
          },
          "execution_count": 136
        }
      ]
    },
    {
      "cell_type": "code",
      "metadata": {
        "colab": {
          "base_uri": "https://localhost:8080/"
        },
        "id": "y-6uX-V14glU",
        "outputId": "7917ad27-0864-49fd-902a-7b11bbb041e5"
      },
      "source": [
        "print('Training set score: ', lr.score(X_train, y_train))\n",
        "print('Test set score: ', lr.score(X_test, y_test))\n",
        "# 과소 접합 상태"
      ],
      "execution_count": null,
      "outputs": [
        {
          "output_type": "stream",
          "text": [
            "Training set score:  0.6700890315075756\n",
            "Test set score:  0.65933685968637\n"
          ],
          "name": "stdout"
        }
      ]
    },
    {
      "cell_type": "code",
      "metadata": {
        "id": "qZXG8kbJ5SOc"
      },
      "source": [
        "X, y = mglearn.datasets.load_extended_boston()"
      ],
      "execution_count": null,
      "outputs": []
    },
    {
      "cell_type": "code",
      "metadata": {
        "id": "eNawMsWh5oS_"
      },
      "source": [
        "X_train, X_test, y_train, y_test = train_test_split(X, y, random_state=0)"
      ],
      "execution_count": null,
      "outputs": []
    },
    {
      "cell_type": "code",
      "metadata": {
        "id": "FY3GuC9l6GdE"
      },
      "source": [
        "lr = LinearRegression()"
      ],
      "execution_count": null,
      "outputs": []
    },
    {
      "cell_type": "code",
      "metadata": {
        "colab": {
          "base_uri": "https://localhost:8080/"
        },
        "id": "zzDpwz9g6J8n",
        "outputId": "d0f9dac3-1773-45bd-b8bf-819df8c50706"
      },
      "source": [
        "lr.fit(X_train, y_train)"
      ],
      "execution_count": null,
      "outputs": [
        {
          "output_type": "execute_result",
          "data": {
            "text/plain": [
              "LinearRegression(copy_X=True, fit_intercept=True, n_jobs=None, normalize=False)"
            ]
          },
          "metadata": {
            "tags": []
          },
          "execution_count": 141
        }
      ]
    },
    {
      "cell_type": "code",
      "metadata": {
        "colab": {
          "base_uri": "https://localhost:8080/"
        },
        "id": "MKx0j5xo6Nsk",
        "outputId": "b6cb62e0-cded-4a94-abd4-34510dfe63bb"
      },
      "source": [
        "print('Training set score: ', lr.score(X_train, y_train))\n",
        "print('Test set score: ', lr.score(X_test, y_test))\n",
        "# Overfitting 과대 접합 상태"
      ],
      "execution_count": null,
      "outputs": [
        {
          "output_type": "stream",
          "text": [
            "Training set score:  0.9520519609032727\n",
            "Test set score:  0.607472195966557\n"
          ],
          "name": "stdout"
        }
      ]
    },
    {
      "cell_type": "markdown",
      "metadata": {
        "id": "eHbYFsw-6ei6"
      },
      "source": [
        "##### Ridge regression 리지 회귀\n",
        "\n",
        "리지 회귀는 과대접합이 되지 않도록 모델을 강제로 제한한다.\n",
        "linear_model.Ridge에 구현되어 있다."
      ]
    },
    {
      "cell_type": "code",
      "metadata": {
        "id": "YahFUghDMyr2"
      },
      "source": [
        "from sklearn.linear_model import Ridge"
      ],
      "execution_count": null,
      "outputs": []
    },
    {
      "cell_type": "code",
      "metadata": {
        "id": "yOXsK880Nisa"
      },
      "source": [
        "ridge = Ridge()"
      ],
      "execution_count": null,
      "outputs": []
    },
    {
      "cell_type": "code",
      "metadata": {
        "colab": {
          "base_uri": "https://localhost:8080/"
        },
        "id": "XWBvKTGANm51",
        "outputId": "167b40f8-77d7-4d2a-9ef3-6c3911c08739"
      },
      "source": [
        "# alpha 기본값 = 1\n",
        "ridge.fit(X_train, y_train)"
      ],
      "execution_count": null,
      "outputs": [
        {
          "output_type": "execute_result",
          "data": {
            "text/plain": [
              "Ridge(alpha=1.0, copy_X=True, fit_intercept=True, max_iter=None,\n",
              "      normalize=False, random_state=None, solver='auto', tol=0.001)"
            ]
          },
          "metadata": {
            "tags": []
          },
          "execution_count": 145
        }
      ]
    },
    {
      "cell_type": "code",
      "metadata": {
        "colab": {
          "base_uri": "https://localhost:8080/"
        },
        "id": "U5fgzVuWNtmq",
        "outputId": "663bf802-0553-4324-c15f-e3811120efa6"
      },
      "source": [
        "print('Training set score: ', ridge.score(X_train, y_train))\n",
        "print('Test set score: ', ridge.score(X_test, y_test))"
      ],
      "execution_count": null,
      "outputs": [
        {
          "output_type": "stream",
          "text": [
            "Training set score:  0.8857966585170941\n",
            "Test set score:  0.7527683481744751\n"
          ],
          "name": "stdout"
        }
      ]
    },
    {
      "cell_type": "code",
      "metadata": {
        "colab": {
          "base_uri": "https://localhost:8080/"
        },
        "id": "DX0Pu6JXOB69",
        "outputId": "b9609b59-ed6e-46c5-ae8f-3e5ebb26dde6"
      },
      "source": [
        "# alpha = 10\n",
        "ridge10 = Ridge(alpha=10)\n",
        "ridge10.fit(X_train, y_train)"
      ],
      "execution_count": null,
      "outputs": [
        {
          "output_type": "execute_result",
          "data": {
            "text/plain": [
              "Ridge(alpha=10, copy_X=True, fit_intercept=True, max_iter=None, normalize=False,\n",
              "      random_state=None, solver='auto', tol=0.001)"
            ]
          },
          "metadata": {
            "tags": []
          },
          "execution_count": 147
        }
      ]
    },
    {
      "cell_type": "code",
      "metadata": {
        "colab": {
          "base_uri": "https://localhost:8080/"
        },
        "id": "iW4QSqbPOmYo",
        "outputId": "e112542d-34dd-4e79-a053-29dd151a45e7"
      },
      "source": [
        "print('Training set score: ', ridge10.score(X_train, y_train))\n",
        "print('Test set score: ', ridge10.score(X_test, y_test))"
      ],
      "execution_count": null,
      "outputs": [
        {
          "output_type": "stream",
          "text": [
            "Training set score:  0.7882787115369614\n",
            "Test set score:  0.6359411489177309\n"
          ],
          "name": "stdout"
        }
      ]
    },
    {
      "cell_type": "code",
      "metadata": {
        "colab": {
          "base_uri": "https://localhost:8080/"
        },
        "id": "LFEMYFpqO_3z",
        "outputId": "0cef3586-f878-4d16-af78-9fd2cc158b0a"
      },
      "source": [
        "# alpha = 0.1 / 결과 alpha = 0.1 이 더 정확한 결과를 나타냈다.\n",
        "ridge01 = Ridge(alpha=0.1).fit(X_train, y_train)\n",
        "\n",
        "print('Training set score: ', ridge01.score(X_train, y_train))\n",
        "print('Test set score: ', ridge01.score(X_test, y_test))"
      ],
      "execution_count": null,
      "outputs": [
        {
          "output_type": "stream",
          "text": [
            "Training set score:  0.9282273685001992\n",
            "Test set score:  0.7722067936479818\n"
          ],
          "name": "stdout"
        }
      ]
    },
    {
      "cell_type": "code",
      "metadata": {
        "colab": {
          "base_uri": "https://localhost:8080/",
          "height": 282
        },
        "id": "jmzHF8j1PpMw",
        "outputId": "f0963dfb-4ce2-4f8d-c9f2-4e5eb2a6783a"
      },
      "source": [
        "plt.plot(ridge.coef_, 's', label='Ridge alpha=1')\n",
        "plt.plot(ridge10.coef_, '^', label='Ridge alpha=10')\n",
        "plt.plot(ridge01.coef_, 'v', label='Ridge alpha=0.1')"
      ],
      "execution_count": null,
      "outputs": [
        {
          "output_type": "execute_result",
          "data": {
            "text/plain": [
              "[<matplotlib.lines.Line2D at 0x7f152f702410>]"
            ]
          },
          "metadata": {
            "tags": []
          },
          "execution_count": 150
        },
        {
          "output_type": "display_data",
          "data": {
            "image/png": "[encoded data removed]",
            "text/plain": [
              "<Figure size 432x288 with 1 Axes>"
            ]
          },
          "metadata": {
            "tags": [],
            "needs_background": "light"
          }
        }
      ]
    },
    {
      "cell_type": "code",
      "metadata": {
        "colab": {
          "base_uri": "https://localhost:8080/",
          "height": 325
        },
        "id": "OPltKfiiSFWm",
        "outputId": "738aabf1-54c3-4686-8973-c24c0dbee0e1"
      },
      "source": [
        "mglearn.plots.plot_ridge_n_samples()"
      ],
      "execution_count": null,
      "outputs": [
        {
          "output_type": "display_data",
          "data": {
            "image/png": "[encoded data removed]",
            "text/plain": [
              "<Figure size 432x288 with 1 Axes>"
            ]
          },
          "metadata": {
            "tags": [],
            "needs_background": "light"
          }
        }
      ]
    },
    {
      "cell_type": "markdown",
      "metadata": {
        "id": "gTmbbc3JTpP0"
      },
      "source": [
        "##### Lasso 라소\n",
        "\n",
        "라소는 Ridge의 대안으로 제시되며 특정 항목들은 제한이 0이 되면서 특성을 선택할 수 있게 해준다. 이는 모델의 특성을 노출하는데 도움이 된다."
      ]
    },
    {
      "cell_type": "code",
      "metadata": {
        "id": "D_E5SzzvoLOA"
      },
      "source": [
        "from sklearn.linear_model import Lasso"
      ],
      "execution_count": null,
      "outputs": []
    },
    {
      "cell_type": "code",
      "metadata": {
        "id": "meqHfoIkp9hj"
      },
      "source": [
        "lasso = Lasso()"
      ],
      "execution_count": null,
      "outputs": []
    },
    {
      "cell_type": "code",
      "metadata": {
        "colab": {
          "base_uri": "https://localhost:8080/"
        },
        "id": "ItLZ0vVWqPlb",
        "outputId": "cfe77121-d865-4c57-fec2-215dc96b73b1"
      },
      "source": [
        "lasso.fit(X_train, y_train)"
      ],
      "execution_count": null,
      "outputs": [
        {
          "output_type": "execute_result",
          "data": {
            "text/plain": [
              "Lasso(alpha=1.0, copy_X=True, fit_intercept=True, max_iter=1000,\n",
              "      normalize=False, positive=False, precompute=False, random_state=None,\n",
              "      selection='cyclic', tol=0.0001, warm_start=False)"
            ]
          },
          "metadata": {
            "tags": []
          },
          "execution_count": 154
        }
      ]
    },
    {
      "cell_type": "code",
      "metadata": {
        "colab": {
          "base_uri": "https://localhost:8080/"
        },
        "id": "8MFgluSrqWUn",
        "outputId": "b3ef9b37-c99a-4772-c388-38b1cd356b0e"
      },
      "source": [
        "print('Training set score: ', lasso.score(X_train, y_train))\n",
        "print('Test set score: ', lasso.score(X_test, y_test))\n",
        "print('Number of features used: ', np.sum(lasso.coef_!=0))"
      ],
      "execution_count": null,
      "outputs": [
        {
          "output_type": "stream",
          "text": [
            "Training set score:  0.29323768991114607\n",
            "Test set score:  0.20937503255272294\n",
            "Number of features used:  4\n"
          ],
          "name": "stdout"
        }
      ]
    },
    {
      "cell_type": "code",
      "metadata": {
        "colab": {
          "base_uri": "https://localhost:8080/"
        },
        "id": "NUK0dclaqq1v",
        "outputId": "fd1eaf50-8c6a-44c9-9a57-4756bc4ef137"
      },
      "source": [
        "X.shape"
      ],
      "execution_count": null,
      "outputs": [
        {
          "output_type": "execute_result",
          "data": {
            "text/plain": [
              "(506, 104)"
            ]
          },
          "metadata": {
            "tags": []
          },
          "execution_count": 156
        }
      ]
    },
    {
      "cell_type": "code",
      "metadata": {
        "id": "IU5SExGdrgXu"
      },
      "source": [
        "lasso001 = Lasso(alpha=0.01, max_iter=10000)  # max_iter = 반복횟수"
      ],
      "execution_count": null,
      "outputs": []
    },
    {
      "cell_type": "code",
      "metadata": {
        "colab": {
          "base_uri": "https://localhost:8080/"
        },
        "id": "BCIFc9Yqr5Dr",
        "outputId": "e19bef72-a2a3-40d3-f7dd-dbc0965e4a6a"
      },
      "source": [
        "lasso001.fit(X_train, y_train)"
      ],
      "execution_count": null,
      "outputs": [
        {
          "output_type": "execute_result",
          "data": {
            "text/plain": [
              "Lasso(alpha=0.01, copy_X=True, fit_intercept=True, max_iter=10000,\n",
              "      normalize=False, positive=False, precompute=False, random_state=None,\n",
              "      selection='cyclic', tol=0.0001, warm_start=False)"
            ]
          },
          "metadata": {
            "tags": []
          },
          "execution_count": 158
        }
      ]
    },
    {
      "cell_type": "code",
      "metadata": {
        "colab": {
          "base_uri": "https://localhost:8080/"
        },
        "id": "XTeMqB5Wr_Jh",
        "outputId": "1e9b1051-45b3-458f-b657-a0ca80d5d0da"
      },
      "source": [
        "print('Training set score: ', lasso001.score(X_train, y_train))\n",
        "print('Test set score: ', lasso001.score(X_test, y_test))\n",
        "print('Number of features used: ', np.sum(lasso001.coef_!=0))"
      ],
      "execution_count": null,
      "outputs": [
        {
          "output_type": "stream",
          "text": [
            "Training set score:  0.8962226511086497\n",
            "Test set score:  0.7656571174549982\n",
            "Number of features used:  33\n"
          ],
          "name": "stdout"
        }
      ]
    },
    {
      "cell_type": "code",
      "metadata": {
        "colab": {
          "base_uri": "https://localhost:8080/"
        },
        "id": "ZcB2DCHdsR9H",
        "outputId": "3e5dc8bf-7429-4395-b72b-8e16be239067"
      },
      "source": [
        "lasso00001 = Lasso(alpha=0.0001, max_iter=100000)\n",
        "lasso00001.fit(X_train, y_train)"
      ],
      "execution_count": null,
      "outputs": [
        {
          "output_type": "execute_result",
          "data": {
            "text/plain": [
              "Lasso(alpha=0.0001, copy_X=True, fit_intercept=True, max_iter=100000,\n",
              "      normalize=False, positive=False, precompute=False, random_state=None,\n",
              "      selection='cyclic', tol=0.0001, warm_start=False)"
            ]
          },
          "metadata": {
            "tags": []
          },
          "execution_count": 160
        }
      ]
    },
    {
      "cell_type": "code",
      "metadata": {
        "colab": {
          "base_uri": "https://localhost:8080/"
        },
        "id": "P7Vti0oatIsS",
        "outputId": "d41e1e3d-1766-4155-8f53-26c3c7fe59a2"
      },
      "source": [
        "print('Training set score: ', lasso00001.score(X_train, y_train))\n",
        "print('Test set score: ', lasso00001.score(X_test, y_test))\n",
        "print('Number of features used: ', np.sum(lasso00001.coef_!=0))"
      ],
      "execution_count": null,
      "outputs": [
        {
          "output_type": "stream",
          "text": [
            "Training set score:  0.9507158754515463\n",
            "Test set score:  0.6437467421272821\n",
            "Number of features used:  96\n"
          ],
          "name": "stdout"
        }
      ]
    },
    {
      "cell_type": "code",
      "metadata": {
        "colab": {
          "base_uri": "https://localhost:8080/",
          "height": 282
        },
        "id": "gfoGQFtntbFM",
        "outputId": "97669508-d9bb-4ae5-b381-96c29816814e"
      },
      "source": [
        "plt.plot(lasso.coef_,'s',label='Lasso alpha=1')\n",
        "plt.plot(lasso001.coef_,'^',label='Lasso alpha=0.01')\n",
        "plt.plot(lasso00001.coef_,'v',label='Lasso alpha=0.0001')"
      ],
      "execution_count": null,
      "outputs": [
        {
          "output_type": "execute_result",
          "data": {
            "text/plain": [
              "[<matplotlib.lines.Line2D at 0x7f152f612510>]"
            ]
          },
          "metadata": {
            "tags": []
          },
          "execution_count": 162
        },
        {
          "output_type": "display_data",
          "data": {
            "image/png": "[encoded data removed]",
            "text/plain": [
              "<Figure size 432x288 with 1 Axes>"
            ]
          },
          "metadata": {
            "tags": [],
            "needs_background": "light"
          }
        }
      ]
    },
    {
      "cell_type": "markdown",
      "metadata": {
        "id": "kDRjxlSov0DT"
      },
      "source": [
        "## Linear models for classification"
      ]
    },
    {
      "cell_type": "code",
      "metadata": {
        "id": "ZMP5E--QuQFE"
      },
      "source": [
        "from sklearn.linear_model import LogisticRegression\n",
        "from sklearn.svm import LinearSVC #(SVC : Support Vector Classifier)"
      ],
      "execution_count": null,
      "outputs": []
    },
    {
      "cell_type": "code",
      "metadata": {
        "colab": {
          "base_uri": "https://localhost:8080/"
        },
        "id": "fXQEWrfZxBuf",
        "outputId": "ab649942-6867-46cd-d169-679334bc190f"
      },
      "source": [
        "X, y = mglearn.datasets.make_forge()"
      ],
      "execution_count": null,
      "outputs": [
        {
          "output_type": "stream",
          "text": [
            "/usr/local/lib/python3.7/dist-packages/sklearn/utils/deprecation.py:87: FutureWarning: Function make_blobs is deprecated; Please import make_blobs directly from scikit-learn\n",
            "  warnings.warn(msg, category=FutureWarning)\n"
          ],
          "name": "stderr"
        }
      ]
    },
    {
      "cell_type": "code",
      "metadata": {
        "colab": {
          "base_uri": "https://localhost:8080/",
          "height": 247
        },
        "id": "IREE08haxnkT",
        "outputId": "9c6aa52c-c316-4360-a4e7-01edc31ddf92"
      },
      "source": [
        "fig, axes = plt.subplots(1,2,figsize=(10,3))\n",
        "for model, ax in zip([LinearSVC(), LogisticRegression()], axes):\n",
        "    clf = model.fit(X, y)\n",
        "\n",
        "    mglearn.plots.plot_2d_separator(clf, X, ax = ax)\n",
        "    mglearn.discrete_scatter(X[:, 0],X[:, 1], y, ax = ax)\n",
        "    ax.set_title(clf.__class__.__name__)"
      ],
      "execution_count": null,
      "outputs": [
        {
          "output_type": "stream",
          "text": [
            "/usr/local/lib/python3.7/dist-packages/sklearn/svm/_base.py:947: ConvergenceWarning: Liblinear failed to converge, increase the number of iterations.\n",
            "  \"the number of iterations.\", ConvergenceWarning)\n"
          ],
          "name": "stderr"
        },
        {
          "output_type": "display_data",
          "data": {
            "image/png": "[encoded data removed]",
            "text/plain": [
              "<Figure size 720x216 with 2 Axes>"
            ]
          },
          "metadata": {
            "tags": []
          }
        }
      ]
    },
    {
      "cell_type": "code",
      "metadata": {
        "colab": {
          "base_uri": "https://localhost:8080/",
          "height": 268
        },
        "id": "CGeEBs4e2R7o",
        "outputId": "2d8b55a1-3069-40c6-bd4a-25f7a90e8fbf"
      },
      "source": [
        "mglearn.plots.plot_linear_svc_regularization()"
      ],
      "execution_count": null,
      "outputs": [
        {
          "output_type": "display_data",
          "data": {
            "image/png": "[encoded data removed]",
            "text/plain": [
              "<Figure size 864x288 with 3 Axes>"
            ]
          },
          "metadata": {
            "tags": []
          }
        }
      ]
    },
    {
      "cell_type": "code",
      "metadata": {
        "id": "5RiOJoC04p3Y"
      },
      "source": [
        "from sklearn.datasets import load_breast_cancer"
      ],
      "execution_count": null,
      "outputs": []
    },
    {
      "cell_type": "code",
      "metadata": {
        "colab": {
          "base_uri": "https://localhost:8080/"
        },
        "id": "6Kaw851q5EqT",
        "outputId": "d7ec2a8d-aee6-487c-c126-10c7beee5c5c"
      },
      "source": [
        "cancer = load_breast_cancer()\n",
        "X_train, X_test, y_train, y_test = train_test_split(\n",
        "            cancer.data, cancer.target, stratify=cancer.target, random_state=42) #stratify = cancer.target / cancer.target을 균등하게 썪다.\n",
        "\n",
        "logreg = LogisticRegression()\n",
        "logreg.fit(X_train, y_train)"
      ],
      "execution_count": null,
      "outputs": [
        {
          "output_type": "stream",
          "text": [
            "/usr/local/lib/python3.7/dist-packages/sklearn/linear_model/_logistic.py:940: ConvergenceWarning: lbfgs failed to converge (status=1):\n",
            "STOP: TOTAL NO. of ITERATIONS REACHED LIMIT.\n",
            "\n",
            "Increase the number of iterations (max_iter) or scale the data as shown in:\n",
            "    https://scikit-learn.org/stable/modules/preprocessing.html\n",
            "Please also refer to the documentation for alternative solver options:\n",
            "    https://scikit-learn.org/stable/modules/linear_model.html#logistic-regression\n",
            "  extra_warning_msg=_LOGISTIC_SOLVER_CONVERGENCE_MSG)\n"
          ],
          "name": "stderr"
        },
        {
          "output_type": "execute_result",
          "data": {
            "text/plain": [
              "LogisticRegression(C=1.0, class_weight=None, dual=False, fit_intercept=True,\n",
              "                   intercept_scaling=1, l1_ratio=None, max_iter=100,\n",
              "                   multi_class='auto', n_jobs=None, penalty='l2',\n",
              "                   random_state=None, solver='lbfgs', tol=0.0001, verbose=0,\n",
              "                   warm_start=False)"
            ]
          },
          "metadata": {
            "tags": []
          },
          "execution_count": 168
        }
      ]
    },
    {
      "cell_type": "code",
      "metadata": {
        "colab": {
          "base_uri": "https://localhost:8080/"
        },
        "id": "QaqKd0tK5LGT",
        "outputId": "97f043aa-c0ed-4e4c-c5c2-909f62b0fbd9"
      },
      "source": [
        "print('Training set score: ', logreg.score(X_train, y_train))\n",
        "print('Test set score: ', logreg.score(X_test, y_test))"
      ],
      "execution_count": null,
      "outputs": [
        {
          "output_type": "stream",
          "text": [
            "Training set score:  0.9530516431924883\n",
            "Test set score:  0.958041958041958\n"
          ],
          "name": "stdout"
        }
      ]
    },
    {
      "cell_type": "code",
      "metadata": {
        "colab": {
          "base_uri": "https://localhost:8080/"
        },
        "id": "yubU8Lo-7iJV",
        "outputId": "b185a9bb-4c33-4569-d864-e2cdc7f02a9f"
      },
      "source": [
        "logreg100 = LogisticRegression(C=100).fit(X_train, y_train)"
      ],
      "execution_count": null,
      "outputs": [
        {
          "output_type": "stream",
          "text": [
            "/usr/local/lib/python3.7/dist-packages/sklearn/linear_model/_logistic.py:940: ConvergenceWarning: lbfgs failed to converge (status=1):\n",
            "STOP: TOTAL NO. of ITERATIONS REACHED LIMIT.\n",
            "\n",
            "Increase the number of iterations (max_iter) or scale the data as shown in:\n",
            "    https://scikit-learn.org/stable/modules/preprocessing.html\n",
            "Please also refer to the documentation for alternative solver options:\n",
            "    https://scikit-learn.org/stable/modules/linear_model.html#logistic-regression\n",
            "  extra_warning_msg=_LOGISTIC_SOLVER_CONVERGENCE_MSG)\n"
          ],
          "name": "stderr"
        }
      ]
    },
    {
      "cell_type": "code",
      "metadata": {
        "colab": {
          "base_uri": "https://localhost:8080/"
        },
        "id": "yL2shmQk7-FN",
        "outputId": "bdc0b2c6-0402-462f-cb0c-5b1ab6278274"
      },
      "source": [
        "print('Training set score: ', logreg100.score(X_train, y_train))\n",
        "print('Test set score: ', logreg100.score(X_test, y_test))"
      ],
      "execution_count": null,
      "outputs": [
        {
          "output_type": "stream",
          "text": [
            "Training set score:  0.9553990610328639\n",
            "Test set score:  0.9440559440559441\n"
          ],
          "name": "stdout"
        }
      ]
    },
    {
      "cell_type": "code",
      "metadata": {
        "colab": {
          "base_uri": "https://localhost:8080/"
        },
        "id": "9DobaBoM8FuO",
        "outputId": "40ca27e1-d296-43c8-862c-84788f3f6b06"
      },
      "source": [
        "logreg001 = LogisticRegression(C=0.01).fit(X_train, y_train)\n",
        "\n",
        "print('Training set score: ', logreg001.score(X_train, y_train))\n",
        "print('Test set score: ', logreg001.score(X_test, y_test))"
      ],
      "execution_count": null,
      "outputs": [
        {
          "output_type": "stream",
          "text": [
            "/usr/local/lib/python3.7/dist-packages/sklearn/linear_model/_logistic.py:940: ConvergenceWarning: lbfgs failed to converge (status=1):\n",
            "STOP: TOTAL NO. of ITERATIONS REACHED LIMIT.\n",
            "\n",
            "Increase the number of iterations (max_iter) or scale the data as shown in:\n",
            "    https://scikit-learn.org/stable/modules/preprocessing.html\n",
            "Please also refer to the documentation for alternative solver options:\n",
            "    https://scikit-learn.org/stable/modules/linear_model.html#logistic-regression\n",
            "  extra_warning_msg=_LOGISTIC_SOLVER_CONVERGENCE_MSG)\n"
          ],
          "name": "stderr"
        },
        {
          "output_type": "stream",
          "text": [
            "Training set score:  0.9342723004694836\n",
            "Test set score:  0.9300699300699301\n"
          ],
          "name": "stdout"
        }
      ]
    },
    {
      "cell_type": "code",
      "metadata": {
        "colab": {
          "base_uri": "https://localhost:8080/",
          "height": 282
        },
        "id": "OPcdWK5v9EFc",
        "outputId": "f9b4aff1-5510-4107-a482-8dd59e7bee8c"
      },
      "source": [
        "plt.plot(logreg.coef_.T, 'o', label='C=1')\n",
        "plt.plot(logreg100.coef_.T, '^', label='C=100')\n",
        "plt.plot(logreg001.coef_.T, 'v', label='C=0.01')"
      ],
      "execution_count": null,
      "outputs": [
        {
          "output_type": "execute_result",
          "data": {
            "text/plain": [
              "[<matplotlib.lines.Line2D at 0x7f1575513190>]"
            ]
          },
          "metadata": {
            "tags": []
          },
          "execution_count": 173
        },
        {
          "output_type": "display_data",
          "data": {
            "image/png": "[encoded data removed]",
            "text/plain": [
              "<Figure size 432x288 with 1 Axes>"
            ]
          },
          "metadata": {
            "tags": [],
            "needs_background": "light"
          }
        }
      ]
    },
    {
      "cell_type": "code",
      "metadata": {
        "colab": {
          "base_uri": "https://localhost:8080/",
          "height": 405
        },
        "id": "Omfx6If6-wqM",
        "outputId": "0e4cda94-67b4-4f15-f5b5-8c9890dfc0d7"
      },
      "source": [
        "plt.plot(logreg.coef_.T, 'o', label=\"C=1\")\n",
        "plt.plot(logreg100.coef_.T, '^', label=\"C=100\")\n",
        "plt.plot(logreg001.coef_.T, 'v', label=\"C=0.001\")\n",
        "plt.xticks(range(cancer.data.shape[1]), cancer.feature_names, rotation=90)  # xticks 각각의 항목에 이름을 붙이는 속성, rotation=90 글자를 90도 틀어서 출력\n",
        "xlims = plt.xlim()\n",
        "plt.hlines(0, xlims[0], xlims[1])\n",
        "plt.xlim(xlims)\n",
        "plt.ylim(-5, 5)\n",
        "plt.xlabel(\"Feature\")\n",
        "plt.ylabel(\"Coefficient magnitude\")\n",
        "plt.legend()"
      ],
      "execution_count": null,
      "outputs": [
        {
          "output_type": "execute_result",
          "data": {
            "text/plain": [
              "<matplotlib.legend.Legend at 0x7f1539bf4050>"
            ]
          },
          "metadata": {
            "tags": []
          },
          "execution_count": 174
        },
        {
          "output_type": "display_data",
          "data": {
            "image/png": "[encoded data removed]",
            "text/plain": [
              "<Figure size 432x288 with 1 Axes>"
            ]
          },
          "metadata": {
            "tags": [],
            "needs_background": "light"
          }
        }
      ]
    },
    {
      "cell_type": "code",
      "metadata": {
        "id": "qt6TozQO-JQb",
        "colab": {
          "base_uri": "https://localhost:8080/"
        },
        "outputId": "696d390b-5d8b-4e43-ef94-c8114622922a"
      },
      "source": [
        "cancer['feature_names']"
      ],
      "execution_count": null,
      "outputs": [
        {
          "output_type": "execute_result",
          "data": {
            "text/plain": [
              "array(['mean radius', 'mean texture', 'mean perimeter', 'mean area',\n",
              "       'mean smoothness', 'mean compactness', 'mean concavity',\n",
              "       'mean concave points', 'mean symmetry', 'mean fractal dimension',\n",
              "       'radius error', 'texture error', 'perimeter error', 'area error',\n",
              "       'smoothness error', 'compactness error', 'concavity error',\n",
              "       'concave points error', 'symmetry error',\n",
              "       'fractal dimension error', 'worst radius', 'worst texture',\n",
              "       'worst perimeter', 'worst area', 'worst smoothness',\n",
              "       'worst compactness', 'worst concavity', 'worst concave points',\n",
              "       'worst symmetry', 'worst fractal dimension'], dtype='<U23')"
            ]
          },
          "metadata": {
            "tags": []
          },
          "execution_count": 175
        }
      ]
    },
    {
      "cell_type": "markdown",
      "metadata": {
        "id": "AZsto_AwwHfZ"
      },
      "source": [
        "제약의 종류\n",
        " - L1 : Feature에 대한 제약을 말한다. (Max 반복값이 지정된다.)(ex: Rasso)\n",
        " - L2 : c는 학습량에 대한 제약을 말한다. ( ex : Ridge)"
      ]
    },
    {
      "cell_type": "code",
      "metadata": {
        "colab": {
          "base_uri": "https://localhost:8080/",
          "height": 507
        },
        "id": "PX6eQgDhv_mc",
        "outputId": "d6dd72fc-e584-4185-ac57-84707e0d7385"
      },
      "source": [
        "for C, marker in zip([0.001,1,100],['o','^','v']):\n",
        "    lr_l1 = LogisticRegression(C=C, solver='liblinear', penalty=\"l1\").fit(X_train, y_train)\n",
        "    print('Training accuracy of 11 logreg with C={:.3f} : {:.2f}'.format(\n",
        "        C, lr_l1.score(X_train, y_train)))\n",
        "    print('Test accuracy of 11 logreg with C={:.3f} : {:.2f}'.format(\n",
        "        C, lr_l1.score(X_test, y_test)))\n",
        "    plt.plot(lr_l1.coef_.T, marker, label='C={:.3f}'.format(C))\n",
        "# solver(최적화에 사용할 알고리즘 결정) : 'newton-cg', 'lbfgs', 'liblinear', 'sag', 'saga'\n",
        "\n",
        "plt.xticks(range(cancer.data.shape[1]), cancer.feature_names, rotation=90)\n",
        "xlims = plt.xlim()\n",
        "plt.hlines(0, xlims[0], xlims[1])\n",
        "plt.xlim(xlims)\n",
        "plt.xlabel(\"Feature\")\n",
        "plt.ylabel(\"Coefficient magnitude\")\n",
        "\n",
        "plt.ylim(-5, 5)\n",
        "plt.legend(loc=3)    "
      ],
      "execution_count": null,
      "outputs": [
        {
          "output_type": "stream",
          "text": [
            "Training accuracy of 11 logreg with C=0.001 : 0.91\n",
            "Test accuracy of 11 logreg with C=0.001 : 0.92\n",
            "Training accuracy of 11 logreg with C=1.000 : 0.96\n",
            "Test accuracy of 11 logreg with C=1.000 : 0.96\n",
            "Training accuracy of 11 logreg with C=100.000 : 0.99\n",
            "Test accuracy of 11 logreg with C=100.000 : 0.98\n"
          ],
          "name": "stdout"
        },
        {
          "output_type": "execute_result",
          "data": {
            "text/plain": [
              "<matplotlib.legend.Legend at 0x7f152ab7c2d0>"
            ]
          },
          "metadata": {
            "tags": []
          },
          "execution_count": 188
        },
        {
          "output_type": "display_data",
          "data": {
            "image/png": "[encoded data removed]",
            "text/plain": [
              "<Figure size 432x288 with 1 Axes>"
            ]
          },
          "metadata": {
            "tags": [],
            "needs_background": "light"
          }
        }
      ]
    },
    {
      "cell_type": "markdown",
      "metadata": {
        "id": "kkixGTz67KSP"
      },
      "source": [
        "### make_blobs"
      ]
    },
    {
      "cell_type": "code",
      "metadata": {
        "id": "3Ih053E3z5Tn"
      },
      "source": [
        "from sklearn.datasets import make_blobs"
      ],
      "execution_count": null,
      "outputs": []
    },
    {
      "cell_type": "code",
      "metadata": {
        "colab": {
          "base_uri": "https://localhost:8080/",
          "height": 296
        },
        "id": "kwBq9hOl7Itw",
        "outputId": "952a08c2-ce74-40be-ea9b-94832f23fd19"
      },
      "source": [
        "X, y = make_blobs(random_state=42)\n",
        "mglearn.discrete_scatter(X[:, 0], X[:, 1], y)\n",
        "plt.xlabel('Feature 0')\n",
        "plt.ylabel('Feature 1')\n",
        "plt.legend(['Class 0','Class 1','Class 2'])"
      ],
      "execution_count": null,
      "outputs": [
        {
          "output_type": "execute_result",
          "data": {
            "text/plain": [
              "<matplotlib.legend.Legend at 0x7f152aa21b90>"
            ]
          },
          "metadata": {
            "tags": []
          },
          "execution_count": 191
        },
        {
          "output_type": "display_data",
          "data": {
            "image/png": "[encoded data removed]",
            "text/plain": [
              "<Figure size 432x288 with 1 Axes>"
            ]
          },
          "metadata": {
            "tags": [],
            "needs_background": "light"
          }
        }
      ]
    },
    {
      "cell_type": "code",
      "metadata": {
        "colab": {
          "base_uri": "https://localhost:8080/"
        },
        "id": "_dEstKnf8mgE",
        "outputId": "f4a98687-0c75-4adc-8253-ade66c29c157"
      },
      "source": [
        "linear_svm = LinearSVC().fit(X,y)\n",
        "print(linear_svm.coef_.shape)\n",
        "print(linear_svm.intercept_.shape)"
      ],
      "execution_count": null,
      "outputs": [
        {
          "output_type": "stream",
          "text": [
            "(3, 2)\n",
            "(3,)\n"
          ],
          "name": "stdout"
        }
      ]
    },
    {
      "cell_type": "code",
      "metadata": {
        "colab": {
          "base_uri": "https://localhost:8080/"
        },
        "id": "j12nSRqZ-IJA",
        "outputId": "44b20360-d93c-4b95-d85a-35edff7520ea"
      },
      "source": [
        "linear_svm.coef_"
      ],
      "execution_count": null,
      "outputs": [
        {
          "output_type": "execute_result",
          "data": {
            "text/plain": [
              "array([[-0.17492323,  0.23141017],\n",
              "       [ 0.47621504, -0.06936522],\n",
              "       [-0.1891456 , -0.2039971 ]])"
            ]
          },
          "metadata": {
            "tags": []
          },
          "execution_count": 194
        }
      ]
    },
    {
      "cell_type": "code",
      "metadata": {
        "colab": {
          "base_uri": "https://localhost:8080/",
          "height": 265
        },
        "id": "qF1-X9pS_WKU",
        "outputId": "959d3999-40e2-4b9d-8c74-523861c98d84"
      },
      "source": [
        "mglearn.discrete_scatter(X[:,0],X[:,1], y)\n",
        "line = np.linspace(-15,15)\n",
        "\n",
        "for coef, intercept in zip(linear_svm.coef_, linear_svm.intercept_):\n",
        "    plt.plot(line, -(line * coef[0] + intercept) / coef[1])"
      ],
      "execution_count": null,
      "outputs": [
        {
          "output_type": "display_data",
          "data": {
            "image/png": "[encoded data removed]",
            "text/plain": [
              "<Figure size 432x288 with 1 Axes>"
            ]
          },
          "metadata": {
            "tags": [],
            "needs_background": "light"
          }
        }
      ]
    },
    {
      "cell_type": "code",
      "metadata": {
        "colab": {
          "base_uri": "https://localhost:8080/",
          "height": 279
        },
        "id": "4zF_Wigr-zuP",
        "outputId": "b373fad4-466d-44ab-e967-0afeb61d08f8"
      },
      "source": [
        "mglearn.plots.plot_2d_classification(linear_svm, X, alpha=0.7)\n",
        "mglearn.discrete_scatter(X[:,0],X[:,1], y)\n",
        "\n",
        "for coef, intercept in zip(linear_svm.coef_, linear_svm.intercept_):\n",
        "    plt.plot(line, -(line * coef[0] + intercept) / coef[1])\n",
        "\n",
        "plt.legend(['Class 0','Class 1','Class 2', 'Line class 0','Line class 1','Line class 2'],\n",
        "           loc = (1.01, 0.3))\n",
        "plt.xlabel('Feature 0')\n",
        "plt.ylabel('Feature 1')\n",
        "\n",
        "# loc 좌표 잡기 : 표의 가로축 끝 값이 1, 세로 축은 위가 0\n"
      ],
      "execution_count": null,
      "outputs": [
        {
          "output_type": "execute_result",
          "data": {
            "text/plain": [
              "Text(0, 0.5, 'Feature 1')"
            ]
          },
          "metadata": {
            "tags": []
          },
          "execution_count": 206
        },
        {
          "output_type": "display_data",
          "data": {
            "image/png": "[encoded data removed]",
            "text/plain": [
              "<Figure size 432x288 with 1 Axes>"
            ]
          },
          "metadata": {
            "tags": []
          }
        }
      ]
    },
    {
      "cell_type": "code",
      "metadata": {
        "id": "IcF0rOF3_G5u"
      },
      "source": [
        ""
      ],
      "execution_count": null,
      "outputs": []
    }
  ]
}